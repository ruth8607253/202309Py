{
 "cells": [
  {
   "cell_type": "markdown",
   "metadata": {},
   "source": [
    "# 函式 function\n",
    "## 自訂函式\n",
    "### 好處\n",
    "1. 可以在別處引用、重複使用的方法。\n",
    "2. 可以改變程式結構，讓你痛苦(ゝ∀･)b\n",
    "\n",
    "但用久其實還好，只是偶爾會找不到自己的函式寫在哪。寫的時候要記得照順序寫，如果要跟別人共用，可以在開頭寫一下順序，不然真的會想揍人。\n",
    "\n",
    "### 語法\n",
    "用`def *名稱():`開始，括號裡可以寫一些設定(參數:資料類型，用`,`隔開)。換行縮排裡寫的地方叫**「區域變數」，執行再寫一次`名稱(引數值也用`,`隔開)`即可。\n",
    "\n",
    "***名稱**：\n",
    "1. 不同函式不能取相同名稱\n",
    "2. 如果由>=2個字串組成：\n",
    "    1. hiHi：駝峰式命名法\n",
    "    2. hi_hi:底線命名法\n",
    "    3. Hi_hi：我自己習慣的寫法\n",
    "\n",
    "    我函式第一個字都會大寫，來區分函式(大寫)與變數(小寫)。我會盡可能只用一個字取名，不然會有換成中文的風險。\n",
    "\n",
    "****區域變數**：函式執行完後，區域變數裡的程式(aka.定義變數)就作廢(除非有寫`return()`)。"
   ]
  },
  {
   "cell_type": "code",
   "execution_count": 5,
   "metadata": {},
   "outputs": [
    {
     "name": "stdout",
     "output_type": "stream",
     "text": [
      "矩形面積：50\n"
     ]
    }
   ],
   "source": [
    "def Rect(width:int,height:int):\n",
    "    return width*height\n",
    "\n",
    "a=Rect(5,10)\n",
    "print(f\"矩形面積：{a}\")"
   ]
  },
  {
   "cell_type": "markdown",
   "metadata": {},
   "source": [
    "### 呼叫引數\n",
    "1. 不想寫引數名就要照順序。\n",
    "2. 如果有寫引數名，可以不用照順序。但寫了之後(的引數名、引數值)都要寫。"
   ]
  },
  {
   "cell_type": "code",
   "execution_count": 11,
   "metadata": {},
   "outputs": [
    {
     "name": "stdout",
     "output_type": "stream",
     "text": [
      "便當你主菜想要什麼?卡拉雞\n",
      "配菜呢？新疆菜、豆芽菜、高麗菜兩份\n"
     ]
    }
   ],
   "source": [
    "def Box_lunch(main:str,side1:str=\"三色豆\",side2:str=\"豆芽菜\",side3:str=\"高麗菜\"):\n",
    "    print(f\"便當你主菜想要什麼?{main}\\n配菜呢？{side1}、{side2}、{side3}\")\n",
    "\n",
    "Box_lunch(\"卡拉雞\",side3=\"高麗菜兩份\",side1=\"青江菜\")"
   ]
  },
  {
   "cell_type": "markdown",
   "metadata": {},
   "source": [
    "3. 全部呼叫用`*`"
   ]
  },
  {
   "cell_type": "code",
   "execution_count": 12,
   "metadata": {},
   "outputs": [
    {
     "name": "stdout",
     "output_type": "stream",
     "text": [
      "('蝦蟹貝品', '特選生食小砵', '生蠔', '加拿大黃金蟹', '松葉蟹', '台灣紅蟳', '日本A5和牛炙燒握壽司')\n"
     ]
    }
   ],
   "source": [
    "def buffet101(*food):\n",
    "    print(food)\n",
    "\n",
    "buffet101(\"蝦蟹貝品\",\"特選生食小砵\",\"生蠔\",\"加拿大黃金蟹\",\"松葉蟹\",\"台灣紅蟳\",\"日本A5和牛炙燒握壽司\")"
   ]
  },
  {
   "cell_type": "code",
   "execution_count": 13,
   "metadata": {},
   "outputs": [
    {
     "name": "stdout",
     "output_type": "stream",
     "text": [
      "{'a': '蝦蟹貝品', 'b': '特選生食小砵', 'c': '生蠔', 'd': '加拿大黃金蟹', 'e': '松葉蟹', 'f': '台灣紅蟳', 'g': '日本A5和牛炙燒握壽司'}\n"
     ]
    }
   ],
   "source": [
    "def buffet101(**food):\n",
    "    print(food)\n",
    "\n",
    "buffet101(a=\"蝦蟹貝品\",b=\"特選生食小砵\",c=\"生蠔\",d=\"加拿大黃金蟹\",e=\"松葉蟹\",f=\"台灣紅蟳\",g=\"日本A5和牛炙燒握壽司\")"
   ]
  },
  {
   "cell_type": "code",
   "execution_count": 19,
   "metadata": {},
   "outputs": [
    {
     "name": "stdout",
     "output_type": "stream",
     "text": [
      "Jason 23 False 70 170\n",
      "Jam 25 False None None\n"
     ]
    }
   ],
   "source": [
    "class Person1:\n",
    "    def __init__(self) -> None:\n",
    "        self.name=\"Jason\"\n",
    "        self.age=23\n",
    "        self.isMan=False\n",
    "        self.weight=70\n",
    "        self.height=170\n",
    "a=Person1()\n",
    "print(a.name,a.age,a.isMan,a.weight,a.height)\n",
    "\n",
    "def Person2():\n",
    "    name=\"Jam\"\n",
    "    age=25\n",
    "    isMan=False\n",
    "    weight=None\n",
    "    height=None\n",
    "    print(name,age,isMan,weight,height)\n",
    "Person2()"
   ]
  },
  {
   "cell_type": "code",
   "execution_count": null,
   "metadata": {},
   "outputs": [],
   "source": [
    "class Person3:\n",
    "    def __init__(self):\n",
    "        self.name=str\n",
    "        self.age=int\n",
    "        self.isMan=bool\n",
    "        self.weight=int\n",
    "        self.height=int\n",
    "def __repr__(self):\n",
    "    return f\"aaa,name={self.name}\"\n",
    "\n",
    "\n",
    "\n",
    "def __str__(self):\n",
    "    return f\"bbb\""
   ]
  }
 ],
 "metadata": {
  "kernelspec": {
   "display_name": ".venv",
   "language": "python",
   "name": "python3"
  },
  "language_info": {
   "codemirror_mode": {
    "name": "ipython",
    "version": 3
   },
   "file_extension": ".py",
   "mimetype": "text/x-python",
   "name": "python",
   "nbconvert_exporter": "python",
   "pygments_lexer": "ipython3",
   "version": "3.10.8"
  },
  "orig_nbformat": 4
 },
 "nbformat": 4,
 "nbformat_minor": 2
}
