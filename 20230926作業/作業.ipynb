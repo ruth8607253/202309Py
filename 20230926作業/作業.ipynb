{
 "cells": [
  {
   "cell_type": "markdown",
   "metadata": {},
   "source": [
    "# 20230926作業\n",
    "打香腸規則：\n",
    "1. 一次骰4個骰子\n",
    "2. 如果有2個相同的數字，則另外2數加總。 e.g.1123=5\n",
    "3. 如果有2對2個相同的數字，則較大對數加總。 e.g.1166=12\n",
    "4. 如果有3個相同的數字 && 4個數都不同，就「作廢」。 e.g.1234、3331=作廢\n",
    "5. 如果4個數皆相同，就「豹子」，比3.4.大。 e.g.3333\n",
    "\n",
    "打香腸流程：\n",
    "1. 跟香腸攤老闆比大小，如果都骰豹子，就看誰豹子數字大。\n",
    "2. 50塊1局，贏的話得2根香腸。\n",
    "    1. 可以拿2根去賭，如果賭贏得翻倍(香腸)，輸了就都沒有。\n",
    "    2. 也可以拆開拿1根去賭。\n",
    "3. 賭到太多根(20左右)時老闆會想辦法讓你別賭了。"
   ]
  },
  {
   "cell_type": "code",
   "execution_count": 19,
   "metadata": {},
   "outputs": [
    {
     "name": "stdout",
     "output_type": "stream",
     "text": [
      "2\n",
      "2 2 5 2\n"
     ]
    }
   ],
   "source": [
    "import random\n",
    "import statistics\n",
    "\n",
    "d1=random.randint(1,6)\n",
    "d2=random.randint(1,6)\n",
    "d3=random.randint(1,6)\n",
    "d4=random.randint(1,6)\n",
    "dice=[d1,d2,d3,d4]\n",
    "\n",
    "if d1!=d2 and d2!=d3 and d3!=d4:\n",
    "    print(\"作廢\")\n",
    "print(statistics.mode(dice))\n",
    "\n",
    "print(d1,d2,d3,d4)"
   ]
  }
 ],
 "metadata": {
  "kernelspec": {
   "display_name": ".venv",
   "language": "python",
   "name": "python3"
  },
  "language_info": {
   "codemirror_mode": {
    "name": "ipython",
    "version": 3
   },
   "file_extension": ".py",
   "mimetype": "text/x-python",
   "name": "python",
   "nbconvert_exporter": "python",
   "pygments_lexer": "ipython3",
   "version": "3.10.8"
  },
  "orig_nbformat": 4
 },
 "nbformat": 4,
 "nbformat_minor": 2
}
