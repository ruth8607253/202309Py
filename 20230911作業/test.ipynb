{
 "cells": [
  {
   "cell_type": "markdown",
   "metadata": {},
   "source": [
    "# python基礎與資料輸出\n",
    "## 純質運算\n",
    "### 純質\n",
    "字串 String str  e.g.\"AAA\"\n",
    "\n",
    "整數 interger int e.g.5\n",
    "\n",
    "浮點數 float e.g.2.8\n",
    "\n",
    "布林值 bool e.g.True/False\n",
    "\n",
    "1. 在這個介面(ipynb)直接輸入純值，只會執行最後一行。若要同時輸出所有純值，就要使用輸出函式。"
   ]
  },
  {
   "cell_type": "code",
   "execution_count": 6,
   "metadata": {},
   "outputs": [
    {
     "data": {
      "text/plain": [
       "True"
      ]
     },
     "execution_count": 6,
     "metadata": {},
     "output_type": "execute_result"
    }
   ],
   "source": [
    "\"AAA\"\n",
    "30\n",
    "7.3\n",
    "True"
   ]
  },
  {
   "cell_type": "markdown",
   "metadata": {},
   "source": [
    "2. 改變型別-自動改變型別 e.g.`5+2.0`-> 7.0\n",
    "\n",
    "    "
   ]
  },
  {
   "cell_type": "code",
   "execution_count": 15,
   "metadata": {},
   "outputs": [
    {
     "data": {
      "text/plain": [
       "35.2"
      ]
     },
     "execution_count": 15,
     "metadata": {},
     "output_type": "execute_result"
    }
   ],
   "source": [
    "#字串+數值 -> 出錯\n",
    "#\"abc\" + 13\n",
    "\n",
    "#str() -> 轉為字串\n",
    "\"abc\" + str(13)\n",
    "\n",
    "#int() -> 轉為整數\n",
    "int(\"13\") + int(\"25\")\n",
    "\n",
    "#float() -> 轉為浮點數\n",
    "float(\"13.5\") + float(\"21.7\")"
   ]
  },
  {
   "cell_type": "markdown",
   "metadata": {},
   "source": [
    "2. 改變型別-手動改變型別：\n",
    "\n",
    "        1. 沒辦法執行&&可改變型別的 e.g.5+a -> TypeError\n",
    "\n",
    "            解決方法：\n",
    "\n",
    "            `str(5)+\"a\"` ->5a\n",
    "\n",
    "        2. 沒辦法執行&&不可改變型別的 e.g.`int(\"A\")` -> ValueError"
   ]
  },
  {
   "cell_type": "markdown",
   "metadata": {},
   "source": [
    "## 輸出函式(function)\n",
    "基本函式句型：上網找「標準函式庫」->內建函式\n",
    "**並非**所有函式都會輸出資料"
   ]
  },
  {
   "cell_type": "markdown",
   "metadata": {},
   "source": [
    "###　輸出函式-print"
   ]
  },
  {
   "cell_type": "code",
   "execution_count": 10,
   "metadata": {},
   "outputs": [
    {
     "name": "stdout",
     "output_type": "stream",
     "text": [
      "AAA\n",
      "5\n",
      "18.3\n",
      "True\n"
     ]
    }
   ],
   "source": [
    "print(\"AAA\")\n",
    "print(5)\n",
    "print(18.3)\n",
    "print(True)"
   ]
  },
  {
   "cell_type": "code",
   "execution_count": null,
   "metadata": {},
   "outputs": [],
   "source": []
  },
  {
   "cell_type": "code",
   "execution_count": 11,
   "metadata": {},
   "outputs": [
    {
     "name": "stdout",
     "output_type": "stream",
     "text": [
      "13\n",
      "80\n",
      "28\n",
      "3.0\n",
      "3\n",
      "1\n",
      "980188864829534682605802224588165892518744500843860189980001\n"
     ]
    }
   ],
   "source": [
    "#整數運算\n",
    "print(5 + 8)\n",
    "print(90 - 10)\n",
    "print(4 * 7)\n",
    "print(6 / 2)\n",
    "print(7 // 2)\n",
    "print(7 % 3)\n",
    "print(999 ** 20)"
   ]
  },
  {
   "cell_type": "markdown",
   "metadata": {},
   "source": [
    "### =\n",
    "把右邊的東西傳給左邊->不會傳出值"
   ]
  },
  {
   "cell_type": "code",
   "execution_count": 2,
   "metadata": {},
   "outputs": [],
   "source": [
    "i = 1+3+5"
   ]
  },
  {
   "cell_type": "markdown",
   "metadata": {},
   "source": [
    "如果要顯示i的值，就要呼叫他"
   ]
  },
  {
   "cell_type": "code",
   "execution_count": 3,
   "metadata": {},
   "outputs": [
    {
     "data": {
      "text/plain": [
       "9"
      ]
     },
     "execution_count": 3,
     "metadata": {},
     "output_type": "execute_result"
    }
   ],
   "source": [
    "#方法1\n",
    "i = 1+3+5\n",
    "i"
   ]
  },
  {
   "cell_type": "code",
   "execution_count": 5,
   "metadata": {},
   "outputs": [
    {
     "name": "stdout",
     "output_type": "stream",
     "text": [
      "9\n"
     ]
    }
   ],
   "source": [
    "#方法2\n",
    "i = 1+3+5\n",
    "print(i)"
   ]
  }
 ],
 "metadata": {
  "kernelspec": {
   "display_name": ".venv",
   "language": "python",
   "name": "python3"
  },
  "language_info": {
   "codemirror_mode": {
    "name": "ipython",
    "version": 3
   },
   "file_extension": ".py",
   "mimetype": "text/x-python",
   "name": "python",
   "nbconvert_exporter": "python",
   "pygments_lexer": "ipython3",
   "version": "3.10.8"
  },
  "orig_nbformat": 4
 },
 "nbformat": 4,
 "nbformat_minor": 2
}
