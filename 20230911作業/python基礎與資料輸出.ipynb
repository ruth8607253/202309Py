{
 "cells": [
  {
   "cell_type": "markdown",
   "metadata": {},
   "source": [
    "# python基礎與資料輸出\n",
    "## 純質運算\n",
    "### 純質\n",
    "字串 String str  e.g.\"AAA\"\n",
    "\n",
    "整數 interger int e.g.5\n",
    "\n",
    "浮點數 float e.g.2.8\n",
    "\n",
    "布林值 bool e.g.True/False\n",
    "\n",
    "1. 在這個介面(ipynb)直接輸入純值，只會執行最後一行。若要同時輸出所有純值，就要使用輸出函式。"
   ]
  },
  {
   "cell_type": "code",
   "execution_count": 6,
   "metadata": {},
   "outputs": [
    {
     "data": {
      "text/plain": [
       "True"
      ]
     },
     "execution_count": 6,
     "metadata": {},
     "output_type": "execute_result"
    }
   ],
   "source": [
    "\"AAA\" #字串\n",
    "30 #整數\n",
    "7.3 #浮點數\n",
    "True #布林值"
   ]
  },
  {
   "cell_type": "code",
   "execution_count": 2,
   "metadata": {},
   "outputs": [
    {
     "data": {
      "text/plain": [
       "35.2"
      ]
     },
     "execution_count": 2,
     "metadata": {},
     "output_type": "execute_result"
    }
   ],
   "source": [
    "#int() -> 轉為整數\n",
    "int(\"13\") + int(\"25\")\n",
    "\n",
    "#float() -> 轉為浮點數\n",
    "float(\"13.5\") + float(\"21.7\")"
   ]
  },
  {
   "cell_type": "markdown",
   "metadata": {},
   "source": [
    "2. 改變型別-自動改變型別\n",
    "    "
   ]
  },
  {
   "cell_type": "code",
   "execution_count": 3,
   "metadata": {},
   "outputs": [
    {
     "data": {
      "text/plain": [
       "7.0"
      ]
     },
     "execution_count": 3,
     "metadata": {},
     "output_type": "execute_result"
    }
   ],
   "source": [
    "#整數+浮點數 -> 浮點數\n",
    "5+2.0\n"
   ]
  },
  {
   "cell_type": "markdown",
   "metadata": {},
   "source": [
    "2. 改變型別-手動改變型別：\n",
    "\n",
    "        1. 沒辦法執行&&可改變型別的     "
   ]
  },
  {
   "cell_type": "code",
   "execution_count": 2,
   "metadata": {},
   "outputs": [
    {
     "data": {
      "text/plain": [
       "'abc13'"
      ]
     },
     "execution_count": 2,
     "metadata": {},
     "output_type": "execute_result"
    }
   ],
   "source": [
    "#字串+數值 -> TypeError\n",
    "#\"abc\" + 13\n",
    "#解決方法str() -> 轉為字串\n",
    "\"abc\" + str(13)"
   ]
  },
  {
   "cell_type": "markdown",
   "metadata": {},
   "source": [
    "        2. 沒辦法執行&&不可改變型別的\n",
    "        \n",
    "        e.g.`int(\"A\")` -> ValueError"
   ]
  },
  {
   "cell_type": "markdown",
   "metadata": {},
   "source": [
    "## 輸出函式(function)\n",
    "基本函式句型：上網找「標準函式庫」->內建函式\n",
    "**並非**所有函式都會輸出資料"
   ]
  },
  {
   "cell_type": "markdown",
   "metadata": {},
   "source": [
    "###　輸出函式-print"
   ]
  },
  {
   "cell_type": "code",
   "execution_count": 10,
   "metadata": {},
   "outputs": [
    {
     "name": "stdout",
     "output_type": "stream",
     "text": [
      "AAA\n",
      "5\n",
      "18.3\n",
      "True\n"
     ]
    }
   ],
   "source": [
    "print('Hello! Python!')\n",
    "print(30)\n",
    "print(30.0)\n",
    "print(True)"
   ]
  },
  {
   "cell_type": "code",
   "execution_count": 11,
   "metadata": {},
   "outputs": [
    {
     "name": "stdout",
     "output_type": "stream",
     "text": [
      "13\n",
      "80\n",
      "28\n",
      "3.0\n",
      "3\n",
      "1\n",
      "980188864829534682605802224588165892518744500843860189980001\n"
     ]
    }
   ],
   "source": [
    "#整數運算\n",
    "print(5 + 8)\n",
    "print(90 - 10)\n",
    "print(4 * 7)\n",
    "print(6 / 2)\n",
    "print(7 // 2)\n",
    "print(7 % 3)\n",
    "print(999 ** 20)"
   ]
  },
  {
   "cell_type": "code",
   "execution_count": 1,
   "metadata": {},
   "outputs": [
    {
     "name": "stdout",
     "output_type": "stream",
     "text": [
      "13.0\n",
      "23.0\n",
      "21.0\n",
      "10\n"
     ]
    }
   ],
   "source": [
    "#浮點數和整數運算\n",
    "print(5.0 + 8)\n",
    "print(5.0 + 8 + 10)\n",
    "print(5.0 + 8 * 2)\n",
    "print(2 * (1 + 2) ** 2 - 2 ** 2 * 2)"
   ]
  },
  {
   "cell_type": "markdown",
   "metadata": {},
   "source": [
    "### 輸出函式-=\n",
    "把右邊的東西傳給左邊->不會傳出值"
   ]
  },
  {
   "cell_type": "code",
   "execution_count": 2,
   "metadata": {},
   "outputs": [],
   "source": [
    "i = 1+3+5"
   ]
  },
  {
   "cell_type": "markdown",
   "metadata": {},
   "source": [
    "如果要顯示i的值，就要呼叫他"
   ]
  },
  {
   "cell_type": "code",
   "execution_count": 3,
   "metadata": {},
   "outputs": [
    {
     "data": {
      "text/plain": [
       "9"
      ]
     },
     "execution_count": 3,
     "metadata": {},
     "output_type": "execute_result"
    }
   ],
   "source": [
    "#方法1\n",
    "i = 1+3+5\n",
    "i"
   ]
  },
  {
   "cell_type": "code",
   "execution_count": 5,
   "metadata": {},
   "outputs": [
    {
     "name": "stdout",
     "output_type": "stream",
     "text": [
      "9\n"
     ]
    }
   ],
   "source": [
    "#方法2\n",
    "i = 1+3+5\n",
    "print(i)"
   ]
  },
  {
   "cell_type": "markdown",
   "metadata": {},
   "source": [
    "## 變數\n",
    "1. 一種物件，可以是整數、浮點數、字串或布林值。\n",
    "2. 不需要先宣告(`i=int`)即可直接使用。\n",
    "3. **第一個字不能是數字**，不成出現特殊字元、空白，可使用大小寫字母、中文、_。\n",
    "4. 表現方式：變數名稱=變數內容。\n",
    "\n",
    "e.g.剛剛使用的i"
   ]
  },
  {
   "cell_type": "code",
   "execution_count": 4,
   "metadata": {},
   "outputs": [],
   "source": [
    "openedx=100"
   ]
  },
  {
   "cell_type": "markdown",
   "metadata": {},
   "source": [
    "4. 可以在同一列定義多個變數，用,分隔變數與內容。"
   ]
  },
  {
   "cell_type": "code",
   "execution_count": 5,
   "metadata": {},
   "outputs": [],
   "source": [
    "i,k=\"香蕉\",587.5"
   ]
  },
  {
   "cell_type": "markdown",
   "metadata": {},
   "source": [
    "5. 刪除變數：del 變數名稱"
   ]
  },
  {
   "cell_type": "code",
   "execution_count": 6,
   "metadata": {},
   "outputs": [],
   "source": [
    "del i"
   ]
  },
  {
   "cell_type": "markdown",
   "metadata": {},
   "source": [
    "變數正常寫法\n",
    "* a  \n",
    "* a1  \n",
    "* a_b_c___95  \n",
    "* _abc  \n",
    "* _1a\n",
    "\n",
    "變數錯誤寫法\n",
    "* 1\n",
    "* 1a\n",
    "* 1_"
   ]
  },
  {
   "cell_type": "markdown",
   "metadata": {},
   "source": [
    "## 練習題\n",
    "1. 請問以下哪一個變數命名是錯的?(選擇題)\n",
    "\n",
    "(1) 5well.\n",
    "\n",
    "(2) pcschool\n",
    "\n",
    "(3) 巨匠\n",
    "\n",
    "A:(1)\n",
    "\n",
    "*變數開頭不能是數字"
   ]
  },
  {
   "cell_type": "markdown",
   "metadata": {},
   "source": [
    "2. 請問以下哪一個變數命名是錯的?(複選題)\n",
    "\n",
    "(1) 7eleven\n",
    "\n",
    "(2) pcschool&python\n",
    "\n",
    "(3) Pcschool python\n",
    "\n",
    "(4) if\n",
    "\n",
    "A:(1)、(3)、(4)\n",
    "\n",
    "*變數開頭不能是數字、中間不能有空格、不能使用已有操作指令的語言"
   ]
  },
  {
   "cell_type": "markdown",
   "metadata": {},
   "source": [
    "3. 若要建立 x 變數內容為 15，請問哪一行是對的? (選擇題)\n",
    "\n",
    "(1) x equals 15\n",
    "\n",
    "(2) x is 15\n",
    "\n",
    "(3) 15 = x\n",
    "\n",
    "(4) x = 15\n",
    "\n",
    "A：(4)\n",
    "\n",
    "*x為變數名稱(放在左邊)，15為變數內容(放右邊)"
   ]
  },
  {
   "cell_type": "markdown",
   "metadata": {},
   "source": [
    "## 註解\n",
    "1. 用`#`做單行註解，註解內容不會執行。\n",
    "2. 用`\"\"\"`包覆內文做多行註解。"
   ]
  },
  {
   "cell_type": "code",
   "execution_count": 14,
   "metadata": {},
   "outputs": [
    {
     "data": {
      "text/plain": [
       "'多'"
      ]
     },
     "execution_count": 14,
     "metadata": {},
     "output_type": "execute_result"
    }
   ],
   "source": [
    "#我是單行註解\n",
    "\n",
    "'''多'''"
   ]
  }
 ],
 "metadata": {
  "kernelspec": {
   "display_name": ".venv",
   "language": "python",
   "name": "python3"
  },
  "language_info": {
   "codemirror_mode": {
    "name": "ipython",
    "version": 3
   },
   "file_extension": ".py",
   "mimetype": "text/x-python",
   "name": "python",
   "nbconvert_exporter": "python",
   "pygments_lexer": "ipython3",
   "version": "3.10.8"
  },
  "orig_nbformat": 4
 },
 "nbformat": 4,
 "nbformat_minor": 2
}
