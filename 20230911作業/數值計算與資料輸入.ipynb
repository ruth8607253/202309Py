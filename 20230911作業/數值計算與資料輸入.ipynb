{
 "cells": [
  {
   "cell_type": "markdown",
   "metadata": {},
   "source": [
    "# 數值計算與資料輸入\n",
    "## 數學運算子\n",
    "|運算子|描述|範例|\n",
    "|---|---|---|\n",
    "|+|加法|1+2=3|\n",
    "|-|減法|2-1=1|\n",
    "|*|乘法|2*3=6|\n",
    "|/|浮點數除法|7/2=3.5|\n",
    "|//|整數除法|7//2=3|\n",
    "|%|餘數|7%3=1|\n",
    "|**|次方|2**3=8|\n",
    "### 整數 int\n",
    "1. 數字前面不能加0 -> SuntaxError 語法錯誤"
   ]
  },
  {
   "cell_type": "code",
   "execution_count": 3,
   "metadata": {},
   "outputs": [
    {
     "ename": "SyntaxError",
     "evalue": "leading zeros in decimal integer literals are not permitted; use an 0o prefix for octal integers (4223885067.py, line 1)",
     "output_type": "error",
     "traceback": [
      "\u001b[1;36m  Cell \u001b[1;32mIn[3], line 1\u001b[1;36m\u001b[0m\n\u001b[1;33m    05\u001b[0m\n\u001b[1;37m    ^\u001b[0m\n\u001b[1;31mSyntaxError\u001b[0m\u001b[1;31m:\u001b[0m leading zeros in decimal integer literals are not permitted; use an 0o prefix for octal integers\n"
     ]
    }
   ],
   "source": [
    "05"
   ]
  },
  {
   "cell_type": "markdown",
   "metadata": {},
   "source": [
    "2. 除數不能是0 -> ZeroDivisionError 零除法錯誤 "
   ]
  },
  {
   "cell_type": "code",
   "execution_count": 4,
   "metadata": {},
   "outputs": [
    {
     "ename": "ZeroDivisionError",
     "evalue": "division by zero",
     "output_type": "error",
     "traceback": [
      "\u001b[1;31m---------------------------------------------------------------------------\u001b[0m",
      "\u001b[1;31mZeroDivisionError\u001b[0m                         Traceback (most recent call last)",
      "Cell \u001b[1;32mIn[4], line 1\u001b[0m\n\u001b[1;32m----> 1\u001b[0m \u001b[39m5\u001b[39;49m\u001b[39m/\u001b[39;49m\u001b[39m0\u001b[39;49m\n",
      "\u001b[1;31mZeroDivisionError\u001b[0m: division by zero"
     ]
    }
   ],
   "source": [
    "5/0"
   ]
  },
  {
   "cell_type": "markdown",
   "metadata": {},
   "source": [
    "3. 數學優先順序\n",
    "`()` > `**` > `正負` > `* / % //` > `+ -` > `=`"
   ]
  },
  {
   "cell_type": "code",
   "execution_count": 5,
   "metadata": {},
   "outputs": [
    {
     "data": {
      "text/plain": [
       "10"
      ]
     },
     "execution_count": 5,
     "metadata": {},
     "output_type": "execute_result"
    }
   ],
   "source": [
    "2 * (1 + 2) ** 2 - 2 ** 2 * 2 "
   ]
  },
  {
   "cell_type": "markdown",
   "metadata": {},
   "source": [
    "3. str不能轉成int or float -> ValueError"
   ]
  },
  {
   "cell_type": "code",
   "execution_count": 7,
   "metadata": {},
   "outputs": [
    {
     "ename": "ValueError",
     "evalue": "invalid literal for int() with base 10: '123 Apple'",
     "output_type": "error",
     "traceback": [
      "\u001b[1;31m---------------------------------------------------------------------------\u001b[0m",
      "\u001b[1;31mValueError\u001b[0m                                Traceback (most recent call last)",
      "Cell \u001b[1;32mIn[7], line 1\u001b[0m\n\u001b[1;32m----> 1\u001b[0m \u001b[39mint\u001b[39;49m(\u001b[39m'\u001b[39;49m\u001b[39m123 Apple\u001b[39;49m\u001b[39m'\u001b[39;49m)\n",
      "\u001b[1;31mValueError\u001b[0m: invalid literal for int() with base 10: '123 Apple'"
     ]
    }
   ],
   "source": [
    "int('123 Apple')"
   ]
  },
  {
   "cell_type": "markdown",
   "metadata": {},
   "source": [
    "4. 沒辦法同時做到「將float轉成int」& 「str轉int」 -> ValueError"
   ]
  },
  {
   "cell_type": "code",
   "execution_count": 11,
   "metadata": {},
   "outputs": [
    {
     "ename": "ValueError",
     "evalue": "invalid literal for int() with base 10: '123.6'",
     "output_type": "error",
     "traceback": [
      "\u001b[1;31m---------------------------------------------------------------------------\u001b[0m",
      "\u001b[1;31mValueError\u001b[0m                                Traceback (most recent call last)",
      "Cell \u001b[1;32mIn[11], line 1\u001b[0m\n\u001b[1;32m----> 1\u001b[0m \u001b[39mint\u001b[39;49m(\u001b[39m\"\u001b[39;49m\u001b[39m123.6\u001b[39;49m\u001b[39m\"\u001b[39;49m)\n",
      "\u001b[1;31mValueError\u001b[0m: invalid literal for int() with base 10: '123.6'"
     ]
    }
   ],
   "source": [
    "int(\"123.6\")"
   ]
  },
  {
   "cell_type": "markdown",
   "metadata": {},
   "source": [
    "5. True=1、False=0"
   ]
  },
  {
   "cell_type": "code",
   "execution_count": 13,
   "metadata": {},
   "outputs": [
    {
     "name": "stdout",
     "output_type": "stream",
     "text": [
      "3\n",
      "5.0\n"
     ]
    }
   ],
   "source": [
    "print(True+2)\n",
    "print(False + 5.0 )"
   ]
  },
  {
   "cell_type": "markdown",
   "metadata": {},
   "source": [
    "6. 可以換行加減"
   ]
  },
  {
   "cell_type": "code",
   "execution_count": 10,
   "metadata": {},
   "outputs": [
    {
     "data": {
      "text/plain": [
       "5"
      ]
     },
     "execution_count": 10,
     "metadata": {},
     "output_type": "execute_result"
    }
   ],
   "source": [
    "1+2+\\\n",
    "    3\\\n",
    "-1"
   ]
  },
  {
   "cell_type": "markdown",
   "metadata": {},
   "source": [
    "### int的範圍"
   ]
  },
  {
   "cell_type": "code",
   "execution_count": 15,
   "metadata": {},
   "outputs": [
    {
     "name": "stdout",
     "output_type": "stream",
     "text": [
      "100000000000000000000000000000000000000000000000000000000000000000000000000000000000000000000000000000000000000000000000000000000000000000000000000000000000000000000000000000000000000000000000000000000\n"
     ]
    }
   ],
   "source": [
    "a=10**100\n",
    "print(a*a)"
   ]
  },
  {
   "cell_type": "markdown",
   "metadata": {},
   "source": [
    "### 浮點數 float"
   ]
  },
  {
   "cell_type": "code",
   "execution_count": 34,
   "metadata": {},
   "outputs": [
    {
     "name": "stdout",
     "output_type": "stream",
     "text": [
      "-1.586544\n",
      "10000.0\n"
     ]
    }
   ],
   "source": [
    "print(float('-1.586544'))\n",
    "\n",
    "print(float('1.0e4'))\n"
   ]
  },
  {
   "cell_type": "markdown",
   "metadata": {},
   "source": [
    "### 2、8、16進位\n",
    "|進位|前輟|\n",
    "|---|---|\n",
    "|2|0b 0B|\n",
    "|8|0o 0O|\n",
    "|16|0x 0X|\n",
    "\n",
    "*前輟：告訴Python解釋器如何解讀後面的數字"
   ]
  },
  {
   "cell_type": "code",
   "execution_count": 6,
   "metadata": {},
   "outputs": [
    {
     "name": "stdout",
     "output_type": "stream",
     "text": [
      "10\n",
      "2\n",
      "8\n",
      "16\n"
     ]
    }
   ],
   "source": [
    "print(10) #10進位\n",
    "\n",
    "print(0b10) #2進位\n",
    "\n",
    "print(0o10) #8進位\n",
    "\n",
    "print(0x10) #16進位"
   ]
  },
  {
   "cell_type": "markdown",
   "metadata": {},
   "source": [
    "## 字串 Str\n",
    "### 多行str\n",
    "用`\"\"\"`包覆已分段文字。寫的方式跟備註很像，只是要給他一個變數裝起來而已。"
   ]
  },
  {
   "cell_type": "code",
   "execution_count": 33,
   "metadata": {},
   "outputs": [
    {
     "name": "stdout",
     "output_type": "stream",
     "text": [
      "這是多行字串的寫法\n",
      "AAA\n",
      "BBB\n"
     ]
    }
   ],
   "source": [
    "a = \"\"\"這是多行字串的寫法\n",
    "AAA\n",
    "BBB\"\"\"\n",
    "\n",
    "print(a)"
   ]
  },
  {
   "cell_type": "markdown",
   "metadata": {},
   "source": [
    "# 看不懂這是啥\n",
    "`>>> ''`\n",
    "\n",
    "`    ''`\n",
    "\n",
    "`>>> \"\"`\n",
    "\n",
    "`    ''`\n",
    "\n",
    "`>>> ''''''`\n",
    "\n",
    "`    ''`\n",
    "\n",
    "`>>> \"\"\"\"\"\"`\n",
    "\n",
    "`    ''`\n",
    "\n",
    "`>>>``"
   ]
  },
  {
   "cell_type": "code",
   "execution_count": 51,
   "metadata": {},
   "outputs": [
    {
     "name": "stdout",
     "output_type": "stream",
     "text": [
      "\n",
      "\n",
      "\n",
      "\n"
     ]
    }
   ],
   "source": [
    "print('')\n",
    "print(\"\")\n",
    "print('''''')\n",
    "print(\"\"\"\"\"\")"
   ]
  },
  {
   "cell_type": "code",
   "execution_count": 52,
   "metadata": {},
   "outputs": [
    {
     "data": {
      "text/plain": [
       "''"
      ]
     },
     "execution_count": 52,
     "metadata": {},
     "output_type": "execute_result"
    }
   ],
   "source": [
    "''"
   ]
  },
  {
   "cell_type": "code",
   "execution_count": 53,
   "metadata": {},
   "outputs": [
    {
     "data": {
      "text/plain": [
       "''"
      ]
     },
     "execution_count": 53,
     "metadata": {},
     "output_type": "execute_result"
    }
   ],
   "source": [
    "\"\""
   ]
  },
  {
   "cell_type": "code",
   "execution_count": 54,
   "metadata": {},
   "outputs": [
    {
     "data": {
      "text/plain": [
       "''"
      ]
     },
     "execution_count": 54,
     "metadata": {},
     "output_type": "execute_result"
    }
   ],
   "source": [
    "''''''"
   ]
  },
  {
   "cell_type": "code",
   "execution_count": 55,
   "metadata": {},
   "outputs": [
    {
     "data": {
      "text/plain": [
       "''"
      ]
     },
     "execution_count": 55,
     "metadata": {},
     "output_type": "execute_result"
    }
   ],
   "source": [
    "\"\"\"\"\"\""
   ]
  },
  {
   "cell_type": "markdown",
   "metadata": {},
   "source": [
    "1. 用`+=`增加str\n",
    "2. 用`%s %()`插入str\n",
    "3. **沒辦法**用`-=`減少str -> TypeError"
   ]
  },
  {
   "cell_type": "code",
   "execution_count": 19,
   "metadata": {},
   "outputs": [
    {
     "name": "stdout",
     "output_type": "stream",
     "text": [
      "abcdefghijklmnop\n",
      "An apple a day keeps the doctor away.\n"
     ]
    },
    {
     "ename": "TypeError",
     "evalue": "unsupported operand type(s) for -=: 'str' and 'str'",
     "output_type": "error",
     "traceback": [
      "\u001b[1;31m---------------------------------------------------------------------------\u001b[0m",
      "\u001b[1;31mTypeError\u001b[0m                                 Traceback (most recent call last)",
      "\u001b[1;32mc:\\Github\\202309Py\\20230911作業\\數值計算與資料輸入.ipynb 儲存格 26\u001b[0m line \u001b[0;36m1\n\u001b[0;32m      <a href='vscode-notebook-cell:/c%3A/Github/202309Py/20230911%E4%BD%9C%E6%A5%AD/%E6%95%B8%E5%80%BC%E8%A8%88%E7%AE%97%E8%88%87%E8%B3%87%E6%96%99%E8%BC%B8%E5%85%A5.ipynb#X32sZmlsZQ%3D%3D?line=7'>8</a>\u001b[0m \u001b[39mprint\u001b[39m(d)\n\u001b[0;32m     <a href='vscode-notebook-cell:/c%3A/Github/202309Py/20230911%E4%BD%9C%E6%A5%AD/%E6%95%B8%E5%80%BC%E8%A8%88%E7%AE%97%E8%88%87%E8%B3%87%E6%96%99%E8%BC%B8%E5%85%A5.ipynb#X32sZmlsZQ%3D%3D?line=9'>10</a>\u001b[0m b \u001b[39m=\u001b[39m i\n\u001b[1;32m---> <a href='vscode-notebook-cell:/c%3A/Github/202309Py/20230911%E4%BD%9C%E6%A5%AD/%E6%95%B8%E5%80%BC%E8%A8%88%E7%AE%97%E8%88%87%E8%B3%87%E6%96%99%E8%BC%B8%E5%85%A5.ipynb#X32sZmlsZQ%3D%3D?line=10'>11</a>\u001b[0m b \u001b[39m-\u001b[39m\u001b[39m=\u001b[39m \u001b[39m'\u001b[39m\u001b[39mhijklmnop\u001b[39m\u001b[39m'\u001b[39m\n\u001b[0;32m     <a href='vscode-notebook-cell:/c%3A/Github/202309Py/20230911%E4%BD%9C%E6%A5%AD/%E6%95%B8%E5%80%BC%E8%A8%88%E7%AE%97%E8%88%87%E8%B3%87%E6%96%99%E8%BC%B8%E5%85%A5.ipynb#X32sZmlsZQ%3D%3D?line=11'>12</a>\u001b[0m \u001b[39mprint\u001b[39m(b)\n",
      "\u001b[1;31mTypeError\u001b[0m: unsupported operand type(s) for -=: 'str' and 'str'"
     ]
    }
   ],
   "source": [
    "i = ''\n",
    "i += 'abcdefg'\n",
    "i += 'hijklmnop'\n",
    "print(i)\n",
    "\n",
    "c=\"apple\"\n",
    "d=\"An %s a day keeps the doctor away.\" %(c)\n",
    "print(d)\n",
    "\n",
    "b = i\n",
    "b -= 'hijklmnop'\n",
    "print(b)"
   ]
  },
  {
   "cell_type": "markdown",
   "metadata": {},
   "source": [
    "4. **沒辦法**str+int -> TypeError"
   ]
  },
  {
   "cell_type": "code",
   "execution_count": 29,
   "metadata": {},
   "outputs": [
    {
     "ename": "TypeError",
     "evalue": "can only concatenate str (not \"int\") to str",
     "output_type": "error",
     "traceback": [
      "\u001b[1;31m---------------------------------------------------------------------------\u001b[0m",
      "\u001b[1;31mTypeError\u001b[0m                                 Traceback (most recent call last)",
      "\u001b[1;32mc:\\Github\\202309Py\\20230911作業\\數值計算與資料輸入.ipynb 儲存格 28\u001b[0m line \u001b[0;36m1\n\u001b[1;32m----> <a href='vscode-notebook-cell:/c%3A/Github/202309Py/20230911%E4%BD%9C%E6%A5%AD/%E6%95%B8%E5%80%BC%E8%A8%88%E7%AE%97%E8%88%87%E8%B3%87%E6%96%99%E8%BC%B8%E5%85%A5.ipynb#X51sZmlsZQ%3D%3D?line=0'>1</a>\u001b[0m a\u001b[39m=\u001b[39m\u001b[39m\"\u001b[39;49m\u001b[39mdfeisdhouethg\u001b[39;49m\u001b[39m\"\u001b[39;49m\u001b[39m+\u001b[39;49m\u001b[39m12\u001b[39;49m\n\u001b[0;32m      <a href='vscode-notebook-cell:/c%3A/Github/202309Py/20230911%E4%BD%9C%E6%A5%AD/%E6%95%B8%E5%80%BC%E8%A8%88%E7%AE%97%E8%88%87%E8%B3%87%E6%96%99%E8%BC%B8%E5%85%A5.ipynb#X51sZmlsZQ%3D%3D?line=1'>2</a>\u001b[0m \u001b[39mprint\u001b[39m(a)\n",
      "\u001b[1;31mTypeError\u001b[0m: can only concatenate str (not \"int\") to str"
     ]
    }
   ],
   "source": [
    "a=\"dfeisdhouethg\"+12\n",
    "print(a)"
   ]
  },
  {
   "cell_type": "markdown",
   "metadata": {},
   "source": [
    "3. 用`+`連接str時中間不會有空格，用`,`連接str時會有空格(因為str(**object=b''**, encoding='utf-8', errors='strict'))"
   ]
  },
  {
   "cell_type": "code",
   "execution_count": 14,
   "metadata": {},
   "outputs": [
    {
     "name": "stdout",
     "output_type": "stream",
     "text": [
      "AAABBBCCC\n",
      "AAA BBB CCC\n"
     ]
    }
   ],
   "source": [
    "a=\"AAA\"\n",
    "b=\"BBB\"\n",
    "c=\"CCC\"\n",
    "\n",
    "print(a+b+c)\n",
    "print(a,b,c)"
   ]
  },
  {
   "cell_type": "markdown",
   "metadata": {},
   "source": [
    "## 複合指定運算子\n",
    "|Python|表示|\n",
    "|---|---|\n",
    "|x`+=`y|x=x+y|\n",
    "|x`-=`y|x=x-y|\n",
    "|**JS**|**表示**|\n",
    "|x=`++`y|x=y+1 y=y+1|\n",
    "|x=y`++`|**x=y**|\n",
    "|x=`--`y|x=y-1 =-1|\n",
    "|x=y`--`|沒這種東西|"
   ]
  },
  {
   "cell_type": "code",
   "execution_count": 60,
   "metadata": {},
   "outputs": [
    {
     "name": "stdout",
     "output_type": "stream",
     "text": [
      "11\n",
      "-1\n"
     ]
    }
   ],
   "source": [
    "#x += y\n",
    "x=5\n",
    "y=6\n",
    "x += y\n",
    "print(x)\n",
    "\n",
    "#x -= y\n",
    "x=5\n",
    "y=6\n",
    "x -= y\n",
    "print(x)"
   ]
  },
  {
   "cell_type": "code",
   "execution_count": 48,
   "metadata": {},
   "outputs": [
    {
     "name": "stdout",
     "output_type": "stream",
     "text": [
      "剩餘款為:49850\n"
     ]
    }
   ],
   "source": [
    "#money.py\n",
    "money = 50000 \n",
    "cell = int(input(\"請輸入手機金額:\"))\n",
    "money -= cell\n",
    "print(\"剩餘款為:\" + str(money)) "
   ]
  },
  {
   "cell_type": "markdown",
   "metadata": {},
   "source": [
    "## 特殊字元\n",
    "|寫法|用途|\n",
    "|---|---|\n",
    "|`\\\\`|反斜線|\n",
    "|`\\'`|單引號|\n",
    "|`\\\"`|雙引號|\n",
    "|`\\n`|換行|\n",
    "|`\\t`|固定間隔|"
   ]
  },
  {
   "cell_type": "code",
   "execution_count": 12,
   "metadata": {},
   "outputs": [
    {
     "name": "stdout",
     "output_type": "stream",
     "text": [
      "\\這是反斜線\\\n",
      "'這是單引號'\n",
      "\"這是雙引號\"\n",
      "\n",
      "這是換行\n",
      "\n",
      "\t這是固定間隔\t\n"
     ]
    }
   ],
   "source": [
    "print(\"\\\\這是反斜線\\\\\")\n",
    "print(\"\\'這是單引號\\'\")\n",
    "print(\"\\\"這是雙引號\\\"\")\n",
    "print(\"\\n這是換行\\n\")\n",
    "print(\"\\t這是固定間隔\\t\")"
   ]
  },
  {
   "cell_type": "markdown",
   "metadata": {},
   "source": [
    "## 輸入資料\n",
    "用`input`產生一個可以輸入資料的窗口，用`.__class__`查詢變數的資料型態。"
   ]
  },
  {
   "cell_type": "code",
   "execution_count": 25,
   "metadata": {},
   "outputs": [
    {
     "name": "stdout",
     "output_type": "stream",
     "text": [
      "djfisrje <class 'str'>\n"
     ]
    }
   ],
   "source": [
    "a = input(\"請輸入字串: \")\n",
    "print(a,a.__class__ )"
   ]
  },
  {
   "cell_type": "markdown",
   "metadata": {},
   "source": [
    "## 練習題\n",
    "1. 以下的資料輸出哪一個是錯的?\n",
    "\n",
    "(1) \"I can add integers, like \" + str(5) + \" to strings.\"\n",
    "\n",
    "(2) \"Isaid\"+(\"Hey\"*2)+\"Hey!\"\n",
    "\n",
    "(3) \"The correct answer to this multiple choice exercise is answer number\" + 2\n",
    "\n",
    "(4) True + False\n",
    "\n",
    "A：(3) str!+int"
   ]
  },
  {
   "cell_type": "code",
   "execution_count": 28,
   "metadata": {},
   "outputs": [
    {
     "ename": "TypeError",
     "evalue": "can only concatenate str (not \"int\") to str",
     "output_type": "error",
     "traceback": [
      "\u001b[1;31m---------------------------------------------------------------------------\u001b[0m",
      "\u001b[1;31mTypeError\u001b[0m                                 Traceback (most recent call last)",
      "\u001b[1;32mc:\\Github\\202309Py\\20230911作業\\數值計算與資料輸入.ipynb 儲存格 34\u001b[0m line \u001b[0;36m1\n\u001b[1;32m----> <a href='vscode-notebook-cell:/c%3A/Github/202309Py/20230911%E4%BD%9C%E6%A5%AD/%E6%95%B8%E5%80%BC%E8%A8%88%E7%AE%97%E8%88%87%E8%B3%87%E6%96%99%E8%BC%B8%E5%85%A5.ipynb#X50sZmlsZQ%3D%3D?line=0'>1</a>\u001b[0m \u001b[39m\"\u001b[39;49m\u001b[39mThe correct answer to this multiple choice exercise is answer number\u001b[39;49m\u001b[39m\"\u001b[39;49m \u001b[39m+\u001b[39;49m \u001b[39m2\u001b[39;49m\n",
      "\u001b[1;31mTypeError\u001b[0m: can only concatenate str (not \"int\") to str"
     ]
    }
   ],
   "source": [
    "\"The correct answer to this multiple choice exercise is answer number\" + 2"
   ]
  },
  {
   "cell_type": "markdown",
   "metadata": {},
   "source": [
    "2. 請問執行後的說明哪一個是對的?\n",
    "\n",
    "a,b,c=\"pcschool\",2016,3.41\n",
    "\n",
    "print(b)\n",
    "\n",
    "(1) 2016\n",
    "\n",
    "(2) 3.41\n",
    "\n",
    "(3) pcschool\n",
    "\n",
    "A：(1)"
   ]
  },
  {
   "cell_type": "code",
   "execution_count": 30,
   "metadata": {},
   "outputs": [
    {
     "name": "stdout",
     "output_type": "stream",
     "text": [
      "2016\n"
     ]
    }
   ],
   "source": [
    "a,b,c=\"pcschool\",2016,3.41\n",
    "print(b)"
   ]
  },
  {
   "cell_type": "markdown",
   "metadata": {},
   "source": [
    "3. 請問執行後的說明哪一個是對的?\n",
    "\n",
    "test=(\"abc\"+\"!\")*2\n",
    "\n",
    "print(test)\n",
    "\n",
    "(1) abc!2\n",
    "\n",
    "(2) abc!abc!\n",
    "\n",
    "(3) abc+!*2\n",
    "\n",
    "A：(2)"
   ]
  },
  {
   "cell_type": "code",
   "execution_count": 32,
   "metadata": {},
   "outputs": [
    {
     "name": "stdout",
     "output_type": "stream",
     "text": [
      "abc!abc!\n"
     ]
    }
   ],
   "source": [
    "test=(\"abc\"+\"!\")*2\n",
    "print(test)"
   ]
  },
  {
   "cell_type": "markdown",
   "metadata": {},
   "source": [
    "4. 請問計算後Z的內容哪一個是對的?\n",
    "\n",
    "x=5\n",
    "\n",
    "y=7\n",
    "\n",
    "z=x+y+1\n",
    "\n",
    "(1) 571\n",
    "\n",
    "(2) 1\n",
    "\n",
    "(3) 13\n",
    "\n",
    "A：(3)"
   ]
  },
  {
   "cell_type": "code",
   "execution_count": 34,
   "metadata": {},
   "outputs": [
    {
     "name": "stdout",
     "output_type": "stream",
     "text": [
      "13\n"
     ]
    }
   ],
   "source": [
    "x=5\n",
    "y=7 \n",
    "z=x+y+1\n",
    "print(z)"
   ]
  },
  {
   "cell_type": "markdown",
   "metadata": {},
   "source": [
    "5. 請動手操作，並留意輸出結果"
   ]
  },
  {
   "cell_type": "code",
   "execution_count": 35,
   "metadata": {},
   "outputs": [
    {
     "name": "stdout",
     "output_type": "stream",
     "text": [
      "8\n",
      "16\n",
      "1\n",
      "8.75\n",
      "2\n",
      "2.0\n"
     ]
    }
   ],
   "source": [
    "#num.py\n",
    "a,b,c=4,2,5\n",
    "d,f=3.25,5.5\n",
    "\n",
    "print (a*b) \n",
    "\n",
    "print (a**b) \n",
    "\n",
    "print (a % 3) \n",
    "\n",
    "print (d + f) \n",
    "\n",
    "print (c//b) \n",
    "\n",
    "print (a/b)"
   ]
  },
  {
   "cell_type": "markdown",
   "metadata": {},
   "source": [
    "6. 請問執行後的說明哪一個是對的?\n",
    "\n",
    "g,h=9,3\n",
    "\n",
    "print(g/h)\n",
    "\n",
    "(1) 3 \n",
    "\n",
    "(2) 0 \n",
    "\n",
    "(3) 3.0\n",
    "\n",
    "A：(3)"
   ]
  },
  {
   "cell_type": "code",
   "execution_count": 36,
   "metadata": {},
   "outputs": [
    {
     "name": "stdout",
     "output_type": "stream",
     "text": [
      "3.0\n"
     ]
    }
   ],
   "source": [
    "g,h=9,3\n",
    "print(g/h)"
   ]
  },
  {
   "cell_type": "markdown",
   "metadata": {},
   "source": [
    "7. 前提：讓使用者**輸入**被除數(整數)及除數(整數，不可以是零)，且程式會顯示兩數相除的商及餘數。\n",
    "\n",
    "執行內容：\n",
    "\n",
    "請輸入被除數(整數):45\n",
    "\n",
    "請輸入除數(整數,不可以為0):4\n",
    "\n",
    "商 11 餘數: 1"
   ]
  },
  {
   "cell_type": "code",
   "execution_count": 42,
   "metadata": {},
   "outputs": [
    {
     "name": "stdout",
     "output_type": "stream",
     "text": [
      "商： 11 餘數： 1\n"
     ]
    }
   ],
   "source": [
    "a=int(input(\"請輸入被除數(整數):\"))\n",
    "b=int(input(\"請輸入除數(整數,不可以為0):\"))\n",
    "print(\"商：\",a//b,\"餘數：\",a%b)"
   ]
  },
  {
   "cell_type": "markdown",
   "metadata": {},
   "source": [
    "8. 前提：計算使用者輸入的2個任意數，程式會顯示2數相加的總和。\n",
    "\n",
    "執行內容：\n",
    "\n",
    "請輸入第一個數值:45.67\n",
    "\n",
    "請輸入第二個數值:67.47\n",
    "\n",
    "兩個數的和是xxx.xx"
   ]
  },
  {
   "cell_type": "code",
   "execution_count": 47,
   "metadata": {},
   "outputs": [
    {
     "name": "stdout",
     "output_type": "stream",
     "text": [
      "兩者的和是113.14\n"
     ]
    }
   ],
   "source": [
    "a=float(input(\"請輸入第一個數值:\"))\n",
    "b=float(input(\"請輸入第二個數值:\"))\n",
    "c=str(a+b)\n",
    "print(\"兩者的和是\"+c)"
   ]
  },
  {
   "cell_type": "markdown",
   "metadata": {},
   "source": [
    "9. 前提：請使用者輸入一個任意數，程式會顯示此數的平方值及立方值\n",
    "\n",
    "執行內容：\n",
    "\n",
    "請輸入任意數:3\n",
    "\n",
    "此數的平方是:9.0\n",
    "\n",
    "此數的立方是:27.0"
   ]
  },
  {
   "cell_type": "code",
   "execution_count": 8,
   "metadata": {},
   "outputs": [
    {
     "name": "stdout",
     "output_type": "stream",
     "text": [
      "\n",
      "此數的平方是：9.0 \n",
      "此數的立方是：27.0\n"
     ]
    }
   ],
   "source": [
    "a=float(input(\"請輸入一個任意數：\"))\n",
    "b=str(a**2)\n",
    "c=str(a**3)\n",
    "print(\"\\n此數的平方是：\"+b,\"\\n此數的立方是：\"+c)"
   ]
  },
  {
   "cell_type": "markdown",
   "metadata": {},
   "source": [
    "10. 前提：請以(複合指定運算子)設計程式，讓用者輸入三個任意數，程式會顯示3數相加的總和(float)\n",
    "\n",
    "執行內容：\n",
    "\n",
    "請輸入第一個數:87.9\n",
    "\n",
    "請輸入第二個數:45\n",
    "\n",
    "請輸入等三個數:87.5\n",
    "\n",
    "三個數的總和為:220.4"
   ]
  },
  {
   "cell_type": "code",
   "execution_count": 10,
   "metadata": {},
   "outputs": [
    {
     "name": "stdout",
     "output_type": "stream",
     "text": [
      "三個數的總和為：220.4\n"
     ]
    }
   ],
   "source": [
    "a=float(input(\"請輸入第一個數：\"))\n",
    "a+=float(input(\"請輸入第二個數：\"))\n",
    "a+=float(input(\"請輸入第三個數：\"))\n",
    "print(\"三個數的總和為：\"+str(a))"
   ]
  },
  {
   "cell_type": "markdown",
   "metadata": {},
   "source": [
    "11. 前提：讓使用者輸入梯形的上底、下底及高，程式會計算梯形的面積(上底加下底乘以高除以2)\n",
    "\n",
    "執行內容：\n",
    "\n",
    "請輸入梯形的上底(公分):5\n",
    "\n",
    "請輸入梯形的下底(公分):10\n",
    "\n",
    "請輸入梯形的高(公分):2\n",
    "\n",
    "梯形的面積:15平方公分"
   ]
  },
  {
   "cell_type": "code",
   "execution_count": 12,
   "metadata": {},
   "outputs": [
    {
     "name": "stdout",
     "output_type": "stream",
     "text": [
      "梯形的面積：15平方公分\n"
     ]
    }
   ],
   "source": [
    "a=int(input(\"請輸入梯形的上底(公分)：\"))\n",
    "b=int(input(\"請輸入梯形的下底(公分)：\"))\n",
    "c=int(input(\"請輸入梯形的高(公分)：\"))\n",
    "d=str((a+b)*c//2)\n",
    "print(\"梯形的面積：\"+d+\"平方公分\")"
   ]
  },
  {
   "cell_type": "markdown",
   "metadata": {},
   "source": [
    "12. 前提：使用者輸入圓柱體的半徑及高，程式會計算圓柱體的體積。圓柱體體積的公式為「圓週率乘以半徑平方再乘以高」。\n",
    "\n",
    "執行內容：\n",
    "\n",
    "請輸入圓柱體的半徑(公分):10\n",
    "\n",
    "請輸入圓柱體的高(公分):5\n",
    "\n",
    "圓柱體的體積:xxxx立方公分"
   ]
  },
  {
   "cell_type": "code",
   "execution_count": 15,
   "metadata": {},
   "outputs": [
    {
     "name": "stdout",
     "output_type": "stream",
     "text": [
      "圓柱體的體積：1570.7963立方公分\n"
     ]
    }
   ],
   "source": [
    "a=str(int(input(\"請輸入圓柱體的半徑(公分)：\"))**2*int(input(\"請輸入圓柱體的高(公分)：\"))*3.1415926)\n",
    "print(\"圓柱體的體積：\"+a+\"立方公分\")"
   ]
  },
  {
   "cell_type": "markdown",
   "metadata": {},
   "source": [
    "13. 前提：讓使用者輸入直角三角形的對邊、斜邊，進而計算角度。\n",
    "\n",
    "公式:sin(x) = 對邊 / 斜邊   x是radian(弧度)\n",
    "\n",
    "請輸入對邊:2.5\n",
    "\n",
    "請輸入斜邊:5\n",
    "\n",
    "直角三角形的角度為:30degree"
   ]
  },
  {
   "cell_type": "code",
   "execution_count": 40,
   "metadata": {},
   "outputs": [
    {
     "name": "stdout",
     "output_type": "stream",
     "text": [
      "直角三角形的角度為：30degree\n"
     ]
    }
   ],
   "source": [
    "import math\n",
    "\n",
    "a=float(input(\"請輸入對邊：\"))/float(input(\"請輸入斜邊：\"))\n",
    "if a == 0.5:\n",
    "    print(\"直角三角形的角度為：30degree\")\n",
    "elif a == math.sqrt(2)/2: #我不會輸入根號2，所以算不出這個答案\n",
    "    print(\"直角三角形的角度為：45degree\")\n",
    "elif a == math.sqrt(3)/2: #同上\n",
    "    print(\"直角三角形的角度為：60degree\")\n",
    "else:\n",
    "    print(\"輸入的質錯誤，請重新輸入\")"
   ]
  },
  {
   "cell_type": "code",
   "execution_count": 37,
   "metadata": {},
   "outputs": [
    {
     "name": "stdout",
     "output_type": "stream",
     "text": [
      "直角三角形的角度為： 30 degree\n"
     ]
    }
   ],
   "source": [
    "import math\n",
    "\n",
    "result = round(math.degrees(math.asin(0.5)))\n",
    "print(\"直角三角形的角度為：\",result,\"degree\")"
   ]
  }
 ],
 "metadata": {
  "kernelspec": {
   "display_name": ".venv",
   "language": "python",
   "name": "python3"
  },
  "language_info": {
   "codemirror_mode": {
    "name": "ipython",
    "version": 3
   },
   "file_extension": ".py",
   "mimetype": "text/x-python",
   "name": "python",
   "nbconvert_exporter": "python",
   "pygments_lexer": "ipython3",
   "version": "3.10.8"
  },
  "orig_nbformat": 4
 },
 "nbformat": 4,
 "nbformat_minor": 2
}
