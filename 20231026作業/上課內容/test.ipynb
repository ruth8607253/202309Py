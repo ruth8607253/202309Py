{
 "cells": [
  {
   "cell_type": "code",
   "execution_count": 3,
   "metadata": {},
   "outputs": [
    {
     "name": "stdout",
     "output_type": "stream",
     "text": [
      "倒數計時：10\n"
     ]
    },
    {
     "name": "stdout",
     "output_type": "stream",
     "text": [
      "倒數計時：9\n",
      "倒數計時：8\n",
      "倒數計時：7\n",
      "倒數計時：6\n",
      "倒數計時：5\n",
      "倒數計時：4\n",
      "倒數計時：3\n",
      "倒數計時：2\n",
      "倒數計時：1\n"
     ]
    }
   ],
   "source": [
    "import time\n",
    "import threading\n",
    "\n",
    "def countdown(n:int)->None:\n",
    "    while n>0:\n",
    "        print(f\"倒數計時：{n}\")\n",
    "        n-=1\n",
    "        time.sleep(1)\n",
    "\n",
    "#countdown(10) #主執行序，孫悟空做 => 執行時有秒數在跑\n",
    "\n",
    "t=threading.Thread(target=countdown,args=(10,))\n",
    "t.start() # countdown執行都用start()，讓孫悟空的毛執行 => 執行時沒有跑秒數\n",
    "# 這時只剩2個問題：程式(孫悟空的毛)有無在執行；程式(孫悟空的毛)何時做完"
   ]
  }
 ],
 "metadata": {
  "kernelspec": {
   "display_name": ".venv",
   "language": "python",
   "name": "python3"
  },
  "language_info": {
   "codemirror_mode": {
    "name": "ipython",
    "version": 3
   },
   "file_extension": ".py",
   "mimetype": "text/x-python",
   "name": "python",
   "nbconvert_exporter": "python",
   "pygments_lexer": "ipython3",
   "version": "3.10.8"
  }
 },
 "nbformat": 4,
 "nbformat_minor": 2
}
