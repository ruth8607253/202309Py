{
 "cells": [
  {
   "cell_type": "code",
   "execution_count": 11,
   "metadata": {},
   "outputs": [
    {
     "name": "stdout",
     "output_type": "stream",
     "text": [
      "倒數計時：10\n",
      "毛還在做事\n",
      "倒數計時：9\n",
      "毛還在做事\n",
      "倒數計時：8\n",
      "毛還在做事\n",
      "倒數計時：7\n",
      "毛還在做事\n",
      "倒數計時：6\n",
      "毛還在做事\n",
      "倒數計時：5\n",
      "毛還在做事\n",
      "倒數計時：4\n",
      "毛還在做事\n",
      "倒數計時：3\n",
      "毛還在做事\n",
      "倒數計時：2\n",
      "毛還在做事\n",
      "倒數計時：1\n",
      "毛還在做事\n",
      "做完了\n"
     ]
    }
   ],
   "source": [
    "import time\n",
    "import threading\n",
    "\n",
    "def countdown(n:int)->None:\n",
    "    while n>0:\n",
    "        print(f\"倒數計時：{n}\")\n",
    "        n-=1\n",
    "        time.sleep(1)\n",
    "\n",
    "#countdown(10) #主執行序，aka孫悟空做 => 執行時有秒數在跑\n",
    "\n",
    "t=threading.Thread(target=countdown,args=(10,))\n",
    "t.start() # countdown執行都用start()，讓執行序，aka孫悟空的毛執行 => 執行時沒有跑秒數\n",
    "# 這時只剩2個問題：程式(孫悟空的毛)有無在執行；程式(孫悟空的毛)何時做完\n",
    "\n",
    "while t.is_alive():\n",
    "    print(\"毛還在做事\")\n",
    "    time.sleep(1.01)\n",
    "else:\n",
    "    print(\"做完了\")\n"
   ]
  },
  {
   "cell_type": "code",
   "execution_count": 12,
   "metadata": {},
   "outputs": [
    {
     "name": "stdout",
     "output_type": "stream",
     "text": [
      "倒數計時：10\n",
      "倒數計時：9\n",
      "倒數計時：8\n",
      "倒數計時：7\n",
      "倒數計時：6\n",
      "倒數計時：5\n",
      "倒數計時：4\n",
      "倒數計時：3\n",
      "倒數計時：2\n",
      "倒數計時：1\n",
      "做完了\n"
     ]
    }
   ],
   "source": [
    "import time\n",
    "import threading\n",
    "\n",
    "def countdown(n:int)->None:\n",
    "    while n>0:\n",
    "        print(f\"倒數計時：{n}\")\n",
    "        n-=1\n",
    "        time.sleep(1)\n",
    "\n",
    "#countdown(10) #主執行序，孫悟空做 => 執行時有秒數在跑\n",
    "\n",
    "t=threading.Thread(target=countdown,args=(10,))\n",
    "t.start()\n",
    "\n",
    "t.join() # 等上面的 f 做完後才執行下面的值\n",
    "print(\"做完了\")"
   ]
  },
  {
   "cell_type": "code",
   "execution_count": 19,
   "metadata": {},
   "outputs": [
    {
     "name": "stdout",
     "output_type": "stream",
     "text": [
      "倒數計時：10\n"
     ]
    },
    {
     "name": "stdout",
     "output_type": "stream",
     "text": [
      "倒數計時：9\n",
      "倒數計時：8\n",
      "倒數計時：7\n",
      "倒數計時：6\n",
      "倒數計時：5\n",
      "倒數計時：4\n",
      "倒數計時：3\n",
      "倒數計時：2\n",
      "倒數計時：1\n",
      "做完了\n"
     ]
    }
   ],
   "source": [
    "from threading import Timer\n",
    "\n",
    "def countdown(n:int)->None:\n",
    "    if n>0:\n",
    "        print(f\"倒數計時：{n}\")\n",
    "        t=Timer(1,countdown,args=(n-1,)) # 請孫悟空的毛每隔1秒做這件事\n",
    "        t.start()\n",
    "    else:\n",
    "        print(\"做完了\")\n",
    "\n",
    "countdown(n=10)"
   ]
  }
 ],
 "metadata": {
  "kernelspec": {
   "display_name": ".venv",
   "language": "python",
   "name": "python3"
  },
  "language_info": {
   "codemirror_mode": {
    "name": "ipython",
    "version": 3
   },
   "file_extension": ".py",
   "mimetype": "text/x-python",
   "name": "python",
   "nbconvert_exporter": "python",
   "pygments_lexer": "ipython3",
   "version": "3.10.8"
  }
 },
 "nbformat": 4,
 "nbformat_minor": 2
}
