{
 "cells": [
  {
   "cell_type": "code",
   "execution_count": 5,
   "metadata": {},
   "outputs": [
    {
     "name": "stdout",
     "output_type": "stream",
     "text": [
      "連線成功\n",
      "<connection object at 0x0000023CD60F9030; dsn: 'user=maindb password=xxx dbname=maindb_r9dr host=dpg-cl5g4sk72pts73elkukg-a.singapore-postgres.render.com port=5432', closed: 0>\n"
     ]
    }
   ],
   "source": [
    "import psycopg2\n",
    "import password\n",
    "import csv\n",
    "\n",
    "try:\n",
    "    conn = psycopg2.connect(\n",
    "                            database=password.database,\n",
    "                            user=password.user,\n",
    "                            password=password.password,\n",
    "                            host=password.host,\n",
    "                            port=password.port)\n",
    "except psycopg2.Error as e:\n",
    "    print(\"error\")\n",
    "    print(e)\n",
    "else:\n",
    "    print(\"連線成功\")\n",
    "    print(conn)\n",
    "\n",
    "cur=conn.cursor()\n",
    "table_name=\"台北市youbike(站點名稱,更新時間,行政區,地址,總車輛數,可借,可還)\"\n",
    "csv_file=\"./YOUBIKE.csv\"\n",
    "with open(csv_file,\"r\",encoding='utf-8') as file:\n",
    "    reader=csv.reader(file)\n",
    "    for row in reader:\n",
    "        placeholders=\",\".join(['%s']*len(row))\n",
    "        insert_query=f\"INSERT INTO {table_name} VALUES ({placeholders})\"\n",
    "        cur.execute(insert_query,row)\n",
    "conn.commit()\n"
   ]
  },
  {
   "cell_type": "code",
   "execution_count": 18,
   "metadata": {},
   "outputs": [
    {
     "name": "stdout",
     "output_type": "stream",
     "text": [
      "[(1, 'YouBike2.0_一壽橋', '文山區', '2023-11-01 17:38:19', '樟新街64號前方', 16, 1, 15), (2, 'YouBike2.0_一壽橋', '文山區', '2023-11-01 17:38:20', '樟新街64號前方', 16, 1, 15)]\n"
     ]
    }
   ],
   "source": [
    "with conn.cursor() as cursor:\n",
    "    cursor.execute(\"select * from 台北市youbike\")\n",
    "    records=cursor.fetchall()\n",
    "\n",
    "print(records)"
   ]
  },
  {
   "cell_type": "code",
   "execution_count": 21,
   "metadata": {},
   "outputs": [
    {
     "ename": "InFailedSqlTransaction",
     "evalue": "current transaction is aborted, commands ignored until end of transaction block\n",
     "output_type": "error",
     "traceback": [
      "\u001b[1;31m---------------------------------------------------------------------------\u001b[0m",
      "\u001b[1;31mInFailedSqlTransaction\u001b[0m                    Traceback (most recent call last)",
      "\u001b[1;32mc:\\Github\\202309Py\\20231108作業\\上課內容\\main.ipynb 儲存格 3\u001b[0m line \u001b[0;36m6\n\u001b[0;32m      <a href='vscode-notebook-cell:/c%3A/Github/202309Py/20231108%E4%BD%9C%E6%A5%AD/%E4%B8%8A%E8%AA%B2%E5%85%A7%E5%AE%B9/main.ipynb#W2sZmlsZQ%3D%3D?line=0'>1</a>\u001b[0m sql \u001b[39m=\u001b[39m \u001b[39m'''\u001b[39m\n\u001b[0;32m      <a href='vscode-notebook-cell:/c%3A/Github/202309Py/20231108%E4%BD%9C%E6%A5%AD/%E4%B8%8A%E8%AA%B2%E5%85%A7%E5%AE%B9/main.ipynb#W2sZmlsZQ%3D%3D?line=1'>2</a>\u001b[0m \u001b[39mINSERT INTO 台北市youbike(站點名稱,行政區,更新時間,地址,總車輛數,可借,可還)\u001b[39m\n\u001b[0;32m      <a href='vscode-notebook-cell:/c%3A/Github/202309Py/20231108%E4%BD%9C%E6%A5%AD/%E4%B8%8A%E8%AA%B2%E5%85%A7%E5%AE%B9/main.ipynb#W2sZmlsZQ%3D%3D?line=2'>3</a>\u001b[0m \u001b[39mVALUES(\u001b[39m\u001b[39m'\u001b[39m\u001b[39mYouBike2.0_一壽橋\u001b[39m\u001b[39m'\u001b[39m\u001b[39m,\u001b[39m\u001b[39m'\u001b[39m\u001b[39m文山區\u001b[39m\u001b[39m'\u001b[39m\u001b[39m,\u001b[39m\u001b[39m'\u001b[39m\u001b[39m2023-11-08 10:43:18\u001b[39m\u001b[39m'\u001b[39m\u001b[39m,\u001b[39m\u001b[39m'\u001b[39m\u001b[39m樟新街64號前方\u001b[39m\u001b[39m'\u001b[39m\u001b[39m,100,100,15)\u001b[39m\n\u001b[0;32m      <a href='vscode-notebook-cell:/c%3A/Github/202309Py/20231108%E4%BD%9C%E6%A5%AD/%E4%B8%8A%E8%AA%B2%E5%85%A7%E5%AE%B9/main.ipynb#W2sZmlsZQ%3D%3D?line=3'>4</a>\u001b[0m \u001b[39m'''\u001b[39m\n\u001b[0;32m      <a href='vscode-notebook-cell:/c%3A/Github/202309Py/20231108%E4%BD%9C%E6%A5%AD/%E4%B8%8A%E8%AA%B2%E5%85%A7%E5%AE%B9/main.ipynb#W2sZmlsZQ%3D%3D?line=4'>5</a>\u001b[0m \u001b[39mwith\u001b[39;00m conn\u001b[39m.\u001b[39mcursor() \u001b[39mas\u001b[39;00m cursor:\n\u001b[1;32m----> <a href='vscode-notebook-cell:/c%3A/Github/202309Py/20231108%E4%BD%9C%E6%A5%AD/%E4%B8%8A%E8%AA%B2%E5%85%A7%E5%AE%B9/main.ipynb#W2sZmlsZQ%3D%3D?line=5'>6</a>\u001b[0m     cursor\u001b[39m.\u001b[39;49mexecute(sql)\n\u001b[0;32m      <a href='vscode-notebook-cell:/c%3A/Github/202309Py/20231108%E4%BD%9C%E6%A5%AD/%E4%B8%8A%E8%AA%B2%E5%85%A7%E5%AE%B9/main.ipynb#W2sZmlsZQ%3D%3D?line=6'>7</a>\u001b[0m     conn\u001b[39m.\u001b[39mcommit()\n\u001b[0;32m      <a href='vscode-notebook-cell:/c%3A/Github/202309Py/20231108%E4%BD%9C%E6%A5%AD/%E4%B8%8A%E8%AA%B2%E5%85%A7%E5%AE%B9/main.ipynb#W2sZmlsZQ%3D%3D?line=8'>9</a>\u001b[0m sql1 \u001b[39m=\u001b[39m \u001b[39m'''\u001b[39m\n\u001b[0;32m     <a href='vscode-notebook-cell:/c%3A/Github/202309Py/20231108%E4%BD%9C%E6%A5%AD/%E4%B8%8A%E8%AA%B2%E5%85%A7%E5%AE%B9/main.ipynb#W2sZmlsZQ%3D%3D?line=9'>10</a>\u001b[0m \u001b[39mselect * \u001b[39m\n\u001b[0;32m     <a href='vscode-notebook-cell:/c%3A/Github/202309Py/20231108%E4%BD%9C%E6%A5%AD/%E4%B8%8A%E8%AA%B2%E5%85%A7%E5%AE%B9/main.ipynb#W2sZmlsZQ%3D%3D?line=10'>11</a>\u001b[0m \u001b[39mfrom 台北市youbike\u001b[39m\n\u001b[0;32m     <a href='vscode-notebook-cell:/c%3A/Github/202309Py/20231108%E4%BD%9C%E6%A5%AD/%E4%B8%8A%E8%AA%B2%E5%85%A7%E5%AE%B9/main.ipynb#W2sZmlsZQ%3D%3D?line=11'>12</a>\u001b[0m \u001b[39mwhere 站點名稱 = \u001b[39m\u001b[39m'\u001b[39m\u001b[39mYouBike2.0_一壽橋\u001b[39m\u001b[39m'\u001b[39m\n\u001b[0;32m     <a href='vscode-notebook-cell:/c%3A/Github/202309Py/20231108%E4%BD%9C%E6%A5%AD/%E4%B8%8A%E8%AA%B2%E5%85%A7%E5%AE%B9/main.ipynb#W2sZmlsZQ%3D%3D?line=12'>13</a>\u001b[0m \u001b[39m'''\u001b[39m\n",
      "\u001b[1;31mInFailedSqlTransaction\u001b[0m: current transaction is aborted, commands ignored until end of transaction block\n"
     ]
    }
   ],
   "source": [
    "sql='''\n",
    "INSERT INTO 台北市youbike(站點名稱,更新時間,行政區,地址,總車輛數,可借,可還)\n",
    "VALUES ('YouBike2.0_一壽橋','2023-11-01 17:38:20','文山區','樟新街64號前方',16,1,15)\n",
    "'''\n",
    "\n",
    "with conn.cursor() as cursor:\n",
    "    cursor.execute(sql)\n",
    "    conn.commit()\n",
    "\n",
    "sql1='''\n",
    "select * \n",
    "from 台北市youbike \n",
    "where 站點名稱='YouBike2.0_一壽橋'\n",
    "'''\n",
    "\n",
    "with conn.cursor() as cursor:\n",
    "    cursor.execute(sql1)\n",
    "    records=cursor.fetchall()\n",
    "\n",
    "print(records)"
   ]
  }
 ],
 "metadata": {
  "kernelspec": {
   "display_name": ".venv",
   "language": "python",
   "name": "python3"
  },
  "language_info": {
   "codemirror_mode": {
    "name": "ipython",
    "version": 3
   },
   "file_extension": ".py",
   "mimetype": "text/x-python",
   "name": "python",
   "nbconvert_exporter": "python",
   "pygments_lexer": "ipython3",
   "version": "3.10.8"
  }
 },
 "nbformat": 4,
 "nbformat_minor": 2
}
