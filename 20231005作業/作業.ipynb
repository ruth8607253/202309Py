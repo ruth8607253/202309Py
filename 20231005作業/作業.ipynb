{
 "cells": [
  {
   "cell_type": "markdown",
   "metadata": {},
   "source": [
    "# 檔案存取\n",
    "1. 讀取或寫入文件前要先用`open()`開啟文件 -> 產生超連結 -> 可以存取文件。\n",
    "2. 語法：`file object = open(file_name [, access_mode],encoding='utf-8')`\n",
    "    \n",
    "    `access_mode`：存取模式，預設為r：僅供閱讀的文件。\n",
    "\n",
    "    存取模式：\n",
    "\n",
    "    r：reading 讀取\n",
    "    \n",
    "    b：binary 二進位\n",
    "\n",
    "    w：write (if文件存在：)**覆蓋**;else:建立一個新的文件後寫入。\n",
    "\n",
    "    a：append (if文件存在：)**添加**;else:建立一個新的文件後寫入。\n",
    "\n",
    "    \n",
    "\n",
    "    排列組合：\n",
    "\n",
    "    |類別|二進位|讀取|寫入|覆蓋|添加|\n",
    "    |---|---|---|---|---|---|\n",
    "    |r||O||||\n",
    "    |r+||O|O|||\n",
    "    |rb|O|O||||\n",
    "    |rb+|O|O|O|||\n",
    "    |w|||O|O||\n",
    "    |w+||O|O|O||\n",
    "    |wb|O||O|O||\n",
    "    |wb+|O|O|O|O||\n",
    "    |a|||O||O|\n",
    "    |a+||O|O||O|\n",
    "    |ab|O||O||O|\n",
    "    |ab+|O|O|O||O|\n",
    "\n",
    "    `encoding='utf-8'`：避免亂碼"
   ]
  },
  {
   "cell_type": "markdown",
   "metadata": {},
   "source": [
    "## r + read\n",
    "read\n",
    "1. 語法：`read([size])`\n",
    "2. 讀到該檔案沒有(內容)為止。\n",
    "3. 以該檔案字元數量讀取時，中/英文/數字/換行都算1格。\n",
    "4. 若該檔案無參數 -> FileNotFoundError"
   ]
  },
  {
   "cell_type": "code",
   "execution_count": 22,
   "metadata": {},
   "outputs": [
    {
     "name": "stdout",
     "output_type": "stream",
     "text": [
      "python與中文\n",
      "1. 我們來試試看中文儲存能力。\n",
      "2. 許這個字會有編碼衝突風險。\n",
      "3. 犇這個字必須是utf8編碼才有。\n",
      "\n",
      "-------------\n",
      "python與中文\n",
      "1\n",
      "-------------\n"
     ]
    },
    {
     "ename": "FileNotFoundError",
     "evalue": "[Errno 2] No such file or directory: 'test0.txt'",
     "output_type": "error",
     "traceback": [
      "\u001b[1;31m---------------------------------------------------------------------------\u001b[0m",
      "\u001b[1;31mFileNotFoundError\u001b[0m                         Traceback (most recent call last)",
      "\u001b[1;32md:\\Github\\20231005作業\\作業.ipynb 儲存格 3\u001b[0m line \u001b[0;36m1\n\u001b[0;32m     <a href='vscode-notebook-cell:/d%3A/Github/20231005%E4%BD%9C%E6%A5%AD/%E4%BD%9C%E6%A5%AD.ipynb#X14sZmlsZQ%3D%3D?line=10'>11</a>\u001b[0m file\u001b[39m.\u001b[39mclose( )\n\u001b[0;32m     <a href='vscode-notebook-cell:/d%3A/Github/20231005%E4%BD%9C%E6%A5%AD/%E4%BD%9C%E6%A5%AD.ipynb#X14sZmlsZQ%3D%3D?line=12'>13</a>\u001b[0m \u001b[39mprint\u001b[39m(\u001b[39m\"\u001b[39m\u001b[39m-------------\u001b[39m\u001b[39m\"\u001b[39m)\n\u001b[1;32m---> <a href='vscode-notebook-cell:/d%3A/Github/20231005%E4%BD%9C%E6%A5%AD/%E4%BD%9C%E6%A5%AD.ipynb#X14sZmlsZQ%3D%3D?line=14'>15</a>\u001b[0m file \u001b[39m=\u001b[39m \u001b[39mopen\u001b[39;49m(\u001b[39m'\u001b[39;49m\u001b[39mtest0.txt\u001b[39;49m\u001b[39m'\u001b[39;49m, \u001b[39m'\u001b[39;49m\u001b[39mr\u001b[39;49m\u001b[39m'\u001b[39;49m, encoding\u001b[39m=\u001b[39;49m\u001b[39m'\u001b[39;49m\u001b[39mUTF-8\u001b[39;49m\u001b[39m'\u001b[39;49m) \n\u001b[0;32m     <a href='vscode-notebook-cell:/d%3A/Github/20231005%E4%BD%9C%E6%A5%AD/%E4%BD%9C%E6%A5%AD.ipynb#X14sZmlsZQ%3D%3D?line=15'>16</a>\u001b[0m content3 \u001b[39m=\u001b[39m file\u001b[39m.\u001b[39mread()\n\u001b[0;32m     <a href='vscode-notebook-cell:/d%3A/Github/20231005%E4%BD%9C%E6%A5%AD/%E4%BD%9C%E6%A5%AD.ipynb#X14sZmlsZQ%3D%3D?line=16'>17</a>\u001b[0m \u001b[39mprint\u001b[39m(content3)\n",
      "File \u001b[1;32md:\\Github\\.venv\\lib\\site-packages\\IPython\\core\\interactiveshell.py:286\u001b[0m, in \u001b[0;36m_modified_open\u001b[1;34m(file, *args, **kwargs)\u001b[0m\n\u001b[0;32m    279\u001b[0m \u001b[39mif\u001b[39;00m file \u001b[39min\u001b[39;00m {\u001b[39m0\u001b[39m, \u001b[39m1\u001b[39m, \u001b[39m2\u001b[39m}:\n\u001b[0;32m    280\u001b[0m     \u001b[39mraise\u001b[39;00m \u001b[39mValueError\u001b[39;00m(\n\u001b[0;32m    281\u001b[0m         \u001b[39mf\u001b[39m\u001b[39m\"\u001b[39m\u001b[39mIPython won\u001b[39m\u001b[39m'\u001b[39m\u001b[39mt let you open fd=\u001b[39m\u001b[39m{\u001b[39;00mfile\u001b[39m}\u001b[39;00m\u001b[39m by default \u001b[39m\u001b[39m\"\u001b[39m\n\u001b[0;32m    282\u001b[0m         \u001b[39m\"\u001b[39m\u001b[39mas it is likely to crash IPython. If you know what you are doing, \u001b[39m\u001b[39m\"\u001b[39m\n\u001b[0;32m    283\u001b[0m         \u001b[39m\"\u001b[39m\u001b[39myou can use builtins\u001b[39m\u001b[39m'\u001b[39m\u001b[39m open.\u001b[39m\u001b[39m\"\u001b[39m\n\u001b[0;32m    284\u001b[0m     )\n\u001b[1;32m--> 286\u001b[0m \u001b[39mreturn\u001b[39;00m io_open(file, \u001b[39m*\u001b[39margs, \u001b[39m*\u001b[39m\u001b[39m*\u001b[39mkwargs)\n",
      "\u001b[1;31mFileNotFoundError\u001b[0m: [Errno 2] No such file or directory: 'test0.txt'"
     ]
    }
   ],
   "source": [
    "file = open('test1.txt', 'r', encoding='UTF-8') \n",
    "content = file.read()\n",
    "print(content)\n",
    "file.close( )\n",
    "\n",
    "print(\"-------------\")\n",
    "\n",
    "file = open('test1.txt', 'r', encoding='UTF-8') \n",
    "content2 = file.read(11)\n",
    "print(content2)\n",
    "file.close( )\n",
    "\n",
    "print(\"-------------\")\n",
    "\n",
    "file = open('test0.txt', 'r', encoding='UTF-8') \n",
    "content3 = file.read()\n",
    "print(content3)\n",
    "file.close( )"
   ]
  },
  {
   "cell_type": "markdown",
   "metadata": {},
   "source": [
    "## r + readline(s)\n",
    "### readline\n",
    "1. 每次讀1行 -> 讀取時較省緩衝區，適合大型文件讀取。\n",
    "2. 讀到該檔案沒有(內容)為止。\n",
    "3. 想要它一直讀取可以用loop。\n",
    "\n",
    "### readlines\n",
    "讀取該文件所有行，保存在一個list內。可搭配以下使用：\n",
    "1. strip()：去str首尾的空白\n",
    "2. lstrip()：去str左邊空白\n",
    "3. rstrip()：去str右邊空白\n",
    "4. startswith(\" 字元 \"): 判斷第一個字是不是括號裡的字元。"
   ]
  },
  {
   "cell_type": "code",
   "execution_count": 36,
   "metadata": {},
   "outputs": [
    {
     "name": "stdout",
     "output_type": "stream",
     "text": [
      "---hello---\n",
      "---hello  ---\n",
      "---  hello---\n",
      "False\n"
     ]
    }
   ],
   "source": [
    "a=\"  hello  \"\n",
    "print(\"---\"+a.strip()+\"---\")\n",
    "print(\"---\"+a.lstrip()+\"---\")\n",
    "print(\"---\"+a.rstrip()+\"---\")\n",
    "\n",
    "b=\"hello, world!\"\n",
    "print(b.startswith(\"world\"))"
   ]
  },
  {
   "cell_type": "markdown",
   "metadata": {},
   "source": [
    "#### 範例：\n",
    "讀取test1.txt -> 刪除空行和註釋行 -> 按字母順序排列 -> 將結果寫入新創的 result.txt"
   ]
  },
  {
   "cell_type": "code",
   "execution_count": 27,
   "metadata": {},
   "outputs": [
    {
     "name": "stdout",
     "output_type": "stream",
     "text": [
      "['1. 我們來試試看中文儲存能力。', '2. 許這個字會有編碼衝突風險。', '3. 犇這個字必須是utf8編碼才有。', 'python與中文']\n"
     ]
    },
    {
     "data": {
      "text/plain": [
       "63"
      ]
     },
     "execution_count": 27,
     "metadata": {},
     "output_type": "execute_result"
    }
   ],
   "source": [
    "file=open('test1.txt', 'r', encoding='UTF-8') \n",
    "result = list( )\n",
    "for line in file.readlines( ):\n",
    "    line = line.strip( )\n",
    "    if not len(line) or line.startswith('#'):\n",
    "    # 檢查是否長度為零（即空行）或以 '#' 開頭（即註釋行）。如果是，則跳過該行，不將其添加到 result 列表中。\n",
    "        continue \n",
    "    result.append(line)\n",
    "file.close()\n",
    "\n",
    "result.sort( )#按字母順序排列\n",
    "print(result)\n",
    "open('result.txt', 'w', encoding='UTF-8').write('%s' % '\\n'.join(result))\n",
    "# %s ：取代str -> 將這個取代成經順序排列的result\n",
    "# % '\\n' ：每行後面用\\n分隔"
   ]
  },
  {
   "cell_type": "markdown",
   "metadata": {},
   "source": [
    "## w + print\n",
    "創建一個test1.txt，內容為：\n",
    "\n",
    "python與中文\n",
    "\n",
    "1. 我們來試試看中文儲存能力。\n",
    "2. 許這個字會有編碼衝突風險。\n",
    "3. 犇這個字必須是utf8編碼才有。"
   ]
  },
  {
   "cell_type": "code",
   "execution_count": 12,
   "metadata": {},
   "outputs": [],
   "source": [
    "text = '''python與中文\n",
    "1. 我們來試試看中文儲存能力。\n",
    "2. 許這個字會有編碼衝突風險。\n",
    "3. 犇這個字必須是utf8編碼才有。'''\n",
    "\n",
    "print(text ,file=open('test1.txt','w',encoding='utf-8'))"
   ]
  },
  {
   "cell_type": "markdown",
   "metadata": {},
   "source": [
    "## w + write\n",
    "創建一個test2.txt，內容為：\n",
    "\n",
    "python與中文\n",
    "\n",
    "1. 我們來試試看中文儲存能力。\n",
    "2. 許這個字會有編碼衝突風險。\n",
    "3. 犇這個字必須是utf8編碼才有。"
   ]
  },
  {
   "cell_type": "code",
   "execution_count": 13,
   "metadata": {},
   "outputs": [],
   "source": [
    "text = '''python與中文\n",
    "1. 我們來試試看中文儲存能力。\n",
    "2. 許這個字會有編碼衝突風險。\n",
    "3. 犇這個字必須是utf8編碼才有。'''\n",
    "\n",
    "file=open('test2.txt','w',encoding='utf-8')\n",
    "file.write(text)\n",
    "file.close()"
   ]
  },
  {
   "cell_type": "markdown",
   "metadata": {},
   "source": [
    "### 應用：w + write + for\n",
    "建立一個test3.txt，內容為：5個隨機50~100的list50組。"
   ]
  },
  {
   "cell_type": "code",
   "execution_count": 14,
   "metadata": {},
   "outputs": [],
   "source": [
    "import random\n",
    "\n",
    "a = []\n",
    "for _ in range(50):\n",
    "    scores = [] #建立一個0元素的list\n",
    "    for _ in range(5):\n",
    "        scores += [random.randint(50,100)]\n",
    "    a.append(scores)\n",
    "\n",
    "file = open('test3.txt','w',encoding='utf-8')\n",
    "file.write(str(a))\n",
    "file.close()"
   ]
  },
  {
   "cell_type": "code",
   "execution_count": 5,
   "metadata": {},
   "outputs": [
    {
     "ename": "ModuleNotFoundError",
     "evalue": "No module named 'password'",
     "output_type": "error",
     "traceback": [
      "\u001b[1;31m---------------------------------------------------------------------------\u001b[0m",
      "\u001b[1;31mModuleNotFoundError\u001b[0m                       Traceback (most recent call last)",
      "\u001b[1;32md:\\Github\\20231005作業\\作業.ipynb 儲存格 3\u001b[0m line \u001b[0;36m1\n\u001b[1;32m----> <a href='vscode-notebook-cell:/d%3A/Github/20231005%E4%BD%9C%E6%A5%AD/%E4%BD%9C%E6%A5%AD.ipynb#W1sZmlsZQ%3D%3D?line=0'>1</a>\u001b[0m \u001b[39mimport\u001b[39;00m \u001b[39mpassword\u001b[39;00m\n\u001b[0;32m      <a href='vscode-notebook-cell:/d%3A/Github/20231005%E4%BD%9C%E6%A5%AD/%E4%BD%9C%E6%A5%AD.ipynb#W1sZmlsZQ%3D%3D?line=1'>2</a>\u001b[0m \u001b[39mimport\u001b[39;00m \u001b[39mrequests\u001b[39;00m\n\u001b[0;32m      <a href='vscode-notebook-cell:/d%3A/Github/20231005%E4%BD%9C%E6%A5%AD/%E4%BD%9C%E6%A5%AD.ipynb#W1sZmlsZQ%3D%3D?line=2'>3</a>\u001b[0m url\u001b[39m=\u001b[39m\u001b[39mf\u001b[39m\u001b[39m\"\u001b[39m\u001b[39mhttps://data.moenv.gov.tw/api/v2/aqx_p_07?api_key=\u001b[39m\u001b[39m{\u001b[39;00mpassword\u001b[39m.\u001b[39mapi_key\u001b[39m}\u001b[39;00m\u001b[39m\"\u001b[39m\n",
      "\u001b[1;31mModuleNotFoundError\u001b[0m: No module named 'password'"
     ]
    }
   ],
   "source": [
    "import password\n",
    "import requests\n",
    "url=f\"https://data.moenv.gov.tw/api/v2/aqx_p_07?api_key={password.api_key}\"\n",
    "print(url)\n",
    "a=requests.get(url)\n",
    "\n",
    "if a.ok:\n",
    "    print(\"完成\")\n",
    "else:\n",
    "    print(\"失敗\")"
   ]
  },
  {
   "cell_type": "code",
   "execution_count": 6,
   "metadata": {},
   "outputs": [
    {
     "ename": "NameError",
     "evalue": "name 'a' is not defined",
     "output_type": "error",
     "traceback": [
      "\u001b[1;31m---------------------------------------------------------------------------\u001b[0m",
      "\u001b[1;31mNameError\u001b[0m                                 Traceback (most recent call last)",
      "\u001b[1;32md:\\Github\\20231005作業\\作業.ipynb 儲存格 4\u001b[0m line \u001b[0;36m1\n\u001b[1;32m----> <a href='vscode-notebook-cell:/d%3A/Github/20231005%E4%BD%9C%E6%A5%AD/%E4%BD%9C%E6%A5%AD.ipynb#W2sZmlsZQ%3D%3D?line=0'>1</a>\u001b[0m \u001b[39mprint\u001b[39m(a\u001b[39m.\u001b[39mtext)\n",
      "\u001b[1;31mNameError\u001b[0m: name 'a' is not defined"
     ]
    }
   ],
   "source": [
    "print(a.text)"
   ]
  },
  {
   "cell_type": "markdown",
   "metadata": {},
   "source": [
    "## 寫入CSV檔\n",
    "### CSV檔\n",
    "1. Comma-Separated Values，用逗號分隔的檔案類型。\n",
    "2. 資料均沒有類型 -> 都是str。\n",
    "3. 沒有字體、顏色、儲存格寬度&高度的設置。\n",
    "\n",
    "### 寫入流程\n",
    "1. 需先`import csv`\n",
    "2. 開啟要寫入的CSV檔案，並設定分隔符號(delimiter)和包住str(quotechar)的符號。\n",
    "3. 使用`writerow()`寫入特定的儲存格。\n",
    "4. 關閉 CSV 檔案，以確保資料已經寫入並且檔案已儲存："
   ]
  },
  {
   "cell_type": "code",
   "execution_count": 41,
   "metadata": {},
   "outputs": [],
   "source": [
    "import csv\n",
    "\n",
    "with open('test4.csv', 'w', newline='',encoding='utf-8') as file:\n",
    "    # newline=''：避免多出空行\n",
    "    csvwriter = csv.writer(file, delimiter=',', quotechar='\"', quoting=csv.QUOTE_MINIMAL) \n",
    "    csvwriter.writerow(['編號', '國文', '英文', '數學', '自然', '社會'])\n",
    "    csvwriter.writerow(['01', 87, 90, 56, 87, 89])\n",
    "    csvwriter.writerow(['02', 98, 56, 78, 90, 49])\n",
    "file.close()"
   ]
  },
  {
   "cell_type": "markdown",
   "metadata": {},
   "source": [
    "`quoting=csv.QUOTE_MINIMAL`：以下情況會使用引號\n",
    "+ 當資料中包含**特殊字元**（如逗號或換行符號）時。\n",
    "+ 當資料中包含**引號**時，以避免引號與引號之間的字串被誤解為引號的結尾。"
   ]
  },
  {
   "cell_type": "markdown",
   "metadata": {},
   "source": [
    "### 應用\n",
    "建立一個test5.txt，內容為：5個隨機50~100的list50組。"
   ]
  },
  {
   "cell_type": "code",
   "execution_count": 44,
   "metadata": {},
   "outputs": [],
   "source": [
    "import random\n",
    "import csv\n",
    "\n",
    "with open('test5.csv','w', newline='', encoding='UTF-8') as file:\n",
    "    csvWriter = csv.writer(file)\n",
    "    csvWriter.writerow(['編號', '國文', '英文', '數學', '自然', '社會'])\n",
    "    for i in range(50):\n",
    "        scores = [str(i+1)] #建立一個1元素的list\n",
    "        for _ in range(5):\n",
    "            scores += [random.randint(50,100)]\n",
    "        csvWriter.writerow(scores)\n",
    "file.close()"
   ]
  },
  {
   "cell_type": "markdown",
   "metadata": {},
   "source": [
    "### 讀取CSV檔流程\n",
    "reader( ):依照每一列的編號 由0開始\n",
    "\n",
    "DictReader( )\n",
    "以第一列的值為每一行的名稱，第一列不是資料也可以重新命名，但第一列必須是資料"
   ]
  },
  {
   "cell_type": "code",
   "execution_count": 48,
   "metadata": {},
   "outputs": [
    {
     "name": "stdout",
     "output_type": "stream",
     "text": [
      "<class '_csv.reader'>\n",
      "[['編號', '國文', '英文', '數學', '自然', '社會'], ['01', '87', '90', '56', '87', '89'], ['02', '98', '56', '78', '90', '49']]\n"
     ]
    }
   ],
   "source": [
    "with open('test5.csv','r',encoding='UTF-8') as file:\n",
    "    rows = csv.reader(file) #rows是一個generator\n",
    "    print(rows.__class__)\n",
    "    \n",
    "    #for row in rows:\n",
    "    #   print(row.__class__) #取出的是list物件\n",
    "    studentsList = list(rows)\n",
    "    print(studentsList)"
   ]
  },
  {
   "cell_type": "code",
   "execution_count": null,
   "metadata": {},
   "outputs": [],
   "source": [
    "#讀取CSV\n",
    "import csv\n",
    "with open('students.csv','r',encoding='UTF-8') as file:\n",
    "    csvReader = csv.reader(file) #rows是一個generator\n",
    "    print(csvReader.__class__)\n",
    "    \n",
    "    #for row in rows:\n",
    "    #   print(csvReader.__class__) #取出的是list物件\n",
    "    studentsList = list(csvReader)\n",
    "    #print(studentsList)\n",
    "    studentsList.pop(0)\n",
    "    #print(studentsList)\n",
    "    #list(map(int, ['1','2','3'])) #map的使用方法\n",
    "    for index in range(len(studentsList)):\n",
    "        student = studentsList[index]\n",
    "        student = list(map(int, student))\n",
    "        studentsList[index] = student\n",
    "print(studentsList)    \n",
    "studentIndex = int(input('請輸入學生編號(1-50):'))\n",
    "for student in studentsList:\n",
    "    if studentIndex == student[0]:\n",
    "        print(student)\n",
    "        break\n",
    "print(\"程式結束\")"
   ]
  },
  {
   "cell_type": "code",
   "execution_count": null,
   "metadata": {},
   "outputs": [],
   "source": [
    "#請讀入資料集內的(各鄉鎮市區人口密度.csv)\n",
    "#將資料轉為2維的list=>[[],[],[]]\n",
    "#將資料轉為2維的list=>[{},{},{}]\n",
    "\n",
    "import csv\n",
    "\n",
    "poplist = []\n",
    "f = open('各鄉鎮市區人口密度.csv','r',encoding='UTF-8')\n",
    "csvReader = csv.reader(f)\n",
    "for row in csvReader:\n",
    "    if row[0] == '106':\n",
    "        poplist.append(row)\n",
    "f.close()\n",
    "poplist"
   ]
  },
  {
   "cell_type": "code",
   "execution_count": null,
   "metadata": {},
   "outputs": [],
   "source": [
    "#請讀入資料集內的(各鄉鎮市區人口密度.csv)\n",
    "#將資料轉為2維的list=>[{},{},{}]\n",
    "import csv\n",
    "poplist = list()\n",
    "f = open('各鄉鎮市區人口密度.csv','r',encoding='UTF-8')\n",
    "next(f)\n",
    "reader = csv.DictReader(f)\n",
    "data=[{'統計年':row['統計年'],'區域別':row['區域別'],'年底人口數':row['年底人口數'],'土地面積':row['土地面積'],'人口密度':row['人口密度']} for row in reader]\n",
    "for item in data:\n",
    "    if '新北市' in item['區域別']:\n",
    "        poplist.append(item)\n",
    "poplist"
   ]
  },
  {
   "cell_type": "markdown",
   "metadata": {},
   "source": [
    "## JSON\n",
    "### Python & JSON的資料型態\n",
    "|Python|JSON|\n",
    "|---|---|\n",
    "|dict|objet|\n",
    "|list、tuple|array|\n",
    "|int、float|number|\n",
    "|True|true|\n",
    "|False|false|\n",
    "|None|null|"
   ]
  },
  {
   "cell_type": "markdown",
   "metadata": {},
   "source": [
    "### Python -> JSON\n",
    "1. 以 json.dumps( ) 函數從 Python dictionary轉出JSON字串。\n",
    "2. 以 json.dump( ) 函數從 Python dictionary轉出 JSON 檔案中。\n",
    "3. json資料於Python處理UTF8碼內容會產生亂碼，建議 dumps 時加入 以下的參數才可以正確處理UTF8碼內容:ensure_ascii=False\n",
    "4. Python 與 JSON 檔案:\n",
    "    1. JSON 檔案的中文資料於某些編輯軟體內會變成亂碼，但 Python 可以存取。\n",
    "    2. 檔案寫入可用一般文件方式寫入，也可以使用 JSON 的方法寫入。"
   ]
  },
  {
   "cell_type": "code",
   "execution_count": null,
   "metadata": {},
   "outputs": [],
   "source": [
    "import json\n",
    "pyDic = {'python': 'good', 'gjun': 100, 'python-class':True,'ICQ': None}\n",
    "json2 = json.dumps(pyDic, ensure_ascii=False)\n",
    "print(type(json2))\n",
    "json3=json2.encode('utf8')\n",
    "print(type(json3))\n",
    "print(json2)\n",
    "print(json3)"
   ]
  },
  {
   "cell_type": "code",
   "execution_count": null,
   "metadata": {},
   "outputs": [],
   "source": [
    "#將dictionary轉成json的字串\n",
    "#使用json.dumps()\n",
    "import json\n",
    "codes = {'tw': 'Taiwan', 'jp': 'japan', 'hk': 'HongKong', 'us': '美國'}\n",
    "print(codes.__class__)\n",
    "jsonStr = json.dumps(codes,ensure_ascii=False)\n",
    "jsonStr.__class__\n",
    "\n",
    "#將json字串存成檔案使用open()方法\n",
    "with open('codes.json','w',encoding='utf-8') as file:\n",
    "    file.write(jsonStr)\n",
    "print(\"json檔案存檔完成\")"
   ]
  },
  {
   "cell_type": "code",
   "execution_count": null,
   "metadata": {},
   "outputs": [],
   "source": [
    "#將dictionary直接轉成json檔案\n",
    "#使用json.dump()\n",
    "import json\n",
    "codes = {'tw': 'Taiwan', 'jp': 'japan', 'hk': 'HongKong', 'us': '美國'}\n",
    "with open('codes1.json','w',encoding='utf-8') as file:\n",
    "    json.dump(codes, file,ensure_ascii=False)\n",
    "print(\"json檔案存檔完成\")"
   ]
  },
  {
   "cell_type": "code",
   "execution_count": null,
   "metadata": {},
   "outputs": [],
   "source": [
    "# 操作範例 2:請動手操作，並留意輸出結果\n",
    "\n",
    "import json\n",
    "data = {}\n",
    "data['people'] = []\n",
    "data['people'].append({'name': 'Scott','website': 'stackabuse.com','from': 'Nebraska'})\n",
    "data['people'].append({'name': 'Larry', 'website': 'google.com', 'from': 'Michigan'})\n",
    "\n",
    "#使用dump寫入json檔案,必需使用python的dictionary物件\n",
    "with open('data.json', 'w') as outfile:\n",
    "    json.dump(data, outfile)\n",
    "\n",
    "#使用write寫入使需使用的json字串格式\n",
    "json2 = json.dumps(data)\n",
    "file=open('score.json','w',encoding='utf-8')\n",
    "file.write((json2));\n",
    "file.close();"
   ]
  },
  {
   "cell_type": "code",
   "execution_count": null,
   "metadata": {},
   "outputs": [],
   "source": [
    "#建立50位學生,每位學生有5個分數\n",
    "#list內放dictionary\n",
    "import random\n",
    "students = []\n",
    "for i in range(1,51):\n",
    "    stdDict = {'姓名':'stu' + str(i),\n",
    "               '國文':random.randint(50,100),\n",
    "               '英文':random.randint(50,100),\n",
    "               '數學':random.randint(50,100),\n",
    "               '自然':random.randint(50,100),\n",
    "               '社會':random.randint(50,100),\n",
    "              }\n",
    "    students.append(stdDict)\n",
    "\n",
    "#儲存為json的檔案格式\n",
    "#使用json.dump()\n",
    "#json可以儲存複雜的python的資料結構\n",
    "\n",
    "import json\n",
    "with open('students.json','w',encoding='utf-8') as file:\n",
    "    json.dump(students, file, ensure_ascii=False)\n",
    "print(\"json存檔成功\")"
   ]
  },
  {
   "cell_type": "markdown",
   "metadata": {},
   "source": [
    "###  JSON -> Python\n",
    "以 json.loads( ) 函數從 JSON 字串中取出資料轉入 Python。\n",
    "以 json.load( ) 函數從 JSON 檔案中取出資料轉入 Python。"
   ]
  },
  {
   "cell_type": "code",
   "execution_count": null,
   "metadata": {},
   "outputs": [],
   "source": [
    "#讀取students.json\n",
    "#使用json的load()方法，載入students.json\n",
    "import json\n",
    "with open('students.json','r', encoding='utf-8') as file:\n",
    "    students = json.load(file)\n",
    "students"
   ]
  },
  {
   "cell_type": "code",
   "execution_count": null,
   "metadata": {},
   "outputs": [],
   "source": [
    "# 操作範例 1:請動手操作，並留意輸出結果\n",
    "#使用loads將json格式的字串傳成python的Dict\n",
    "\n",
    "import json\n",
    "json1 = '{\"python\": \"good\", \"gjun\": 100, \"python-class\": true, \"ICQ\": null}'\n",
    "json2 = json.loads(json1)\n",
    "print(json2)"
   ]
  },
  {
   "cell_type": "code",
   "execution_count": null,
   "metadata": {},
   "outputs": [],
   "source": [
    "# 操作範例 2:請動手操作，並留意輸出結果\n",
    "#使用load()將json檔轉成Dictionary\n",
    "\n",
    "import json\n",
    "\n",
    "#data = json.load('score.json')  #會出錯\n",
    "\n",
    "with open('score.json') as json_file:\n",
    "    data = json.load(json_file)\n",
    "    for p in data['people']:\n",
    "        print('Name:' + p['name'])\n",
    "        print('Website:' + p['website'])\n",
    "        print('From:'+p['from'])\n",
    "        print()"
   ]
  },
  {
   "cell_type": "code",
   "execution_count": null,
   "metadata": {},
   "outputs": [],
   "source": [
    "# 請處理(新北市公共自行車租賃系統.json)\n",
    "# google搜尋online json viewer\n",
    "\n",
    "import json\n",
    "with open('新北市公共自行車租賃系統.json') as json_file:\n",
    "    data = json.load(json_file)\n",
    "    if data['success']:\n",
    "        records = data['result']['records']\n",
    "    else:\n",
    "        print('讀取失敗')\n",
    "\n",
    "for record in records:\n",
    "    if '新店區' in record['sarea']:        \n",
    "        print('區域',record['sarea'])\n",
    "        print('站名',record['sna'])\n",
    "        print('地址',record['ar'])\n",
    "        print('緯經度座標[{},{}]'.format(record['lat'],record['lng']))\n",
    "        print('全部數量',record['tot'])\n",
    "        print('可借',record['sbi'])\n",
    "        print('可還',record['bemp'])\n",
    "        print('----------------------')\n",
    "        print()"
   ]
  },
  {
   "cell_type": "code",
   "execution_count": null,
   "metadata": {},
   "outputs": [],
   "source": [
    "# 下載json,解析json,轉存為csv檔\n",
    "import requests\n",
    "import csv\n",
    "\n",
    "def download_weather():\n",
    "    url = 'https://opendata.cwb.gov.tw/fileapi/v1/opendataapi/F-C0032-001?Authorization=rdec-key-123-45678-011121314&format=JSON'\n",
    "\n",
    "    response = requests.get(url)\n",
    "    if response.status_code == 200:\n",
    "        print(\"下載成功\")\n",
    "        weather = response.json()\n",
    "        return weather\n",
    "    else:\n",
    "        print(\"下載失敗\")\n",
    "        return False\n",
    "\n",
    "def parse_json(w):\n",
    "    location = w['cwbopendata']['dataset']['location']\n",
    "    weather_list = []\n",
    "    for item in location:\n",
    "        city_item = {}\n",
    "        city_item['城市'] = item['locationName']\n",
    "        city_item['啟始時間'] = item['weatherElement'][1]['time'][0]['startTime']\n",
    "        city_item['結束時間'] = item['weatherElement'][1]['time'][0]['endTime']\n",
    "        city_item['最高溫度'] = float(item['weatherElement'][1]['time'][0]['parameter']['parameterName'])\n",
    "        city_item['最低溫度'] = float(item['weatherElement'][2]['time'][0]['parameter']['parameterName'])\n",
    "        city_item['感覺'] = item['weatherElement'][3]['time'][0]['parameter']['parameterName']\n",
    "        weather_list.append(city_item)\n",
    "    \n",
    "    return weather_list\n",
    "\n",
    "def save_csv(data):\n",
    "    with open('目前天氣.csv',mode='w',encoding='utf-8',newline='') as file:\n",
    "        fieldnames = ['城市', '啟始時間','結束時間','最高溫度','最低溫度','感覺']\n",
    "        writer = csv.DictWriter(file,fieldnames=fieldnames)\n",
    "        writer.writeheader()\n",
    "        writer.writerows(data)\n",
    "\n",
    "def main():\n",
    "    #下載json檔\n",
    "    weather = download_weather()\n",
    "\n",
    "    if weather != False:\n",
    "        print(\"下載完畢\")\n",
    "    else:\n",
    "        print(\"應用程式下載失敗\")\n",
    "        return\n",
    "    \n",
    "    csv_data = parse_json(weather)\n",
    "    save_csv(csv_data)\n",
    "\n",
    "\n",
    "if __name__ == \"__main__\":\n",
    "    main()"
   ]
  },
  {
   "cell_type": "markdown",
   "metadata": {},
   "source": [
    "### 檔案進階操作\n",
    "檔案存取與例外處理\n",
    "\n",
    "1. Python 的文件存取是透過 open( ) 方法建立文件物件方式進行存取， 如果文件不存在或讀取存限限制將會產生例外。\n",
    "2. 檔案存取例外為 IOError ，另外有兩個子類別:\n",
    "    1. FileNotFoundError，代表 “找不到檔案”。\n",
    "    2. PermissionError，代表 “沒有權限存取”。"
   ]
  },
  {
   "cell_type": "code",
   "execution_count": null,
   "metadata": {},
   "outputs": [],
   "source": [
    "try:\n",
    "    f = open('data.txt', 'r', encoding=\"utf8\") \n",
    "    print(f.read( ))\n",
    "    \n",
    "except FileNotFoundError: \n",
    "    print(\"找不到檔案\")\n",
    "except PermissionError: \n",
    "    print(\"你沒有權限存取\")\n",
    "except IOError: \n",
    "    print(\"其他檔案IO問題\")\n",
    "except: \n",
    "    print(\"其他例外\")\n",
    "    \n",
    "f.close( )"
   ]
  },
  {
   "cell_type": "markdown",
   "metadata": {},
   "source": [
    "## 檔案關閉\n",
    "1. 檔案開啟後須進行 close( ) 方法進行關閉動作。\n",
    "2. 若檔案沒關閉會造成:\n",
    "    1. 開啟的文件物件會占用系統資源。\n",
    "    2. Python 可以同時間開啟的文件數量有限制 (約 20 份文件)。\n",
    "    3. 開啟文件物件的模式若為寫入 (w 或 a) 模式，一般都是暫存於緩衝區，系統閒置或文件關閉前才會進行寫入，若沒有進行 close( ) 動作可能造成文 件儲存不完整。"
   ]
  },
  {
   "cell_type": "code",
   "execution_count": null,
   "metadata": {},
   "outputs": [],
   "source": [
    "# 操作範例:請動手操作，並留意輸出結果\n",
    "import os\n",
    "\n",
    "class tryopenfile:\n",
    "    def openfile(self, filePath):\n",
    "        self.handle = open(filePath, 'w')\n",
    "        self.handle.close()\n",
    "\n",
    "if __name__ == '__main__':\n",
    "    t = tryopenfile( )\n",
    "    filePath = 'test.txt' \n",
    "    t.openfile(filePath) \n",
    "    os.remove(filePath) \n",
    "    print('success')"
   ]
  },
  {
   "cell_type": "markdown",
   "metadata": {},
   "source": [
    "## With 方式操作檔案\n",
    "1. 多個檔案存取時若前一個檔案產生 IO 例外，將會造成後面無法進行close( ) 動作。\n",
    "2. 以 with 方式操作檔案:\n",
    "    1. 檔案存取仍有可能產生 IO 例外。\n",
    "    2. 離開 with 區塊時檔案將會自動進行close( )動作，自動關閉檔案。"
   ]
  },
  {
   "cell_type": "code",
   "execution_count": null,
   "metadata": {},
   "outputs": [],
   "source": [
    "# 操作範例 1:請動手操作，並留意輸出結果\n",
    "try:\n",
    "    with open('data.txt', 'r', encoding=\"utf8\") as f:\n",
    "        print(f.read( ))\n",
    "except FileNotFoundError:\n",
    "    print(\"找不到檔案\") \n",
    "except PermissionError:\n",
    "    print(\"你沒有權限存取\")\n",
    "except IOError: \n",
    "    print(\"其他檔案IO問題\")\n",
    "except: \n",
    "    print(\"其他例外\") "
   ]
  }
 ],
 "metadata": {
  "kernelspec": {
   "display_name": ".venv",
   "language": "python",
   "name": "python3"
  },
  "language_info": {
   "codemirror_mode": {
    "name": "ipython",
    "version": 3
   },
   "file_extension": ".py",
   "mimetype": "text/x-python",
   "name": "python",
   "nbconvert_exporter": "python",
   "pygments_lexer": "ipython3",
   "version": "3.10.8"
  },
  "orig_nbformat": 4
 },
 "nbformat": 4,
 "nbformat_minor": 2
}
