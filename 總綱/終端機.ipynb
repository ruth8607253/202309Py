{
 "cells": [
  {
   "cell_type": "markdown",
   "metadata": {},
   "source": [
    "# 終端機基礎使用\n",
    "`git status`\n",
    "\n",
    "`git clone`\n",
    "\n",
    "`git add 檔案名稱` \n",
    "\n",
    "`git commit -m \"\"`\n",
    "\n",
    "`git push`\n",
    "\n",
    "## 安裝外部套件\n",
    "1. 找到自己需要的外掛程式\n",
    "2. 在自己的介面進入虛擬環境(.venv)\n",
    "3. 在終端機引入：`pip install 外掛名稱`\n",
    "\n",
    "        範例：pip install PyInputPlus\n",
    "        \n",
    "4. 在專案的資料夾中新增`requirements.txt`(檔案名稱不能改)\n",
    "5. 在requirements.txt寫上引入的外部套件名稱>=版本\n",
    "\n",
    "這樣就可以import了"
   ]
  },
  {
   "cell_type": "code",
   "execution_count": 2,
   "metadata": {},
   "outputs": [
    {
     "name": "stdout",
     "output_type": "stream",
     "text": [
      "Please select one of the following:\n",
      "* cat\n",
      "* dog\n",
      "* goose\n",
      "'table' is not a valid choice.\n",
      "Please select one of the following:\n",
      "* cat\n",
      "* dog\n",
      "* goose\n"
     ]
    },
    {
     "data": {
      "text/plain": [
       "'cat'"
      ]
     },
     "execution_count": 2,
     "metadata": {},
     "output_type": "execute_result"
    }
   ],
   "source": [
    "import pyinputplus as pyip #外部套件名字太長時，可以用as幫外部套件取簡稱\n",
    "\n",
    "a=pyip.inputMenu([\"cat\",\"dog\",\"goose\"])\n",
    "a"
   ]
  },
  {
   "cell_type": "markdown",
   "metadata": {},
   "source": [
    "### 解除安裝的套件\n",
    "如果在虛擬環境，就直接把.venv刪掉重灌即可。一般情況很難刪掉，因為下載一個外部套件不只是安裝其功能，可能還順便下載一些東西，要全部刪乾淨很難。"
   ]
  }
 ],
 "metadata": {
  "kernelspec": {
   "display_name": ".venv",
   "language": "python",
   "name": "python3"
  },
  "language_info": {
   "codemirror_mode": {
    "name": "ipython",
    "version": 3
   },
   "file_extension": ".py",
   "mimetype": "text/x-python",
   "name": "python",
   "nbconvert_exporter": "python",
   "pygments_lexer": "ipython3",
   "version": "3.10.8"
  },
  "orig_nbformat": 4
 },
 "nbformat": 4,
 "nbformat_minor": 2
}
