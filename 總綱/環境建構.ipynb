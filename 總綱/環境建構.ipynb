{
 "cells": [
  {
   "cell_type": "markdown",
   "metadata": {},
   "source": [
    "# 環境建構\n",
    "### *如果有空，每下載一個東西都重新啟動會比較安全。\n",
    "看Python版本：`!python --version`\n",
    "## 下載git\n",
    "最後一個介面2個勾都要勾 -> finish -> 把vscode關掉重開 ->重開終端機 -> 按終端機右上角：+旁邊的的展開鍵(Launch Profile) -> 選取預設設定檔 -> 選Git Bash -> 按+ -> 把PowerShall刪掉\n",
    "## 建虛擬環境(.venv)\n",
    "原本所有專案的外掛程式都會存進「全域套件」裡，這樣全域套件會越來越大。虛擬環境是掛在每個專案下的，這樣每個專案就可以有自己的外掛，互不影響。\n",
    "### 流程\n",
    "1. 在專案裡創.gitignore\n",
    "\n",
    "創這個後，虛擬環境不會一起上傳到repo裡。\n",
    "\n",
    "在專案裡按右鍵 -> 新增檔案 -> `.gitignore` -> 在裡面打`.venv`\n",
    "\n",
    "2. 引入、並進入venv\n",
    "\n",
    "在終端機打`python -m venv .venv` -> `source .venv/Scripts/activate`\n",
    "\n",
    "離開：`deactivate`\n",
    "\n",
    "## 更換成Colab介面\n",
    "在專案裡新增檔案:aaa.ipynb -> 點右上角的「選取核心」 -> 選「.venv(Python3.10.8) .venv/Scripts/python.exe」"
   ]
  }
 ],
 "metadata": {
  "kernelspec": {
   "display_name": ".venv",
   "language": "python",
   "name": "python3"
  },
  "language_info": {
   "name": "python",
   "version": "3.10.8"
  },
  "orig_nbformat": 4
 },
 "nbformat": 4,
 "nbformat_minor": 2
}
