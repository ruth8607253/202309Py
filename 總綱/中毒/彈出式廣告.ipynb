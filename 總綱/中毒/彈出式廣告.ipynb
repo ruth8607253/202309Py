{
 "cells": [
  {
   "cell_type": "markdown",
   "metadata": {},
   "source": [
    "# 只是彈出式廣告\n",
    "有時候去觀看一些網站，允許存取一些東西後，畫面右邊會一直跳出「電腦中毒，需下載防毒軟體」的視窗 => 只是廣告\n",
    "\n",
    "## 解決方法 - 以Chrome為例\n",
    "1. 打開瀏覽網站 -> 點右上角的三個點點 -> 點「設定」\n",
    "\n",
    "    ![fish1](./img/fish1.jpg)\n",
    "\n",
    "2. 搜尋「通知」 -> 點「網站設定」\n",
    "\n",
    "    ![fish2](./img/fish2.jpg)\n",
    "\n",
    "3. 點「通知」\n",
    "\n",
    "    ![fish3](./img/fish3.jpg)\n",
    "\n",
    "4. 把「允許傳送通知」裡的東西刪掉\n",
    "\n",
    "    ![fish4](./img/fish4.jpg)"
   ]
  }
 ],
 "metadata": {
  "language_info": {
   "name": "python"
  }
 },
 "nbformat": 4,
 "nbformat_minor": 2
}
