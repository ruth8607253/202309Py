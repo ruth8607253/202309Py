{
 "cells": [
  {
   "cell_type": "markdown",
   "metadata": {},
   "source": [
    "# 環境建構\n",
    "### *如果有空，每下載一個東西都重新啟動會比較安全。"
   ]
  },
  {
   "cell_type": "markdown",
   "metadata": {},
   "source": [
    "## 安裝vscode\n",
    "###### 20230921\n",
    "User Installer：給當下使用的帳號使用的安裝。\n",
    "\n",
    "System Installer：給所有使用者使用的安裝。\n",
    "\n",
    "-> 選`System Installer的x86`\n",
    "\n",
    "其他下載後的設定(中文etc)可以看郭老師/VSCode安裝與使用.doc"
   ]
  },
  {
   "cell_type": "markdown",
   "metadata": {},
   "source": [
    "## 安裝GitHub Desktop\n",
    "1. 谷歌搜尋並下載GitHub Desktop -> 打開後點`Sign in to GitHub.com` -> 登入 -> `Authorize desktop` -> 登入完成後就關掉登入頁面\n",
    "\n",
    "2. 在Configure Git畫面`把email改成平常用的email` -> Finish\n",
    "\n",
    "3. 選取自己的專案\n",
    "\n",
    "    ![流程1](./image/desktop-1.jpg)\n",
    "\n",
    "4. 點選左上角\n",
    "\n",
    "    ![流程2](./image/desktop-2.jpg)\n",
    "\n",
    "5. `Add` -> `Clone Repository`\n",
    "\n",
    "    ![流程3](./image/desktop-3.jpg)\n",
    "\n",
    "6. 選取專案 -> 挑整儲存專案的地方(在D槽新增一個資料夾：GitHub，把專案存在裡面，這樣比較好管理)\n",
    "\n",
    "    ![流程4](./image/desktop-4.jpg)"
   ]
  },
  {
   "cell_type": "markdown",
   "metadata": {},
   "source": [
    "## 安裝git\n",
    "1. 可以存在D槽\n",
    "\n",
    "2. 最後一個介面2個勾都要勾 -> finish\n",
    "\n",
    "    ![git](./image/git.jpg)\n",
    "\n",
    "3. 把vscode關掉重開 -> 重開終端機 -> 按終端機右上角：+旁邊的的展開鍵(Launch Profile) -> 選取預設設定檔 -> 選Git Bash -> 按+ -> 把PowerShall刪掉"
   ]
  },
  {
   "cell_type": "markdown",
   "metadata": {},
   "source": [
    "## 安裝Python & Python外掛 & Jupyter外掛\n",
    "1. 看Python版本：在電腦上查詢Git Bash -> 打`!python --version` = `!python -v`\n",
    "\n",
    "    如果上面沒顯示東西 -> 電腦沒裝Python\n",
    "\n",
    "2. 谷歌搜尋Python官網 -> Downloads 裡選 Windows -> 本次上課是用 python3.10.8\n",
    "\n",
    "    ![git](./image/3.10.8.jpg)\n",
    "\n",
    "3. 一開始安裝介面：`Add python.exe to PATH`要打勾\n",
    "\n",
    "    ![git](./image/python-1.jpg)\n",
    "\n",
    "4. 儲存Python的地方要改一下：把它存到D/python3.10.8，方便以後下載不同版本的python時好管理。\n",
    "\n",
    "    ![git](./image/python-2.jpg)\n",
    "\n",
    "5. 下載完後，在最後的介面點掉「禁用路徑長度限制」：`Disable path length limit`\n",
    "\n",
    "    ![git](./image/python-3.jpg)\n",
    "\n",
    "6. 在vscode安裝python外掛 & Jupyter外掛\n",
    "\n",
    "    ![git](./image/py&Jpy外掛.jpg)"
   ]
  },
  {
   "cell_type": "markdown",
   "metadata": {},
   "source": [
    "## 建虛擬環境(.venv)\n",
    "原本所有專案的外掛程式都會存進「全域套件」裡，這樣全域套件會越來越大。虛擬環境是掛在每個專案下的，這樣每個專案就可以有自己的外掛，互不影響。\n",
    "### 流程\n",
    "1. 在專案裡創.gitignore\n",
    "\n",
    "    創這個後，虛擬環境不會一起上傳到repo裡。\n",
    "\n",
    "    在專案裡按右鍵 -> 新增檔案 -> `.gitignore` -> 在裡面打`.venv`\n",
    "\n",
    "2. 引入、並進入venv\n",
    "\n",
    "    引入：在終端機打`python -m venv .venv`\n",
    "\n",
    "    進入：`source .venv/Scripts/activate`\n",
    "\n",
    "    離開：`deactivate`"
   ]
  },
  {
   "cell_type": "markdown",
   "metadata": {},
   "source": [
    "## 更換成虛擬環境介面\n",
    " 點右上角的「選取核心」 -> 選「.venv(Python3.10.8) .venv/Scripts/python.exe」"
   ]
  },
  {
   "cell_type": "markdown",
   "metadata": {},
   "source": [
    "## 用colab介面\n",
    "在專案裡新增檔案:aaa.ipynb"
   ]
  },
  {
   "cell_type": "markdown",
   "metadata": {},
   "source": [
    "## 用GitHub CLI創建環境\n",
    "1. 上谷歌下載GitHub CLI(沒啥需要注意的，就順順下載)\n",
    "\n",
    "2. 在電腦(以後專案儲存的位置)上創一個資料夾\n",
    "\n",
    "3. 確定GitHub CLI有裝好\n",
    "\n",
    "    流程：打開vscode -> 開啟剛剛創的資料夾 -> 開啟終端機(bash) -> `gh --version`\n",
    "\n",
    "4. 登入GitHub\n",
    "\n",
    "    流程：`gh auth login` -> 選`GitHub.com` -> 選`HTTPS` -> 選`Yes` -> 選`Login with a web browser`\n",
    "\n",
    "    -> 跑出：`! First copy your one-time code:XXXX-XXXX` 如：3D54-951F\n",
    "\n",
    "    -> 複製這串code，把它貼在下一行後面：`Press Enter to open github.com in your browser...`3D54-951F\n",
    "\n",
    "    -> 按Enter後，網站會跑出一個介面，在貼一次code(3D54-951F) ->選 `Authorize github` -> 如果有下載手機板還會要再認證一下，之後確定登入後就可以把網站關掉。\n",
    "\n",
    "    -> 回vscode終端機打：`gh auth status`，跑出的項目都綠勾勾表示登入完成。\n",
    "\n",
    "5. `git init` -> `git add .`\n",
    "\n",
    "6. 創建儲存庫(repo)：`gh repo create 儲存庫名字 --public --source=. --remote=origin`\n",
    "\n",
    "    `--public`：公開儲存庫，如果要隱藏打--private\n",
    "\n",
    "    範例：gh repo create AAA --public --source=. --remote=origin"
   ]
  },
  {
   "cell_type": "markdown",
   "metadata": {},
   "source": [
    "## 建構引入外部套件的環境\n",
    "1. 創一個`requirements.txt` -> 在上面寫上即將引入的外部套件名稱、版本。\n",
    "2. 在終端機打`pip install -r requirements.txt`"
   ]
  },
  {
   "cell_type": "markdown",
   "metadata": {},
   "source": [
    "## 創建資料與上傳\n",
    "### 創鍵、編輯資料夾與檔案\n",
    "1. 創資料夾：`mkdir 資料夾名稱` 如：aaa\n",
    "\n",
    "2. 進到資料夾裡：`cd 資料夾名稱` 如：cd aaa\n",
    "\n",
    "3. 創建檔案：`touch 檔案名稱.類型` 如：touch a1.py\n",
    "\n",
    "4. 在檔案裡打些東西：`vim a1.py` -> print(\"Hello, AAA!\") -> `Esc` + `:` + `wq`\n",
    "\n",
    "### 上傳資料\n",
    "1. 將檔案放到暫存區：`git add .`\n",
    "\n",
    "2. 打新增/修改備註：`git commit -m \"新增/修改備註\"`  如：git commit -m \"創a1\"\n",
    "\n",
    "3. 上傳：`git push --set-upstream origin master`\n",
    "\n",
    "    --set-upstream = -u ：以後只要打「git push」(不用再打git push origin master)就可以直接上傳\n",
    "\n",
    "### 刪除\n",
    "1. 在終端機打`gh repo delete` \n",
    "\n",
    "    -> 跑出：`Type 使用者名稱/專案名稱 to confirm deletion: 使用者名稱/專案名稱` \n",
    "\n",
    "    範例：Type ruth8607253/AAA to confirm deletion: ruth8607253/AAA\n",
    "\n",
    "    -> 跑出：`HTTP 403: Must have admin rights to Repository. (https://api.github.com/repos/使用者名稱/專案名稱)\n",
    "    This API operation needs the \"delete_repo\" scope. To request it, run:  gh auth refresh -h github.com -s delete_repo`\n",
    "\n",
    "    -> 複製上面的`gh auth refresh -h github.com -s delete_repo`，打在下一行\n",
    "\n",
    "    -> 跑出：`? Authenticate Git with your GitHub credentials?`，選`Yes`\n",
    "\n",
    "    -> 跑出：`! Using secure storage could break installed extensionsy\n",
    "    ! First copy your one-time code: XXXX-XXXX' 如：579D-A87E\n",
    "\n",
    "    -> 複製這串code，把它貼在下一行後面：`Press Enter to open github.com in your browser...`579D-A87E\n",
    "\n",
    "    -> 按Enter後，網站會跑出一個介面，在貼一次code(579D-A87E) ->選 `Authorize github`\n",
    "\n",
    "    -> 再輸入一次`gh repo delete`\n",
    "\n",
    "    -> 跑出：`Type 使用者名稱/專案名稱 to confirm deletion: 使用者名稱/專案名稱`\n",
    "\n",
    "    -> 跑出綠勾勾`Deleted repository 使用者名稱/專案名稱`即刪除完成\n",
    "\n",
    "2. 刪掉.git：`rm -rf .git`"
   ]
  },
  {
   "cell_type": "markdown",
   "metadata": {},
   "source": [
    "## 用git在vscode恢復上一棟：Sourcetree\n",
    "*恢復原狀後沒辦法再變回有打程式的狀態，所以要想清楚。\n",
    "### 安裝Sourcetree\n",
    "1. 下載Sourcetree\n",
    "\n",
    "    上谷歌查Sourcetree -> 下載Windows版本 -> 勾選I agree to the Atlassian Software License Agreement and Privacy Policy.並下載\n",
    "2. 安裝\n",
    "\n",
    "    一開始出現的「Bitbucket Server」&「Bitbucket」是類似GitHub的服務空間，我們有GitHub了，所以不用這個 => Skip\n",
    "\n",
    "    ![sourcetree1](./image/sourcetree1.jpg)\n",
    "\n",
    "    Mercurial是另一套版控軟體，可以不裝(裝了也不會怎樣啦)。如果之後想裝可以再開Sourcetree安裝。\n",
    "\n",
    "    ![sourcetree2](./image/sourcetree2.jpg)\n",
    "\n",
    "    如果之前已經有git，會自動跑出當初設定的名字 & email。\n",
    "\n",
    "    ![sourcetree3](./image/sourcetree3.jpg)\n",
    "\n",
    "    是否載入 SSH 的金鑰檔案，可以「No」\n",
    "    \n",
    "    ![sourcetree4](./image/sourcetree4.jpg)"
   ]
  },
  {
   "cell_type": "markdown",
   "metadata": {},
   "source": [
    "## Bootstrap\n",
    "做網頁有2個方法：\n",
    "1. 純html+css\n",
    "2. 用Bootstrap -> responsive web design，html+css為輔 => 比較快\n",
    "\n",
    "### 服務\n",
    "提供已經寫好的CSS & JS\n",
    "\n",
    "### 流程\n",
    "#### 下載外部套件\n",
    "1. 谷歌Bootstrap -> 打開繁體中文介面 -> 下載 -> 編譯好的 CSS和JS(壓縮檔)\n",
    "2. 把CSS & JS資料夾裡的bootstrap & bootstrap.map分別複製到VScode的CSS & JS資料夾裡。"
   ]
  }
 ],
 "metadata": {
  "kernelspec": {
   "display_name": ".venv",
   "language": "python",
   "name": "python3"
  },
  "language_info": {
   "name": "python",
   "version": "3.10.8"
  },
  "orig_nbformat": 4
 },
 "nbformat": 4,
 "nbformat_minor": 2
}
