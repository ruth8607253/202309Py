{
 "cells": [
  {
   "cell_type": "markdown",
   "metadata": {},
   "source": [
    "# 標準函式庫 & 外部套件\n",
    "modules 組件、模組：一堆函式&功能(function)包在一起\n",
    "\n",
    "先人為了省去重覆出現的組件，將這些作成資料庫丟到網上造福萬民。\n",
    "\n",
    "標準函式庫：python內建的組件。\n",
    "\n",
    "外部套件：需要從外部引入的先人智慧結晶體。\n",
    "## 標準函式庫-Library\n",
    "看得懂英文可以去W3schools，介面比較可愛，各種語法都能來這找。\n",
    "[W3schools](https://www.w3schools.com/)\n",
    "\n",
    "中文可以去STEAM教育學習網，大致上解釋得不錯。\n",
    "[STEAM教育學習網](https://steam.oxxostudio.tw/)\n",
    "## 外部套件\n",
    "一樣，看得懂英文GitHub上面有很多有趣的結晶體。\n",
    "### 安裝外部套件\n",
    "1. 找到自己需要的外部套件\n",
    "2. 在自己的介面進入虛擬環境(.venv)\n",
    "3. 在終端機引入：`pip install 套件名稱`\n",
    "\n",
    "    範例：pip install PyInputPlus\n",
    "        \n",
    "4. 在專案的資料夾中新增`requirements.txt`(檔案名稱不能改)\n",
    "5. 在requirements.txt寫上引入的套件名稱>=版本\n",
    "\n",
    "   這樣就可以import了"
   ]
  },
  {
   "cell_type": "code",
   "execution_count": 12,
   "metadata": {},
   "outputs": [
    {
     "name": "stdout",
     "output_type": "stream",
     "text": [
      "Please select one of the following:\n",
      "* cat\n",
      "* dog\n",
      "* goose\n",
      "'table' is not a valid choice.\n",
      "Please select one of the following:\n",
      "* cat\n",
      "* dog\n",
      "* goose\n"
     ]
    },
    {
     "data": {
      "text/plain": [
       "'cat'"
      ]
     },
     "execution_count": 12,
     "metadata": {},
     "output_type": "execute_result"
    }
   ],
   "source": [
    "import pyinputplus\n",
    "\n",
    "a=pyinputplus.inputMenu([\"cat\",\"dog\",\"goose\"])\n",
    "a"
   ]
  },
  {
   "cell_type": "markdown",
   "metadata": {},
   "source": [
    "### 解除外部套件\n",
    "如果在虛擬環境，就直接把.venv刪掉重灌即可。一般情況很難刪掉，因為下載一個外部套件不只是安裝其功能，可能還順便下載一些東西，要全部刪乾淨很難。\n",
    "\n",
    "### 組件使用方法\n",
    "1. 組件名字太長時，可以用`as`幫它取簡稱"
   ]
  },
  {
   "cell_type": "code",
   "execution_count": 13,
   "metadata": {},
   "outputs": [
    {
     "name": "stdout",
     "output_type": "stream",
     "text": [
      "Please select one of the following:\n",
      "* cat\n",
      "* dog\n",
      "* goose\n"
     ]
    },
    {
     "data": {
      "text/plain": [
       "'goose'"
      ]
     },
     "execution_count": 13,
     "metadata": {},
     "output_type": "execute_result"
    }
   ],
   "source": [
    "import pyinputplus as pyip\n",
    "\n",
    "a=pyip.inputMenu([\"cat\",\"dog\",\"goose\"])\n",
    "a"
   ]
  },
  {
   "cell_type": "markdown",
   "metadata": {},
   "source": [
    "2. 當我整段程式只需要用到組件中其中一項函式時；或我引入了很多組件，我擔心組件間的效果會相互影響、排斥時：可以在import時用`from`先標示，這樣在寫程式時就不需要一直提到組件名稱。"
   ]
  },
  {
   "cell_type": "code",
   "execution_count": 14,
   "metadata": {},
   "outputs": [
    {
     "name": "stdout",
     "output_type": "stream",
     "text": [
      "t\n"
     ]
    }
   ],
   "source": [
    "from random import choice\n",
    "\n",
    "c = choice([\"h\",\"t\"]) #翻硬幣遊戲沒寫完版\n",
    "print(c)"
   ]
  }
 ],
 "metadata": {
  "kernelspec": {
   "display_name": ".venv",
   "language": "python",
   "name": "python3"
  },
  "language_info": {
   "codemirror_mode": {
    "name": "ipython",
    "version": 3
   },
   "file_extension": ".py",
   "mimetype": "text/x-python",
   "name": "python",
   "nbconvert_exporter": "python",
   "pygments_lexer": "ipython3",
   "version": "3.10.8"
  },
  "orig_nbformat": 4
 },
 "nbformat": 4,
 "nbformat_minor": 2
}
