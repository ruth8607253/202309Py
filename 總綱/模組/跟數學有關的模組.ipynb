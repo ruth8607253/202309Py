{
 "cells": [
  {
   "cell_type": "markdown",
   "metadata": {},
   "source": [
    "# 跟數學有關的模組\n",
    "## 數學模組-math\n",
    "python內建的工具模組之一(e.g.數學-math、統計-statistics、時間-time .etc)，如果想用要引入：\n",
    "\n",
    "`import math`\n",
    "\n",
    "### 四捨五入 & 無條件進位 & 無條件捨去\n",
    "#### 四捨五入-round()\n",
    "語法：`round(number, digits)`\n",
    "\n",
    "digits 四捨五入取到小數點後第幾位\n",
    "\n",
    "#### 無條件進位 & 無條件捨去-math.ceil() & math.floor()\n",
    "1. 引入math：`import math`\n",
    "2. 只能取到整數，如要取到小數點後要自己寫\n",
    "\n",
    "##### 無條件進位\n",
    "\n",
    "語法：`math.ceil(num)`\n",
    "\n",
    "##### 無條件捨去\n",
    "\n",
    "語法：`math.floor(num)`"
   ]
  },
  {
   "cell_type": "code",
   "execution_count": 1,
   "metadata": {},
   "outputs": [
    {
     "name": "stdout",
     "output_type": "stream",
     "text": [
      "1.16\n",
      "1.16\n",
      "1.15\n"
     ]
    }
   ],
   "source": [
    "import math\n",
    "\n",
    "#四捨五入\n",
    "a=1.1564846456\n",
    "print(round(a,2))\n",
    "\n",
    "#無條件進位\n",
    "a=1.1564846456\n",
    "print(math.ceil(a*100)/100)\n",
    "\n",
    "#無條件捨去\n",
    "a=1.1564846456\n",
    "print(math.floor(a*100)/100)"
   ]
  },
  {
   "cell_type": "markdown",
   "metadata": {},
   "source": [
    "### 圓周率 & log\n",
    "`math.pi`：圓周率\n",
    "\n",
    "`math.e`：log"
   ]
  },
  {
   "cell_type": "code",
   "execution_count": 2,
   "metadata": {},
   "outputs": [
    {
     "name": "stdout",
     "output_type": "stream",
     "text": [
      "3.141592653589793\n",
      "2.718281828459045\n"
     ]
    }
   ],
   "source": [
    "print(math.pi)\n",
    "print(math.e)"
   ]
  },
  {
   "cell_type": "markdown",
   "metadata": {},
   "source": [
    "### 弧度&角度\n",
    "`math.radians(num)`：角度(num)轉弧度\n",
    "\n",
    "`math.degrees(num)`：弧度(num)轉角度"
   ]
  },
  {
   "cell_type": "code",
   "execution_count": 3,
   "metadata": {},
   "outputs": [
    {
     "name": "stdout",
     "output_type": "stream",
     "text": [
      "0.5235987755982988\n",
      "29.999999999999996\n"
     ]
    }
   ],
   "source": [
    "print(math.radians(30))\n",
    "print(math.degrees(0.5235987755982988))"
   ]
  },
  {
   "cell_type": "markdown",
   "metadata": {},
   "source": [
    "### sin & cos & tan\n",
    "x=弧度\n",
    "\n",
    "`math.sin(x)`：sin(x)的角度\n",
    "\n",
    "`math.cos(x)`：cos(x)的角度\n",
    "\n",
    "`math.tan(x)`：tan(x)的角度\n",
    "\n",
    "### 反的sin & cos & tan\n",
    "\n",
    "`math.asin(x)`：用sin(x)的角度求sin(x)的弧度\n",
    "\n",
    "`math.acos(x)`：用cos(x)的角度求cos(x)的弧度\n",
    "\n",
    "`math.atan(x)`：用tan(x)的角度求tan(x)的弧度"
   ]
  },
  {
   "cell_type": "code",
   "execution_count": 4,
   "metadata": {},
   "outputs": [
    {
     "name": "stdout",
     "output_type": "stream",
     "text": [
      "0.5235987755982988\n",
      "0.49999999999999994 -> 1/2\n",
      "0.8660254037844387 -> math.sqrt(3)/2\n",
      "0.5773502691896257 -> math.sqrt1/(3)\n",
      "0.5235987755982988\n"
     ]
    }
   ],
   "source": [
    "#假設一個30度的直角三角形邊分別是1:math.sqrt(3):2\n",
    "a=math.radians(30)\n",
    "print(a)\n",
    "print(f\"{math.sin(a)} -> 1/2\\n{math.cos(a)} -> math.sqrt(3)/2\\n{math.tan(a)} -> math.sqrt1/(3)\")\n",
    "print(math.asin(0.49999999999999994))"
   ]
  },
  {
   "cell_type": "markdown",
   "metadata": {},
   "source": [
    "## 統計模組-statistics\n",
    "算鐘形曲線的，更專業要參考Numpy、SciPy。\n",
    "### 平均值 & 中位數 & 眾數\n",
    "`statistics.mean([數列])`：平均值\n",
    "\n",
    "`statistics.median([數列])`：中位數\n",
    "\n",
    "`statistics.mode([數列])`：眾數，數列中重複出現最多的數字\n",
    "\n",
    "**偶個數時(數列有偶數個e.g.10個)**\n",
    "\n",
    "`statistics.median_high([數列])`：較高的中位數\n",
    "\n",
    "`statistics.median_low([數列])`：較低的中位數"
   ]
  },
  {
   "cell_type": "code",
   "execution_count": 5,
   "metadata": {},
   "outputs": [
    {
     "name": "stdout",
     "output_type": "stream",
     "text": [
      "平均值：8.666666666666666\n",
      "中位數：5.5\n",
      "較高的中位數：6\n",
      "較低的中位數：5\n",
      "眾數：5\n"
     ]
    }
   ],
   "source": [
    "import statistics\n",
    "\n",
    "print(f\"平均值：{statistics.mean([1,2,3,5,7,11,13,17,19])}\") #平均值\n",
    "\n",
    "a=[1,3,5,7,9,2,4,6,8,10]\n",
    "print(f\"中位數：{statistics.median(a)}\") #中位數\n",
    "print(f\"較高的中位數：{statistics.median_high(a)}\") #較高的中位數\n",
    "print(f\"較低的中位數：{statistics.median_low(a)}\") #較低的中位數\n",
    "\n",
    "print(f\"眾數：{statistics.mode([1,2,2,3,3,3,4,4,4,5,6,7,8,5,5,5,5,6,8,8,7,7,7,7,1])}\") "
   ]
  },
  {
   "cell_type": "markdown",
   "metadata": {},
   "source": [
    "### 母體標準差、變異數\n",
    "`statistics.pstdev([數列])`：母體標準差=標準差\n",
    "\n",
    "概念：全校500人，500人全部身高的標準差\n",
    "\n",
    "定義：跟標準(平均)差多少 -> [離均差的平方/n]開根號=(平方合的平均-平均的平方)開根號\n",
    "\n",
    "`statistics.pvariance([數列])`：母體變異數 [離均差的平方/n]\n",
    "\n",
    "範例：\n",
    "\n",
    "[1,3,4,4,3,9]\n",
    "\n",
    "平均=(1+3+4+4+3+9)/6=4\n",
    "\n",
    "標準差=`{[(1-4)**2+(3-4)**2+(4-4)**2+(4-4)**2+(3-4)**2+(9-4)**2]/6}**1/2=6**1/2`\n",
    "\n",
    "變異數=6\n",
    "\n",
    "### 樣本標準差、變異數\n",
    "`statistics.stdev([數列])`：樣本標準差 跟樣本標準(平均)差多少 -> [離均差的平方/n-1]開根號\n",
    "\n",
    "概念：全校500人，抽50人出來身高的標準差\n",
    "\n",
    "`statistics.variance([數列])`：樣本變異數 [離均差的平方/n-1]\n",
    "\n",
    "範例：\n",
    "\n",
    "[1,3,4,4,3,9]\n",
    "\n",
    "平均=(1+3+4+4+3+9)/6=4\n",
    "\n",
    "標準差=`{[(1-4)**2+(3-4)**2+(4-4)**2+(4-4)**2+(3-4)**2+(9-4)**2]/5}**1/2=(36/5)**1/2`\n",
    "\n",
    "變異數=36/5\n",
    "\n",
    "至於為何樣本標準差是n-1，可以看這個：[從標準差除以n或除以n-1談起 丁春成](https://web.math.sinica.edu.tw/math_media/d291/29102.pdf)"
   ]
  },
  {
   "cell_type": "code",
   "execution_count": 6,
   "metadata": {},
   "outputs": [
    {
     "name": "stdout",
     "output_type": "stream",
     "text": [
      "2.581988897471611\n",
      "6.666666666666667\n",
      "2.7386127875258306\n",
      "7.5\n"
     ]
    }
   ],
   "source": [
    "arr = [1, 2, 3, 4, 5, 6, 7, 8, 9]\n",
    "a = statistics.pstdev(arr)\n",
    "b = statistics.pvariance(arr)\n",
    "c = statistics.stdev(arr)\n",
    "d = statistics.variance(arr)\n",
    "print(a)\n",
    "print(b)\n",
    "print(c)\n",
    "print(d)"
   ]
  },
  {
   "cell_type": "markdown",
   "metadata": {},
   "source": [
    "## 精準度模組-decimal\n",
    "decimal分成2個模塊：\n",
    "\n",
    "Decimal：精準計算\n",
    "\n",
    "getcontext：建構環境\n",
    "\n",
    "引入要特別寫："
   ]
  },
  {
   "cell_type": "code",
   "execution_count": 7,
   "metadata": {},
   "outputs": [],
   "source": [
    "from decimal import Decimal, getcontext"
   ]
  },
  {
   "cell_type": "markdown",
   "metadata": {},
   "source": [
    "### decimal的算術語境\n",
    "也就是getcontext()裡可以修改的地方"
   ]
  },
  {
   "cell_type": "code",
   "execution_count": 8,
   "metadata": {},
   "outputs": [
    {
     "data": {
      "text/plain": [
       "Context(prec=28, rounding=ROUND_HALF_EVEN, Emin=-999999, Emax=999999, capitals=1, clamp=0, flags=[], traps=[InvalidOperation, DivisionByZero, Overflow])"
      ]
     },
     "execution_count": 8,
     "metadata": {},
     "output_type": "execute_result"
    }
   ],
   "source": [
    "from decimal import *\n",
    "getcontext()"
   ]
  },
  {
   "cell_type": "markdown",
   "metadata": {},
   "source": [
    "`prec=28` 精準度(precision)，預設28位。\n",
    "\n",
    "`rounding=ROUND_HALF_EVEN` 四捨五入的方式：偶數捨入法。\n",
    "\n",
    "1. 如果要捨入的數字（小數點後的位數）為5，則向最接近的偶數捨入。如果要捨入的數字為奇數，則向下捨入到最接近的偶數；如果要捨入的數字為偶數，則向上捨入到最接近的偶數。\n",
    "\n",
    "2. 對於非5的數字，按照傳統的四捨五入規則進行捨入。\n",
    "\n",
    "    範例：\n",
    "\n",
    "    4.5捨入為4：因為5是奇數，所以向下捨入。\n",
    "\n",
    "    5.5捨入為6：因為5是奇數，所以向上捨入。\n",
    "\n",
    "    8.4捨入為8：按照傳統四捨五入規則，捨入到最接近的整數，因為4小於5。\n",
    "\n",
    "`Emin=-999999, Emax=999999` 最小指數：-999999~最大指數：999999。\n",
    "\n",
    "`capitals=1` 科學記號表示法用大寫E (e.g.1E+3) ;capitals=0表示用小寫e (e.g.1e+3)。\n",
    "\n",
    "`clamp=0` 不截斷計算成果。\n",
    "\n",
    "`flags=[]` 這是一個列表，用於存儲標誌或標記，通常用於標識特定的計算條件或狀態。但在這沒有提供具體的使用情境。\n",
    "\n",
    "`traps=[InvalidOperation, DivisionByZero, Overflow]` \n",
    "\n",
    "可能發生的異常狀況：無效操作、除以0、溢出，會觸發上面這三個異常處理程序。\n",
    "\n",
    "### 有個小限制\n",
    "float轉換成二進位儲存時，會有點變化"
   ]
  },
  {
   "cell_type": "code",
   "execution_count": 9,
   "metadata": {},
   "outputs": [
    {
     "name": "stdout",
     "output_type": "stream",
     "text": [
      "a：1.1149999999999999911182158029987476766109466552734375\n",
      "b：1.125\n"
     ]
    }
   ],
   "source": [
    "a = 1.115\n",
    "print(f\"a：{Decimal(a)}\") # Decimal(a) 的值會比較奇異一點\n",
    "\n",
    "b = 1.125\n",
    "print(f\"b：{Decimal(b)}\") # Decimal(b) 的值就沒變"
   ]
  },
  {
   "cell_type": "markdown",
   "metadata": {},
   "source": [
    "**解決方法：傳入str**"
   ]
  },
  {
   "cell_type": "code",
   "execution_count": 10,
   "metadata": {},
   "outputs": [
    {
     "name": "stdout",
     "output_type": "stream",
     "text": [
      "a：1.115\n",
      "b：1.125\n"
     ]
    }
   ],
   "source": [
    "a = 1.115\n",
    "print(f\"a：{Decimal(str(a))}\")\n",
    "\n",
    "b = 1.125\n",
    "print(f\"b：{Decimal(str(b))}\")"
   ]
  },
  {
   "cell_type": "markdown",
   "metadata": {},
   "source": [
    "### 小數點後的精準四捨五入-quantize\n",
    "#### round的限制：二進位儲存造成結果偏誤\n",
    "round約整的方法並不是四捨五入，是偶數捨入法，也就是decimal的ROUND_HALF_EVEN，這個約整方法在round無法變更。"
   ]
  },
  {
   "cell_type": "code",
   "execution_count": 11,
   "metadata": {},
   "outputs": [
    {
     "name": "stdout",
     "output_type": "stream",
     "text": [
      "a：1.11\n",
      "b：1.12\n"
     ]
    }
   ],
   "source": [
    "print(f\"a：{round(1.115, 2)}\")\n",
    "# 這是因為在電腦內部，1.115 真正的值是 1.1149999999999999911182158029987476766109466552734375\n",
    "\n",
    "print(f\"b：{round(1.125, 2)}\")\n",
    "# 1.125 真正的值也是 1.125 "
   ]
  },
  {
   "cell_type": "markdown",
   "metadata": {},
   "source": [
    "**解決方法：Decimal.quantize用str輸入** + ROUND_HALF_UP\n",
    "\n",
    "總覺得有點不實際"
   ]
  },
  {
   "cell_type": "code",
   "execution_count": 12,
   "metadata": {},
   "outputs": [
    {
     "name": "stdout",
     "output_type": "stream",
     "text": [
      "a：1.12\n",
      "b：1.12\n"
     ]
    }
   ],
   "source": [
    "print(f\"a：{Decimal('1.115').quantize(Decimal('0.00'), ROUND_HALF_UP)}\")\n",
    "\n",
    "print(f\"b：{Decimal('1.125').quantize(Decimal('0.00'), ROUND_HALF_EVEN)}\")"
   ]
  },
  {
   "cell_type": "markdown",
   "metadata": {},
   "source": [
    "## 亂數-random\n",
    "各種隨機\n",
    "\n",
    "引入：`import random`\n",
    "### 初始化隨機生成器-seed\n",
    "1. seed = 亂數的演算法。通常以電腦系統的時間為主，這個可以改。\n",
    "2. seed相同，產生的答案都一樣。"
   ]
  },
  {
   "cell_type": "code",
   "execution_count": 8,
   "metadata": {},
   "outputs": [
    {
     "name": "stdout",
     "output_type": "stream",
     "text": [
      "0.13436424411240122\n",
      "0.13436424411240122\n"
     ]
    }
   ],
   "source": [
    "import random\n",
    "random.seed(1)\n",
    "print(random.random())\n",
    "random.seed(1)\n",
    "print(random.random())"
   ]
  },
  {
   "cell_type": "markdown",
   "metadata": {},
   "source": [
    "### 隨機數-random\n",
    "隨機產生0.0~1.0之間隨機浮點數。"
   ]
  },
  {
   "cell_type": "code",
   "execution_count": 9,
   "metadata": {},
   "outputs": [
    {
     "name": "stdout",
     "output_type": "stream",
     "text": [
      "0.8474337369372327\n",
      "0.763774618976614\n"
     ]
    }
   ],
   "source": [
    "print(random.random())\n",
    "print(random.random())"
   ]
  },
  {
   "cell_type": "markdown",
   "metadata": {},
   "source": [
    "### 兩數之間的隨機**浮點數**-uniform\n",
    "語法：`random.uniform(x,y)`，會產生x~y之間的隨機浮點數。"
   ]
  },
  {
   "cell_type": "code",
   "execution_count": 12,
   "metadata": {},
   "outputs": [
    {
     "name": "stdout",
     "output_type": "stream",
     "text": [
      "3.9908701741838817\n",
      "3.898982129577476\n"
     ]
    }
   ],
   "source": [
    "print(random.uniform(3,5))\n",
    "print(random.uniform(3,5))"
   ]
  },
  {
   "cell_type": "markdown",
   "metadata": {},
   "source": [
    "### 兩數之間的隨機**整數**-randint\n",
    "語法：`random.randint(x,y)`，會產生x~y之間的隨機整數。"
   ]
  },
  {
   "cell_type": "code",
   "execution_count": 13,
   "metadata": {},
   "outputs": [
    {
     "name": "stdout",
     "output_type": "stream",
     "text": [
      "9\n",
      "6\n"
     ]
    }
   ],
   "source": [
    "print(random.randint(3,10))\n",
    "print(random.randint(3,10))"
   ]
  },
  {
   "cell_type": "markdown",
   "metadata": {},
   "source": [
    "### 進階-兩數之間的隨機**整數**-randrange\n",
    "語法1：`random.range(x,y,間隔多少數字)`，會間隔產生x~y之間的隨機整數。\n",
    "\n",
    "語法：`random.range(y)`，會產生`0`~y之間的隨機整數。"
   ]
  },
  {
   "cell_type": "code",
   "execution_count": 15,
   "metadata": {},
   "outputs": [
    {
     "name": "stdout",
     "output_type": "stream",
     "text": [
      "49\n",
      "55\n",
      "9\n"
     ]
    }
   ],
   "source": [
    "print(random.randrange(1,99,2))\n",
    "print(random.randrange(1,99,2))\n",
    "print(random.randrange(13))"
   ]
  },
  {
   "cell_type": "markdown",
   "metadata": {},
   "source": [
    "### 隨機抽取串列中項目-choice\n",
    "從str、tuple、list(有順序的物件)中隨機抽取項目。\n",
    "\n",
    "dict要寫list & keys/values"
   ]
  },
  {
   "cell_type": "code",
   "execution_count": 26,
   "metadata": {},
   "outputs": [
    {
     "name": "stdout",
     "output_type": "stream",
     "text": [
      "5\n",
      "2\n",
      "3\n",
      "b\n",
      "2\n"
     ]
    }
   ],
   "source": [
    "print(random.choice(\"123456\"))\n",
    "print(random.choice((1,2,3,4,5,6)))\n",
    "print(random.choice([1,2,3,4,5,6]))\n",
    "\n",
    "aaa={\"a\":1,\"b\":2,\"c\":3,\"d\":4,\"e\":5}\n",
    "print(random.choice(list(aaa.keys()))) # 印key\n",
    "print(random.choice(list(aaa.values()))) # 印value"
   ]
  },
  {
   "cell_type": "markdown",
   "metadata": {},
   "source": [
    "### 進階-隨機抽取k個串列中項目-choices\n",
    "1. 從str、tuple、list(有順序的物件)中隨機抽取k個項目。\n",
    "    1. **k可能是重複值**。\n",
    "    2. k會組成一個新的串列。\n",
    "2. 語法：random.choice(seq,k=要取出多少個項目)\n",
    "3. 一樣，dict要寫list & keys/values"
   ]
  },
  {
   "cell_type": "code",
   "execution_count": 28,
   "metadata": {},
   "outputs": [
    {
     "name": "stdout",
     "output_type": "stream",
     "text": [
      "['5', '6', '6']\n",
      "[3, 6, 6]\n",
      "[1, 4, 5]\n",
      "['b', 'd', 'e']\n",
      "[5, 3, 5]\n"
     ]
    }
   ],
   "source": [
    "print(random.choices(\"123456\",k=3))\n",
    "print(random.choices((1,2,3,4,5,6),k=3))\n",
    "print(random.choices([1,2,3,4,5,6],k=3))\n",
    "\n",
    "aaa={\"a\":1,\"b\":2,\"c\":3,\"d\":4,\"e\":5}\n",
    "print(random.choices(list(aaa.keys()),k=3)) # 印key\n",
    "print(random.choices(list(aaa.values()),k=3)) # 印value"
   ]
  },
  {
   "cell_type": "markdown",
   "metadata": {},
   "source": [
    "### choice不會重複的朋友-sample\n",
    "1. 從str、tuple、list(有順序的物件)中隨機抽取k個項目。\n",
    "    1. **k不會重複**。\n",
    "    2. k會組成一個新的串列。\n",
    "    3. **k一定要填**，不能大於串列長度。\n",
    "2. 語法：random.choice(seq,k=要取出多少個項目)\n",
    "3. 一樣，dict要寫list & keys/values"
   ]
  },
  {
   "cell_type": "code",
   "execution_count": 29,
   "metadata": {},
   "outputs": [
    {
     "name": "stdout",
     "output_type": "stream",
     "text": [
      "['5', '2', '3']\n",
      "[3, 5, 4]\n",
      "[5, 4, 1]\n",
      "['d', 'b', 'c']\n",
      "[4, 5, 3]\n"
     ]
    }
   ],
   "source": [
    "print(random.sample(\"123456\",k=3))\n",
    "print(random.sample((1,2,3,4,5,6),k=3))\n",
    "print(random.sample([1,2,3,4,5,6],k=3))\n",
    "\n",
    "aaa={\"a\":1,\"b\":2,\"c\":3,\"d\":4,\"e\":5}\n",
    "print(random.sample(list(aaa.keys()),k=3)) # 印key\n",
    "print(random.sample(list(aaa.values()),k=3)) # 印value"
   ]
  },
  {
   "cell_type": "markdown",
   "metadata": {},
   "source": [
    "將原本串列打亂-shuffle"
   ]
  },
  {
   "cell_type": "markdown",
   "metadata": {},
   "source": [
    "# 從這裡開始還沒寫完\n",
    "# sequence"
   ]
  }
 ],
 "metadata": {
  "kernelspec": {
   "display_name": ".venv",
   "language": "python",
   "name": "python3"
  },
  "language_info": {
   "codemirror_mode": {
    "name": "ipython",
    "version": 3
   },
   "file_extension": ".py",
   "mimetype": "text/x-python",
   "name": "python",
   "nbconvert_exporter": "python",
   "pygments_lexer": "ipython3",
   "version": "3.10.8"
  },
  "orig_nbformat": 4
 },
 "nbformat": 4,
 "nbformat_minor": 2
}
