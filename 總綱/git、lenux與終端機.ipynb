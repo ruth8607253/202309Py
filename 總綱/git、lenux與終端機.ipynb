{
 "cells": [
  {
   "cell_type": "markdown",
   "metadata": {},
   "source": [
    "# git、lenux與終端機\n",
    "|git的指令|前面要加git的|e.g. git push|\n",
    "|---|---|---|\n",
    "|**lenux的指令**|**一般指令**|**e.g. cd**|\n",
    "## git指令\n",
    "`git clone`\n",
    "\n",
    "`git status`\n",
    "\n",
    "`git add 檔案名稱`：將「工作區(working area)」已追蹤的檔案，放到「暫存區(stage)」\n",
    "\n",
    "**vscode介面**-在「原始檔控制」裡，把原本放在「變更」的檔案，放到「暫存的變更」\n",
    "\n",
    "`git commit -m \"我做了什麼事情\"`：描述檔案修改內容\n",
    "\n",
    "`git commit`\n",
    "\n",
    "`git push`：將「暫存區(stage)」的檔案上傳(commit)到儲存庫(repositories，簡稱：repo)\n",
    "\n",
    "**vscode介面**-按「提交」\n",
    "\n",
    "`git push --force`：(以電腦上的資料為主)，把雲端的資料覆蓋掉。\n",
    "\n",
    "發生情境：在雲端上有一個資料A，但我忘了，在電腦上也建了一個資料A。當我要上船電腦上的資料A時就會有問題(錯亂)。\n",
    "\n",
    "`git init`：新增一個.git在資料夾裡面\n",
    "\n",
    "## lenux指令\n",
    "### 目錄與位置\n",
    "`./`：當前目錄\n",
    "\n",
    "`../`：上一層目錄\n",
    "\n",
    "`~`：回到個人工作目錄\n",
    "\n",
    "`cd`：change directery 更換目錄位置\n",
    "\n",
    "絕對路徑寫法：cd 把要打開的資料夾位置完整打出來\n",
    "\n",
    "範例：cd /c/Users/user/Documents/GitHub/202309Py\n",
    "\n",
    "相對路徑寫法： cd ./或../過去想要打開的資料夾\n",
    "\n",
    "範例：原本在202309Py/a資料夾裡，要換去202309Py/b資料夾 -> cd ../ b\n",
    "\n",
    "`pwd`：查看檔案來源\n",
    "\n",
    "`ls`：list列出當前目錄內容\n",
    "\n",
    "`ls-al`：list-all查看所有目錄(可以看到隱藏檔)\n",
    "### 創建、移動與複製檔案&資料夾\n",
    "`touch`建立檔案\n",
    "\n",
    "範例：touch a.txt\n",
    "\n",
    "`mv`：move 移動 mv 要移動的檔案 要移動到這邊\n",
    "\n",
    "範例：我要移動202309Py/a資料夾裡**所有的東西**，到202309Py/b資料夾裡 -> mv ./a/a1.txt ./b/\n",
    "\n",
    "*不能直接把repoA移到repoB。\n",
    "\n",
    "因為每個repo裡都有一個.git(隱藏檔)，.git不同存在於同一個資料夾裡。\n",
    "\n",
    "`rm`：remove 移除\n",
    "\n",
    "`cp`：copy 複製 cp 要複製的檔案 要複製到這邊\n",
    "\n",
    "範例：我要複製202309Py/a資料夾裡的a1，到202309Py/b資料夾裡 -> cp ./a/a1.txt ./b/\n",
    "\n",
    "`mkdir`：make \n",
    "\n",
    "`nano`：Unix的文字編輯器，可以在終端機編輯檔案。\n",
    "\n",
    "離開：`Ctrl` + `x`，會問你要不要存檔(y/n)\n",
    "\n",
    "範例：用終端機在aaa.py裡打print(\"Hello, world!\") -> \n",
    "\n",
    "nano aaa.py -> 打print(\"Hello, world!\") -> `Esc` + `:` + `wq`\n",
    "\n",
    "`vim`：在終端機編輯檔案。\n",
    "\n",
    "存檔+出來：`Esc` + `:` + `wq`\n",
    "\n",
    "範例：用終端機在aaa.py裡打print(\"Hello, world!\") -> \n",
    "\n",
    "vim aaa.py -> 打print(\"Hello, world!\") -> `Esc` + `:` + `wq`\n",
    "\n",
    "## 安裝外部套件\n",
    "1. 找到自己需要的外掛程式\n",
    "2. 在自己的介面進入虛擬環境(.venv)\n",
    "3. 在終端機引入：`pip install 外掛名稱`\n",
    "\n",
    "範例：pip install PyInputPlus\n",
    "        \n",
    "4. 在專案的資料夾中新增`requirements.txt`(檔案名稱不能改)\n",
    "5. 在requirements.txt寫上引入的外部套件名稱>=版本\n",
    "\n",
    "這樣就可以import了"
   ]
  },
  {
   "cell_type": "code",
   "execution_count": 2,
   "metadata": {},
   "outputs": [
    {
     "name": "stdout",
     "output_type": "stream",
     "text": [
      "Please select one of the following:\n",
      "* cat\n",
      "* dog\n",
      "* goose\n",
      "'table' is not a valid choice.\n",
      "Please select one of the following:\n",
      "* cat\n",
      "* dog\n",
      "* goose\n"
     ]
    },
    {
     "data": {
      "text/plain": [
       "'cat'"
      ]
     },
     "execution_count": 2,
     "metadata": {},
     "output_type": "execute_result"
    }
   ],
   "source": [
    "import pyinputplus as pyip #外部套件名字太長時，可以用as幫外部套件取簡稱\n",
    "\n",
    "a=pyip.inputMenu([\"cat\",\"dog\",\"goose\"])\n",
    "a"
   ]
  },
  {
   "cell_type": "markdown",
   "metadata": {},
   "source": [
    "### 解除安裝的套件\n",
    "如果在虛擬環境，就直接把.venv刪掉重灌即可。一般情況很難刪掉，因為下載一個外部套件不只是安裝其功能，可能還順便下載一些東西，要全部刪乾淨很難。"
   ]
  }
 ],
 "metadata": {
  "kernelspec": {
   "display_name": ".venv",
   "language": "python",
   "name": "python3"
  },
  "language_info": {
   "codemirror_mode": {
    "name": "ipython",
    "version": 3
   },
   "file_extension": ".py",
   "mimetype": "text/x-python",
   "name": "python",
   "nbconvert_exporter": "python",
   "pygments_lexer": "ipython3",
   "version": "3.10.8"
  },
  "orig_nbformat": 4
 },
 "nbformat": 4,
 "nbformat_minor": 2
}
