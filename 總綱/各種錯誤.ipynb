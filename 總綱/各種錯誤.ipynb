{
 "cells": [
  {
   "cell_type": "markdown",
   "metadata": {},
   "source": [
    "# 各種錯誤\n",
    "Python常見人為產生的錯誤\n",
    "## SyntaxError：語法錯誤\n",
    "少括號、冒號、逗號 etc."
   ]
  },
  {
   "cell_type": "code",
   "execution_count": 1,
   "metadata": {},
   "outputs": [
    {
     "ename": "SyntaxError",
     "evalue": "unterminated string literal (detected at line 2) (1459069509.py, line 2)",
     "output_type": "error",
     "traceback": [
      "\u001b[1;36m  Cell \u001b[1;32mIn[1], line 2\u001b[1;36m\u001b[0m\n\u001b[1;33m    print(\"Hi)\u001b[0m\n\u001b[1;37m          ^\u001b[0m\n\u001b[1;31mSyntaxError\u001b[0m\u001b[1;31m:\u001b[0m unterminated string literal (detected at line 2)\n"
     ]
    }
   ],
   "source": [
    "#範例\n",
    "print(\"Hi)"
   ]
  },
  {
   "cell_type": "markdown",
   "metadata": {},
   "source": [
    "可能跑出2種表達：\n",
    "\n",
    "SyntaxError：`EOL`(引號沒有成對出現) while scanning string literal\n",
    "\n",
    "SyntaxError：`unterminated`(未終止的) string literal\n",
    "\n",
    "## ValueError：回傳質錯誤"
   ]
  },
  {
   "cell_type": "code",
   "execution_count": 3,
   "metadata": {},
   "outputs": [
    {
     "ename": "ValueError",
     "evalue": "invalid literal for int() with base 10: 'cat'",
     "output_type": "error",
     "traceback": [
      "\u001b[1;31m---------------------------------------------------------------------------\u001b[0m",
      "\u001b[1;31mValueError\u001b[0m                                Traceback (most recent call last)",
      "\u001b[1;32mc:\\Github\\202309Py\\總綱\\各種錯誤.ipynb 儲存格 4\u001b[0m line \u001b[0;36m1\n\u001b[1;32m----> <a href='vscode-notebook-cell:/c%3A/Github/202309Py/%E7%B8%BD%E7%B6%B1/%E5%90%84%E7%A8%AE%E9%8C%AF%E8%AA%A4.ipynb#W4sZmlsZQ%3D%3D?line=0'>1</a>\u001b[0m x \u001b[39m=\u001b[39m \u001b[39mint\u001b[39;49m(\u001b[39minput\u001b[39;49m(\u001b[39m\"\u001b[39;49m\u001b[39mWhat\u001b[39;49m\u001b[39m'\u001b[39;49m\u001b[39ms x?\u001b[39;49m\u001b[39m\"\u001b[39;49m))\n\u001b[0;32m      <a href='vscode-notebook-cell:/c%3A/Github/202309Py/%E7%B8%BD%E7%B6%B1/%E5%90%84%E7%A8%AE%E9%8C%AF%E8%AA%A4.ipynb#W4sZmlsZQ%3D%3D?line=1'>2</a>\u001b[0m \u001b[39mprint\u001b[39m(\u001b[39mf\u001b[39m\u001b[39m\"\u001b[39m\u001b[39mx is\u001b[39m\u001b[39m{\u001b[39;00mx\u001b[39m}\u001b[39;00m\u001b[39m.\u001b[39m\u001b[39m\"\u001b[39m)\n\u001b[0;32m      <a href='vscode-notebook-cell:/c%3A/Github/202309Py/%E7%B8%BD%E7%B6%B1/%E5%90%84%E7%A8%AE%E9%8C%AF%E8%AA%A4.ipynb#W4sZmlsZQ%3D%3D?line=2'>3</a>\u001b[0m \u001b[39m#輸入cat\u001b[39;00m\n",
      "\u001b[1;31mValueError\u001b[0m: invalid literal for int() with base 10: 'cat'"
     ]
    }
   ],
   "source": [
    "x = int(input(\"What's x?\"))\n",
    "print(f\"x is {x}.\")\n",
    "#輸入cat"
   ]
  },
  {
   "cell_type": "markdown",
   "metadata": {},
   "source": [
    "#### **解決方法：try**"
   ]
  },
  {
   "cell_type": "code",
   "execution_count": 4,
   "metadata": {},
   "outputs": [
    {
     "name": "stdout",
     "output_type": "stream",
     "text": [
      "x is not an interger.\n"
     ]
    }
   ],
   "source": [
    "try:\n",
    "    x = int(input(\"What's x?\"))\n",
    "    print(f\"x is {x}.\")\n",
    "except ValueError:\n",
    "    print(\"x is not an interger.\")"
   ]
  },
  {
   "cell_type": "markdown",
   "metadata": {},
   "source": [
    "try的限制：\n",
    "\n",
    "try裡面有一個type可以概括所有的程式錯誤，但如果一些錯誤是我們這些寫code的人造成的，那就該解決，而非把所有問規到一個答案裡。\n",
    "\n",
    "但相對的，如果要把問題一個一個列出來，就得預知可能發生的問題有哪些、如何回覆，這樣也不太實際。\n",
    "\n",
    "這兩者間的平衡會隨著經驗越來越能平衡。\n",
    "\n",
    "## NameError：找不到某個值"
   ]
  },
  {
   "cell_type": "code",
   "execution_count": 6,
   "metadata": {},
   "outputs": [
    {
     "name": "stdout",
     "output_type": "stream",
     "text": [
      "x is not an interger.\n"
     ]
    },
    {
     "ename": "NameError",
     "evalue": "name 'x' is not defined",
     "output_type": "error",
     "traceback": [
      "\u001b[1;31m---------------------------------------------------------------------------\u001b[0m",
      "\u001b[1;31mNameError\u001b[0m                                 Traceback (most recent call last)",
      "\u001b[1;32mc:\\Github\\202309Py\\總綱\\各種錯誤.ipynb 儲存格 8\u001b[0m line \u001b[0;36m5\n\u001b[0;32m      <a href='vscode-notebook-cell:/c%3A/Github/202309Py/%E7%B8%BD%E7%B6%B1/%E5%90%84%E7%A8%AE%E9%8C%AF%E8%AA%A4.ipynb#X10sZmlsZQ%3D%3D?line=2'>3</a>\u001b[0m \u001b[39mexcept\u001b[39;00m \u001b[39mValueError\u001b[39;00m:\n\u001b[0;32m      <a href='vscode-notebook-cell:/c%3A/Github/202309Py/%E7%B8%BD%E7%B6%B1/%E5%90%84%E7%A8%AE%E9%8C%AF%E8%AA%A4.ipynb#X10sZmlsZQ%3D%3D?line=3'>4</a>\u001b[0m     \u001b[39mprint\u001b[39m(\u001b[39m\"\u001b[39m\u001b[39mx is not an interger.\u001b[39m\u001b[39m\"\u001b[39m)\n\u001b[1;32m----> <a href='vscode-notebook-cell:/c%3A/Github/202309Py/%E7%B8%BD%E7%B6%B1/%E5%90%84%E7%A8%AE%E9%8C%AF%E8%AA%A4.ipynb#X10sZmlsZQ%3D%3D?line=4'>5</a>\u001b[0m \u001b[39mprint\u001b[39m(\u001b[39mf\u001b[39m\u001b[39m\"\u001b[39m\u001b[39mx is\u001b[39m\u001b[39m{\u001b[39;00mx\u001b[39m}\u001b[39;00m\u001b[39m.\u001b[39m\u001b[39m\"\u001b[39m)\n",
      "\u001b[1;31mNameError\u001b[0m: name 'x' is not defined"
     ]
    }
   ],
   "source": [
    "try:\n",
    "    x = int(input(\"What's x?\"))\n",
    "except ValueError:\n",
    "    print(\"x is not an interger.\")\n",
    "print(f\"x is {x}.\")"
   ]
  },
  {
   "cell_type": "markdown",
   "metadata": {},
   "source": [
    "因為第2行的x右邊的值不是數字(是cat)，沒辦法傳到左邊(x)，也就是x != cat，x在第2行沒有質。\n",
    "\n",
    "-> 第2行卡住以致沒辦法到第3、4行執行 -> 第5行找不到質。\n",
    "\n",
    "#### **解決方法：else**\n",
    "else的用途：確定第2行程式沒錯 -> 第3、4行有沒有符合 -> 都不符合才執行第6行"
   ]
  },
  {
   "cell_type": "code",
   "execution_count": 7,
   "metadata": {},
   "outputs": [
    {
     "name": "stdout",
     "output_type": "stream",
     "text": [
      "x is not an interger.\n"
     ]
    }
   ],
   "source": [
    "try:\n",
    "    x = int(input(\"What's x?\"))\n",
    "except ValueError:\n",
    "    print(\"x is not an interger.\")\n",
    "else:\n",
    "    print(f\"x is {x}.\")"
   ]
  },
  {
   "cell_type": "markdown",
   "metadata": {},
   "source": [
    "#### **進階：重覆問到對為止**"
   ]
  },
  {
   "cell_type": "code",
   "execution_count": 9,
   "metadata": {},
   "outputs": [
    {
     "name": "stdout",
     "output_type": "stream",
     "text": [
      "x is not an interger.\n",
      "x is not an interger.\n",
      "x is 1.\n"
     ]
    }
   ],
   "source": [
    "while True:\n",
    "    try:\n",
    "        x = int(input(\"What's x?\"))\n",
    "    except ValueError:\n",
    "        print(\"x is not an interger.\")\n",
    "    else:\n",
    "        break\n",
    "print(f\"x is {x}.\")"
   ]
  },
  {
   "cell_type": "markdown",
   "metadata": {},
   "source": [
    "這樣就不會有「無法將錯誤往下傳」的問題，出來的都是int。\n",
    "\n",
    "所以也可以把這段程式這樣寫："
   ]
  },
  {
   "cell_type": "code",
   "execution_count": 11,
   "metadata": {},
   "outputs": [
    {
     "name": "stdout",
     "output_type": "stream",
     "text": [
      "x is not an interger.\n",
      "x is not an interger.\n",
      "x is 1.\n"
     ]
    }
   ],
   "source": [
    "while True:\n",
    "    try:\n",
    "        x = int(input(\"What's x?\"))\n",
    "        break\n",
    "    except ValueError:\n",
    "        print(\"x is not an interger.\")\n",
    "\n",
    "print(f\"x is {x}.\")"
   ]
  },
  {
   "cell_type": "markdown",
   "metadata": {},
   "source": [
    "#### **進進階：讓別處引用這個公式**"
   ]
  },
  {
   "cell_type": "code",
   "execution_count": 17,
   "metadata": {},
   "outputs": [
    {
     "name": "stdout",
     "output_type": "stream",
     "text": [
      "x is not an interger.\n",
      "x is not an interger.\n",
      "x is 1.\n"
     ]
    }
   ],
   "source": [
    "def a():\n",
    "    while True:\n",
    "        try:\n",
    "            x = int(input(\"What's x?\"))\n",
    "        except ValueError:\n",
    "            print(\"x is not an interger.\")\n",
    "        else:\n",
    "            return x\n",
    "main()"
   ]
  },
  {
   "cell_type": "markdown",
   "metadata": {},
   "source": [
    "再合併"
   ]
  },
  {
   "cell_type": "code",
   "execution_count": 14,
   "metadata": {},
   "outputs": [
    {
     "name": "stdout",
     "output_type": "stream",
     "text": [
      "x is not an interger.\n",
      "x is not an interger.\n",
      "x is 1.\n"
     ]
    }
   ],
   "source": [
    "def main():\n",
    "    x=a()\n",
    "    print(f\"x is {x}.\")\n",
    "\n",
    "def a():\n",
    "    while True:\n",
    "        try:\n",
    "            return int(input(\"What's x?\"))\n",
    "        except ValueError:\n",
    "            print(\"x is not an interger.\")\n",
    "\n",
    "main()"
   ]
  },
  {
   "cell_type": "markdown",
   "metadata": {},
   "source": [
    "想直接重問問題：pass"
   ]
  },
  {
   "cell_type": "code",
   "execution_count": 18,
   "metadata": {},
   "outputs": [
    {
     "name": "stdout",
     "output_type": "stream",
     "text": [
      "x is 1.\n"
     ]
    }
   ],
   "source": [
    "def main():\n",
    "    x=a()\n",
    "    print(f\"x is {x}.\")\n",
    "\n",
    "def a():\n",
    "    while True:\n",
    "        try:\n",
    "            return int(input(\"What's x?\"))\n",
    "        except ValueError:\n",
    "            pass\n",
    "\n",
    "main()"
   ]
  },
  {
   "cell_type": "markdown",
   "metadata": {},
   "source": [
    "再修覆：prompt"
   ]
  },
  {
   "cell_type": "code",
   "execution_count": 19,
   "metadata": {},
   "outputs": [
    {
     "name": "stdout",
     "output_type": "stream",
     "text": [
      "x is 1.\n"
     ]
    }
   ],
   "source": [
    "def main():\n",
    "    x=a(\"What's x?\")\n",
    "    print(f\"x is {x}.\")\n",
    "\n",
    "def a(prompt):\n",
    "    while True:\n",
    "        try:\n",
    "            return int(input(prompt))\n",
    "        except ValueError:\n",
    "            pass\n",
    "\n",
    "main()"
   ]
  },
  {
   "cell_type": "markdown",
   "metadata": {},
   "source": [
    "## 偵錯小幫手1：print\n",
    "以印階梯為例"
   ]
  },
  {
   "cell_type": "code",
   "execution_count": 20,
   "metadata": {},
   "outputs": [
    {
     "name": "stdout",
     "output_type": "stream",
     "text": [
      "\n",
      "#\n",
      "##\n"
     ]
    }
   ],
   "source": [
    "def main():\n",
    "    height=int(input(\"Height：\"))\n",
    "    a(height)\n",
    "\n",
    "def a(n):\n",
    "    for i in range(n):\n",
    "        print(\"#\"*i)\n",
    "\n",
    "main()"
   ]
  },
  {
   "cell_type": "markdown",
   "metadata": {},
   "source": [
    "可以用print來看錯在哪一行 -> 假裝我猜問題出在第6行(for i in range(n):)"
   ]
  },
  {
   "cell_type": "code",
   "execution_count": 21,
   "metadata": {},
   "outputs": [
    {
     "name": "stdout",
     "output_type": "stream",
     "text": [
      "0\n",
      "1#\n",
      "2##\n"
     ]
    }
   ],
   "source": [
    "def main():\n",
    "    height=int(input(\"Height：\"))\n",
    "    a(height)\n",
    "\n",
    "def a(n):\n",
    "    for i in range(n):\n",
    "        print(i, end=\"\")\n",
    "        print(\"#\"*i)\n",
    "\n",
    "main()"
   ]
  },
  {
   "cell_type": "markdown",
   "metadata": {},
   "source": [
    "這表示：從0開始計算，第0階沒有階梯 -> 應該改成從1開始算"
   ]
  },
  {
   "cell_type": "code",
   "execution_count": 22,
   "metadata": {},
   "outputs": [
    {
     "name": "stdout",
     "output_type": "stream",
     "text": [
      "#\n",
      "##\n",
      "###\n"
     ]
    }
   ],
   "source": [
    "def main():\n",
    "    height=int(input(\"Height：\"))\n",
    "    a(height)\n",
    "\n",
    "def a(n):\n",
    "    for i in range(n):\n",
    "        print(\"#\"*(i+1))\n",
    "\n",
    "main()"
   ]
  },
  {
   "cell_type": "markdown",
   "metadata": {},
   "source": [
    "## 偵錯小幫手2：breakpoints\n",
    "一樣以印階梯為例"
   ]
  },
  {
   "cell_type": "code",
   "execution_count": 3,
   "metadata": {},
   "outputs": [
    {
     "name": "stdout",
     "output_type": "stream",
     "text": [
      "\n",
      "#\n",
      "##\n"
     ]
    }
   ],
   "source": [
    "def main():\n",
    "    height=int(input(\"Height：\"))\n",
    "    a(height)\n",
    "\n",
    "def a(n):\n",
    "    for i in range(n):\n",
    "        print(\"#\"*i)\n",
    "\n",
    "main() #這個紅點點就是breakpoints"
   ]
  },
  {
   "cell_type": "markdown",
   "metadata": {},
   "source": [
    "*先確定自己在「程式碼」裡偵錯，而不是在markdown裡偵錯。\n",
    "\n",
    "### 流程\n",
    "1. 打開「執行與偵錯」\n",
    "\n",
    "    `.py`操作方式：點左邊從上面屬下來第四個按鈕，有蟲蟲的那個 -> 點檔案總管的「執行與偵錯」\n",
    "\n",
    "    `.ipynb`操作方式：點程式碼盒子，左邊「執行儲存格」右邊的向下鍵 -> 點「偵錯儲存格」\n",
    "\n",
    "2. 按鈕介紹(從左至右)\n",
    "    1. 繼續：(從當下步驟開始)執行`所有`程式\n",
    "    2. 不進入函式：(從當下步驟開始)執行下一行程式\n",
    "    3. 逐步執行：從頭開始，一行一行執行，直到breakpoints前一行為止\n",
    "    4. 跳離函式\n",
    "    5. 重新啟動\n",
    "    6. 中斷連線\n",
    "3. 09「逐步執行」\n",
    " \n",
    "    -> 02確定程式沒問題就按「不進入函式」\n",
    "\n",
    "    -> 跳出input，輸入3 \n",
    "\n",
    "    -> 03左邊檔案總管的Locals下就會出現 `height:3`：這裡輸入的質是目前是照我們的判斷執行 \n",
    "\n",
    "    -> 06「逐步執行」-左邊檔案總管的Locals下變成 `n:3`：main()的指令有順利傳到a()，n也很順利接收到要執行3次的指令 \n",
    "\n",
    "    -> 07「逐步執行」-左邊檔案總管的Locals多一行 `i:0`：i從0開始執行3次，感覺問題出在這裡 \n",
    "\n",
    "    -> 「不進入函式」 \n",
    "\n",
    "    -> 執行一行沒有#的結果 => 確定問題出在07 \n",
    "    \n",
    "    -> 「繼續」將程式執行完"
   ]
  }
 ],
 "metadata": {
  "kernelspec": {
   "display_name": ".venv",
   "language": "python",
   "name": "python3"
  },
  "language_info": {
   "codemirror_mode": {
    "name": "ipython",
    "version": 3
   },
   "file_extension": ".py",
   "mimetype": "text/x-python",
   "name": "python",
   "nbconvert_exporter": "python",
   "pygments_lexer": "ipython3",
   "version": "3.10.8"
  },
  "orig_nbformat": 4
 },
 "nbformat": 4,
 "nbformat_minor": 2
}
