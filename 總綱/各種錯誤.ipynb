{
 "cells": [
  {
   "cell_type": "markdown",
   "metadata": {},
   "source": [
    "# 各種錯誤\n",
    "Python常見人為產生的錯誤\n",
    "## SyntaxError：語法錯誤\n",
    "少括號、冒號、逗號 etc."
   ]
  },
  {
   "cell_type": "code",
   "execution_count": 1,
   "metadata": {},
   "outputs": [
    {
     "ename": "SyntaxError",
     "evalue": "unterminated string literal (detected at line 2) (1459069509.py, line 2)",
     "output_type": "error",
     "traceback": [
      "\u001b[1;36m  Cell \u001b[1;32mIn[1], line 2\u001b[1;36m\u001b[0m\n\u001b[1;33m    print(\"Hi)\u001b[0m\n\u001b[1;37m          ^\u001b[0m\n\u001b[1;31mSyntaxError\u001b[0m\u001b[1;31m:\u001b[0m unterminated string literal (detected at line 2)\n"
     ]
    }
   ],
   "source": [
    "#範例\n",
    "print(\"Hi)"
   ]
  },
  {
   "cell_type": "markdown",
   "metadata": {},
   "source": [
    "可能跑出2種表達：\n",
    "\n",
    "SyntaxError：`EOL`(引號沒有成對出現) while scanning string literal\n",
    "\n",
    "SyntaxError：`unterminated`(未終止的) string literal\n",
    "\n",
    "## ValueError：回傳質錯誤"
   ]
  },
  {
   "cell_type": "code",
   "execution_count": 3,
   "metadata": {},
   "outputs": [
    {
     "ename": "ValueError",
     "evalue": "invalid literal for int() with base 10: 'cat'",
     "output_type": "error",
     "traceback": [
      "\u001b[1;31m---------------------------------------------------------------------------\u001b[0m",
      "\u001b[1;31mValueError\u001b[0m                                Traceback (most recent call last)",
      "\u001b[1;32mc:\\Github\\202309Py\\總綱\\各種錯誤.ipynb 儲存格 4\u001b[0m line \u001b[0;36m1\n\u001b[1;32m----> <a href='vscode-notebook-cell:/c%3A/Github/202309Py/%E7%B8%BD%E7%B6%B1/%E5%90%84%E7%A8%AE%E9%8C%AF%E8%AA%A4.ipynb#W4sZmlsZQ%3D%3D?line=0'>1</a>\u001b[0m x \u001b[39m=\u001b[39m \u001b[39mint\u001b[39;49m(\u001b[39minput\u001b[39;49m(\u001b[39m\"\u001b[39;49m\u001b[39mWhat\u001b[39;49m\u001b[39m'\u001b[39;49m\u001b[39ms x?\u001b[39;49m\u001b[39m\"\u001b[39;49m))\n\u001b[0;32m      <a href='vscode-notebook-cell:/c%3A/Github/202309Py/%E7%B8%BD%E7%B6%B1/%E5%90%84%E7%A8%AE%E9%8C%AF%E8%AA%A4.ipynb#W4sZmlsZQ%3D%3D?line=1'>2</a>\u001b[0m \u001b[39mprint\u001b[39m(\u001b[39mf\u001b[39m\u001b[39m\"\u001b[39m\u001b[39mx is\u001b[39m\u001b[39m{\u001b[39;00mx\u001b[39m}\u001b[39;00m\u001b[39m.\u001b[39m\u001b[39m\"\u001b[39m)\n\u001b[0;32m      <a href='vscode-notebook-cell:/c%3A/Github/202309Py/%E7%B8%BD%E7%B6%B1/%E5%90%84%E7%A8%AE%E9%8C%AF%E8%AA%A4.ipynb#W4sZmlsZQ%3D%3D?line=2'>3</a>\u001b[0m \u001b[39m#輸入cat\u001b[39;00m\n",
      "\u001b[1;31mValueError\u001b[0m: invalid literal for int() with base 10: 'cat'"
     ]
    }
   ],
   "source": [
    "x = int(input(\"What's x?\"))\n",
    "print(f\"x is {x}.\")\n",
    "#輸入cat"
   ]
  },
  {
   "cell_type": "markdown",
   "metadata": {},
   "source": [
    "#### **解決方法：try**"
   ]
  },
  {
   "cell_type": "code",
   "execution_count": 4,
   "metadata": {},
   "outputs": [
    {
     "name": "stdout",
     "output_type": "stream",
     "text": [
      "x is not an interger.\n"
     ]
    }
   ],
   "source": [
    "try:\n",
    "    x = int(input(\"What's x?\"))\n",
    "    print(f\"x is {x}.\")\n",
    "except ValueError:\n",
    "    print(\"x is not an interger.\")"
   ]
  },
  {
   "cell_type": "markdown",
   "metadata": {},
   "source": [
    "try的限制：\n",
    "\n",
    "try裡面有一個type可以概括所有的程式錯誤，但如果一些錯誤是我們這些寫code的人造成的，那就該解決，而非把所有問規到一個答案裡。\n",
    "\n",
    "但相對的，如果要把問題一個一個列出來，就得預知可能發生的問題有哪些、如何回覆，這樣也不太實際。\n",
    "\n",
    "這兩者間的平衡會隨著經驗越來越能平衡。\n",
    "\n",
    "## NameError：找不到某個值"
   ]
  },
  {
   "cell_type": "code",
   "execution_count": 6,
   "metadata": {},
   "outputs": [
    {
     "name": "stdout",
     "output_type": "stream",
     "text": [
      "x is not an interger.\n"
     ]
    },
    {
     "ename": "NameError",
     "evalue": "name 'x' is not defined",
     "output_type": "error",
     "traceback": [
      "\u001b[1;31m---------------------------------------------------------------------------\u001b[0m",
      "\u001b[1;31mNameError\u001b[0m                                 Traceback (most recent call last)",
      "\u001b[1;32mc:\\Github\\202309Py\\總綱\\各種錯誤.ipynb 儲存格 8\u001b[0m line \u001b[0;36m5\n\u001b[0;32m      <a href='vscode-notebook-cell:/c%3A/Github/202309Py/%E7%B8%BD%E7%B6%B1/%E5%90%84%E7%A8%AE%E9%8C%AF%E8%AA%A4.ipynb#X10sZmlsZQ%3D%3D?line=2'>3</a>\u001b[0m \u001b[39mexcept\u001b[39;00m \u001b[39mValueError\u001b[39;00m:\n\u001b[0;32m      <a href='vscode-notebook-cell:/c%3A/Github/202309Py/%E7%B8%BD%E7%B6%B1/%E5%90%84%E7%A8%AE%E9%8C%AF%E8%AA%A4.ipynb#X10sZmlsZQ%3D%3D?line=3'>4</a>\u001b[0m     \u001b[39mprint\u001b[39m(\u001b[39m\"\u001b[39m\u001b[39mx is not an interger.\u001b[39m\u001b[39m\"\u001b[39m)\n\u001b[1;32m----> <a href='vscode-notebook-cell:/c%3A/Github/202309Py/%E7%B8%BD%E7%B6%B1/%E5%90%84%E7%A8%AE%E9%8C%AF%E8%AA%A4.ipynb#X10sZmlsZQ%3D%3D?line=4'>5</a>\u001b[0m \u001b[39mprint\u001b[39m(\u001b[39mf\u001b[39m\u001b[39m\"\u001b[39m\u001b[39mx is\u001b[39m\u001b[39m{\u001b[39;00mx\u001b[39m}\u001b[39;00m\u001b[39m.\u001b[39m\u001b[39m\"\u001b[39m)\n",
      "\u001b[1;31mNameError\u001b[0m: name 'x' is not defined"
     ]
    }
   ],
   "source": [
    "try:\n",
    "    x = int(input(\"What's x?\"))\n",
    "except ValueError:\n",
    "    print(\"x is not an interger.\")\n",
    "print(f\"x is {x}.\")"
   ]
  },
  {
   "cell_type": "markdown",
   "metadata": {},
   "source": [
    "因為第2行的x右邊的值不是數字(是cat)，沒辦法傳到左邊(x)，也就是x != cat，x在第2行沒有質。\n",
    "\n",
    "-> 第2行卡住以致沒辦法到第3、4行執行 -> 第5行找不到質。\n",
    "\n",
    "#### **解決方法：else**\n",
    "else的用途：確定第2行程式沒錯 -> 第3、4行有沒有符合 -> 都不符合才執行第6行"
   ]
  },
  {
   "cell_type": "code",
   "execution_count": 7,
   "metadata": {},
   "outputs": [
    {
     "name": "stdout",
     "output_type": "stream",
     "text": [
      "x is not an interger.\n"
     ]
    }
   ],
   "source": [
    "try:\n",
    "    x = int(input(\"What's x?\"))\n",
    "except ValueError:\n",
    "    print(\"x is not an interger.\")\n",
    "else:\n",
    "    print(f\"x is {x}.\")"
   ]
  },
  {
   "cell_type": "markdown",
   "metadata": {},
   "source": [
    "#### **進階：重覆問到對為止**"
   ]
  },
  {
   "cell_type": "code",
   "execution_count": 9,
   "metadata": {},
   "outputs": [
    {
     "name": "stdout",
     "output_type": "stream",
     "text": [
      "x is not an interger.\n",
      "x is not an interger.\n",
      "x is 1.\n"
     ]
    }
   ],
   "source": [
    "while True:\n",
    "    try:\n",
    "        x = int(input(\"What's x?\"))\n",
    "    except ValueError:\n",
    "        print(\"x is not an interger.\")\n",
    "    else:\n",
    "        break\n",
    "print(f\"x is {x}.\")"
   ]
  },
  {
   "cell_type": "markdown",
   "metadata": {},
   "source": [
    "這樣就不會有「無法將錯誤往下傳」的問題，出來的都是int。\n",
    "\n",
    "所以也可以把這段程式這樣寫："
   ]
  },
  {
   "cell_type": "code",
   "execution_count": 11,
   "metadata": {},
   "outputs": [
    {
     "name": "stdout",
     "output_type": "stream",
     "text": [
      "x is not an interger.\n",
      "x is not an interger.\n",
      "x is 1.\n"
     ]
    }
   ],
   "source": [
    "while True:\n",
    "    try:\n",
    "        x = int(input(\"What's x?\"))\n",
    "        break\n",
    "    except ValueError:\n",
    "        print(\"x is not an interger.\")\n",
    "\n",
    "print(f\"x is {x}.\")"
   ]
  },
  {
   "cell_type": "markdown",
   "metadata": {},
   "source": [
    "#### **進進階：讓別處引用這個公式**"
   ]
  },
  {
   "cell_type": "code",
   "execution_count": 17,
   "metadata": {},
   "outputs": [
    {
     "name": "stdout",
     "output_type": "stream",
     "text": [
      "x is not an interger.\n",
      "x is not an interger.\n",
      "x is 1.\n"
     ]
    }
   ],
   "source": [
    "def a():\n",
    "    while True:\n",
    "        try:\n",
    "            x = int(input(\"What's x?\"))\n",
    "        except ValueError:\n",
    "            print(\"x is not an interger.\")\n",
    "        else:\n",
    "            return x\n",
    "main()"
   ]
  },
  {
   "cell_type": "markdown",
   "metadata": {},
   "source": [
    "再合併"
   ]
  },
  {
   "cell_type": "code",
   "execution_count": 14,
   "metadata": {},
   "outputs": [
    {
     "name": "stdout",
     "output_type": "stream",
     "text": [
      "x is not an interger.\n",
      "x is not an interger.\n",
      "x is 1.\n"
     ]
    }
   ],
   "source": [
    "def main():\n",
    "    x=a()\n",
    "    print(f\"x is {x}.\")\n",
    "\n",
    "def a():\n",
    "    while True:\n",
    "        try:\n",
    "            return int(input(\"What's x?\"))\n",
    "        except ValueError:\n",
    "            print(\"x is not an interger.\")\n",
    "\n",
    "main()"
   ]
  },
  {
   "cell_type": "markdown",
   "metadata": {},
   "source": [
    "想直接重問問題：pass"
   ]
  },
  {
   "cell_type": "code",
   "execution_count": 18,
   "metadata": {},
   "outputs": [
    {
     "name": "stdout",
     "output_type": "stream",
     "text": [
      "x is 1.\n"
     ]
    }
   ],
   "source": [
    "def main():\n",
    "    x=a()\n",
    "    print(f\"x is {x}.\")\n",
    "\n",
    "def a():\n",
    "    while True:\n",
    "        try:\n",
    "            return int(input(\"What's x?\"))\n",
    "        except ValueError:\n",
    "            pass\n",
    "\n",
    "main()"
   ]
  },
  {
   "cell_type": "markdown",
   "metadata": {},
   "source": [
    "再修覆：prompt"
   ]
  },
  {
   "cell_type": "code",
   "execution_count": 19,
   "metadata": {},
   "outputs": [
    {
     "name": "stdout",
     "output_type": "stream",
     "text": [
      "x is 1.\n"
     ]
    }
   ],
   "source": [
    "def main():\n",
    "    x=a(\"What's x?\")\n",
    "    print(f\"x is {x}.\")\n",
    "\n",
    "def a(prompt):\n",
    "    while True:\n",
    "        try:\n",
    "            return int(input(prompt))\n",
    "        except ValueError:\n",
    "            pass\n",
    "\n",
    "main()"
   ]
  }
 ],
 "metadata": {
  "kernelspec": {
   "display_name": ".venv",
   "language": "python",
   "name": "python3"
  },
  "language_info": {
   "codemirror_mode": {
    "name": "ipython",
    "version": 3
   },
   "file_extension": ".py",
   "mimetype": "text/x-python",
   "name": "python",
   "nbconvert_exporter": "python",
   "pygments_lexer": "ipython3",
   "version": "3.10.8"
  },
  "orig_nbformat": 4
 },
 "nbformat": 4,
 "nbformat_minor": 2
}
