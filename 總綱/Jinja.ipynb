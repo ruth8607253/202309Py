{
 "cells": [
  {
   "cell_type": "markdown",
   "metadata": {},
   "source": [
    "# Jinja\n",
    "一個架網站的環境，不是語言(跟html一個概念)。[原始網站](https://jinja.palletsprojects.com/en/3.1.x/)\n",
    "1. 只能在template裡面使用。\n",
    "2. 有些地方只能用單引號。\n",
    "3. 基本語法：\n",
    "    1. `{{ ... }}` 輸出寫法\n",
    "    \n",
    "        e.g.href=\"{{url_for('static',filename='css/bootstrap.css')}}\" -> 將static/css/bootstrap.css裡的css設定輸出給該html。\n",
    "\n",
    "    2. `{% ... %}` 描述語法\n",
    "    \n",
    "        e.g.{% extends \"base.jinja.html\" %} -> 描述：繼承base.jinja.html的所有語法\n",
    "    \n",
    "    3. `{# ... #}`：註釋語法"
   ]
  },
  {
   "cell_type": "markdown",
   "metadata": {},
   "source": [
    "## 引入CSS\n",
    "語法：假設我的css存在static/css裡。\n",
    "\n",
    "`<link rel=\"stylesheet\" href=\"{{url_for('static',filename='css/css名稱.css')}}\"> `\n",
    "\n",
    "範例：在html打\n",
    "\n",
    "`<link rel=\"stylesheet\" href=\"{{url_for('static',filename='css/style.css')}}\"> `\n",
    "\n",
    "或是`href=\"/static/css/style.css\"`，但不推薦用這個。這樣以後如果突然想改放在不同資料夾裡的效果還要去查路徑、改，讓程式去找比較實在。"
   ]
  },
  {
   "cell_type": "markdown",
   "metadata": {},
   "source": [
    "## 引入JS\n",
    "語法：假設我的js存在static/js裡。\n",
    "\n",
    "`<script src=\"{{url_for('static',filename='js/js名稱.js')}}\"></script>`\n",
    "\n",
    "範例：在html，body最下面打\n",
    "`<script src=\"{{url_for('static',filename='js/bootstrap.js')}}\"></script>`"
   ]
  },
  {
   "cell_type": "markdown",
   "metadata": {},
   "source": [
    "## 把網頁b連到網頁a裡\n",
    "語法：\n",
    "\n",
    "`<p><a href=\"{{url_for('網頁b的def名')}}\">超連結名稱</a></p>`\n",
    "\n",
    "範例：\n",
    "\n",
    "網頁b：\n",
    "```\n",
    "@app.route(\"/test\")\n",
    "def b():\n",
    "    return \"<h1>bbbb</h1>\"\n",
    "```\n",
    "\n",
    "在網頁a的html裡打：\n",
    "\n",
    "`<p><a href=\"{{url_for('b')}}\">bbb</a></p>`"
   ]
  },
  {
   "cell_type": "markdown",
   "metadata": {},
   "source": [
    "## 模板設計\n",
    "可以少打很多程式的各種方法。"
   ]
  },
  {
   "cell_type": "markdown",
   "metadata": {},
   "source": [
    "# 從這裡開始還沒打完"
   ]
  },
  {
   "cell_type": "markdown",
   "metadata": {},
   "source": [
    "### {% for ... in ... %} ... {% endfor %}\n",
    "用途：\n",
    "1. 引入別的地方的值。\n",
    "2. Loop(加上else的python語法)。\n",
    "\n",
    "#### 引入別的地方的值\n",
    "在.py設定網站的地方引入a這個list\n",
    "\n",
    "```\n",
    "@app.route(\"/\")\n",
    "def main():\n",
    "    a=[\"aaa\",\"bbb\",\"ccc\"]\n",
    "    return render_template('main.jinja.html',a=a)\n",
    "```\n",
    "\n",
    "1. a=[\"aaa\",\"bbb\",\"ccc\"] 在上面打a的值 \n",
    "\n",
    "2. a=a 把a引入 \n",
    "\n",
    "3. 在html輸入\n",
    "\n",
    "```\n",
    "{%for i in a%}\n",
    "    <li>\n",
    "        {{i}}\n",
    "    </li>\n",
    "{%endfor%}\n",
    "```\n",
    "網頁就會顯示\n",
    "\n",
    "+ aaa\n",
    "+ bbb\n",
    "+ ccc"
   ]
  },
  {
   "cell_type": "markdown",
   "metadata": {},
   "source": [
    "### 繼承-{% extends \"base.jinja.html\" %}\n",
    "繼承所有base裡的html設定 -> 不用重複打\n",
    "\n",
    "流程：\n",
    "1. 創一個"
   ]
  },
  {
   "cell_type": "markdown",
   "metadata": {},
   "source": [
    "### {%block title%}{%endblock%}"
   ]
  },
  {
   "cell_type": "markdown",
   "metadata": {},
   "source": [
    "### {%block content%}{%endblock%}"
   ]
  }
 ],
 "metadata": {
  "kernelspec": {
   "display_name": ".venv",
   "language": "python",
   "name": "python3"
  },
  "language_info": {
   "codemirror_mode": {
    "name": "ipython",
    "version": 3
   },
   "file_extension": ".py",
   "mimetype": "text/x-python",
   "name": "python",
   "nbconvert_exporter": "python",
   "pygments_lexer": "ipython3",
   "version": "3.10.8"
  },
  "orig_nbformat": 4
 },
 "nbformat": 4,
 "nbformat_minor": 2
}
