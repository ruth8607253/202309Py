{
 "cells": [
  {
   "cell_type": "markdown",
   "metadata": {},
   "source": [
    "# Flask\n",
    "一個架網站的環境，不是語言(跟html一個概念)。\n",
    "[原始網站](https://flask.palletsprojects.com/en/3.0.x/quickstart/)"
   ]
  },
  {
   "cell_type": "markdown",
   "metadata": {},
   "source": [
    "## 特性\n",
    "1. 偵錯：html或python哪裡寫錯會紅字。\n",
    "2. 有python測試介面。\n",
    "3. 可以用Jinja。\n",
    "4. 支援萬國碼。\n",
    "5. 免錢。\n",
    "6. [介紹Flask的網頁](https://seanyeh.medium.com/python-web-%E5%BF%AB%E9%80%9F%E5%BB%BA%E7%BD%AE%E7%B6%B2%E7%AB%99%E7%9A%84flask%E5%A5%97%E4%BB%B6-59318830bd63)"
   ]
  },
  {
   "cell_type": "markdown",
   "metadata": {},
   "source": [
    "## 環境建構\n",
    "1. 開啟虛擬環境\n",
    "2. 建構引入外部套件的環境(在裡面打Flask & 版本)"
   ]
  },
  {
   "cell_type": "markdown",
   "metadata": {},
   "source": [
    "## 網站基礎架構\n",
    "一個顯示Hello, World!的網站：\n",
    "\n",
    "1. 引入flask\n",
    "\n",
    "    `from flask import Flask`：從flask引入一個叫做Flask的class\n",
    "\n",
    "2. 基礎結構1\n",
    "    ```\n",
    "    app = Flask(__name__)\n",
    "\n",
    "    @app.route(\"/\")\n",
    "    def hello_world():\n",
    "        return \"<p>Hello, World!</p>\"\n",
    "    ```\n",
    "\n",
    "    `app`：flask應用程式的類別實體(為了與下一行@app連接，而取名相同的變數)。\n",
    "\n",
    "    `__name__`：就是`if __name__ == \"__main__\":`那個，將別的地方的模塊(有`__name__ == \"__main__`設定的class)傳過來給Flask\n",
    "\n",
    "    `@app.route(\"/\")`：下面的函式要把從Flask傳過來的模塊載入到哪個url位址中 => 根目錄。\n",
    "\n",
    "    `route()`：一個裝飾器(decorator)，註冊一個路徑(首頁)用\n",
    "\n",
    "    `\"/路徑\"` 新增一個網頁路徑\n",
    "\n",
    "    `return \"<p>Hello, World!</p>\"`：回傳引號裡的值(到頁面)。\n",
    "\n",
    "    *網頁末4碼：模擬是5000，真正是80"
   ]
  },
  {
   "cell_type": "markdown",
   "metadata": {},
   "source": [
    "## 範例：2個網頁\n",
    "```\n",
    "from flask import Flask\n",
    "\n",
    "app = Flask(__name__)\n",
    "\n",
    "@app.route(\"/\")\n",
    "def a():\n",
    "    return \"<h1>aaaa</h1>\"\n",
    "\n",
    "@app.route(\"/test\")\n",
    "def b():\n",
    "    return \"<h1>bbbb</h1>\"\n",
    "```\n",
    "### 執行網站\n",
    "1. 在終端機打`flask --app py檔名稱 run` 這個無法及時修正，要關閉->重開，且無偵錯功能 => **要打`flask --app py檔名稱 run --debug`**。\n",
    "\n",
    "    範例：`flask --app test run --debug`。\n",
    "\n",
    "2. 會顯示`http://127.0.0.1:5000`：Flask隨機產生的(模擬)網頁網址。\n",
    "\n",
    "    1. 一開始開啟的介面是首頁：顯示`<h1>aaaa</h1>`\n",
    "    2. 關閉按Ctrl + C\n",
    "\n",
    "3. 在`http://127.0.0.1:5000後面打/test` => `http://127.0.0.1:5000/test` -> 就會進到我新創的test頁面：顯示`<h1>bbbb</h1>`"
   ]
  },
  {
   "cell_type": "markdown",
   "metadata": {},
   "source": [
    "## 把做好的html連進python\n",
    "為了使用Jinja，需要：\n",
    "\n",
    "1. 開一個「templates(樣板)」的資料夾裝html：**把html裝進叫templates的資料夾內(名字不可更換)，jinja才能有效用**。\n",
    "2. 一個「static」的資料夾裝Image、CSS、JS：方便之後查找。\n",
    "\n",
    "### 流程\n",
    "1. 創templates、static(裡面再創Image、CSS、JS的資料夾)的資料夾。\n",
    "2. 把要連過來的html裝進templates裡 -> 把html檔改成.jina.html。範例：aaa.jinja.html\n",
    "3. 基礎結構\n",
    "    ```\n",
    "    from flask import render_template\n",
    "\n",
    "    @app.route('/')\n",
    "    def a():\n",
    "        return render_template('LLL.html')\n",
    "    ```\n",
    "\n",
    "    `from flask import render_template`：引入裝html的templates(資料夾)。\n",
    "\n",
    "    `return render_template('LLL.html')`：回傳LLL.html裡的值"
   ]
  }
 ],
 "metadata": {
  "kernelspec": {
   "display_name": ".venv",
   "language": "python",
   "name": "python3"
  },
  "language_info": {
   "name": "python",
   "version": "3.10.8"
  },
  "orig_nbformat": 4
 },
 "nbformat": 4,
 "nbformat_minor": 2
}
