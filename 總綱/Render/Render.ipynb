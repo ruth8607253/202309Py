{
 "cells": [
  {
   "cell_type": "markdown",
   "metadata": {},
   "source": [
    "# Render\n",
    "1. 免費架網站的地方，可以架靜態、動態網站。[原始網站](https://render.com/)\n",
    "2. 因為是免費的，所以：\n",
    "    1. 上傳網站需要一些時間。\n",
    "    2. 修改網站後如果想要立即更新，要手動更新，不然等20~40分鐘後會自動更新。\n",
    "    3. 如果網站觸擊率太低會自動關掉，下次要再打開(頁面)要等一陣子。\n",
    "\n",
    "因我的Render是用GitHub登入，所以下面的範例前提都是「用GitHub上面的repo開網頁」。repo有2個要求：\n",
    "1. 不能用中文取名(都用英文)\n",
    "2. 不能放一些跟網站無關的東西，最好repo一打開就是html、css、js、image(不要裝載資料夾裡)"
   ]
  },
  {
   "cell_type": "markdown",
   "metadata": {},
   "source": [
    "## 架設靜態網頁\n",
    "### 把GitHub的repo準備好\n",
    "1. 在GitHub開好一個repo -> 打開可以直接把做好的檔案丟進去的地方。\n",
    "\n",
    "    ![render1](./image/render1.jpg)\n",
    "\n",
    "2. 把html、css、image丟進去 -> 打備註 -> 按「Commit Changes」\n",
    "\n",
    "    ![render2](./image/render2.png)\n",
    "\n",
    "### 靜態網頁設定\n",
    "1. 谷歌Render -> 點開介面並登入 -> 開靜態網頁\n",
    "\n",
    "    ![render3](./image/render3.jpg)\n",
    "\n",
    "2. 點選剛剛創建的repo\n",
    "    ![render4](./image/render4.jpg)\n",
    "\n",
    "3. 在「Name」填入靜態網頁名稱(不影響顯示)；在「Publish directory」裡打「.」 => 現在位置。 -> 按Create Static Site\n",
    "    ![render5](./image/render5.jpg)\n",
    "\n",
    "4. 如果上傳成功會顯示網址(左上角)、創建網站時間、repo 修改編號 & 備註、「Your site is live」\n",
    "\n",
    "    ![render6](./image/render6.jpg)"
   ]
  },
  {
   "cell_type": "markdown",
   "metadata": {},
   "source": [
    "## 架設動態網頁\n",
    "### 把GitHub的repo準備好\n",
    "1. 在GitHub開好一個repo -> 打開可以直接把做好的檔案丟進去的地方。\n",
    "\n",
    "    ![render1](./image/render1.jpg)\n",
    "\n",
    "2. 把html、css、image丟進去 -> 打備註 -> 按「Commit Changes」\n",
    "\n",
    "    ![render2](./image/render2.png)\n",
    "\n",
    "### 動態網頁設定\n",
    "# 從這裡開始還沒打完"
   ]
  }
 ],
 "metadata": {
  "kernelspec": {
   "display_name": ".venv",
   "language": "python",
   "name": "python3"
  },
  "language_info": {
   "name": "python",
   "version": "3.10.8"
  },
  "orig_nbformat": 4
 },
 "nbformat": 4,
 "nbformat_minor": 2
}
