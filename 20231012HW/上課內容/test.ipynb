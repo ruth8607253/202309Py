{
 "cells": [
  {
   "cell_type": "code",
   "execution_count": 11,
   "metadata": {},
   "outputs": [
    {
     "name": "stdout",
     "output_type": "stream",
     "text": [
      "姓名：aaa\n",
      "年齡：25\n",
      "身高：180\n",
      "體重：70\n"
     ]
    }
   ],
   "source": [
    "class Person():\n",
    "    def __init__(self,name,age=18,weight=70,height=180):\n",
    "        self.name=name\n",
    "        self.age=age\n",
    "        self.weight=weight\n",
    "        self.height=height\n",
    "\n",
    "    def hello(self):\n",
    "        print(f\"姓名：{self.name}\\n年齡：{self.age}\\n身高：{self.height}\\n體重：{self.weight}\")\n",
    "\n",
    "p1=Person(name=\"aaa\",age=25)\n",
    "p1.hello()"
   ]
  },
  {
   "cell_type": "code",
   "execution_count": 12,
   "metadata": {},
   "outputs": [
    {
     "name": "stdout",
     "output_type": "stream",
     "text": [
      "姓名：bbb\n",
      "年齡：18\n",
      "身高：180\n",
      "體重：70\n",
      "id：123\n"
     ]
    }
   ],
   "source": [
    "class Student(Person):\n",
    "    def __init__(self,id, name, age=18, weight=70, height=180):\n",
    "        super().__init__(name, age, weight, height)\n",
    "        self.id=id\n",
    "    \n",
    "    def hellohello(self):\n",
    "        super().hello()\n",
    "        print(f\"id：{self.id}\")\n",
    "\n",
    "s1=Student(name=\"bbb\",id=\"123\")\n",
    "s1.hellohello()"
   ]
  },
  {
   "cell_type": "code",
   "execution_count": 15,
   "metadata": {},
   "outputs": [
    {
     "name": "stdout",
     "output_type": "stream",
     "text": [
      "姓名：bbb\n",
      "年齡：18\n",
      "身高：180\n",
      "體重：70\n",
      "id：123\n"
     ]
    }
   ],
   "source": [
    "class Student(Person):\n",
    "    def __init__(self,id,name,**dict):\n",
    "        #dict={\"age\":18, \"weight\":70, \"height\":180} 為方便理解才寫，這句可省略。dict名稱可隨便取，引用時用一樣的變數(名稱)即可\n",
    "        super().__init__(name,**dict)\n",
    "        self.id=id\n",
    "    \n",
    "    def hellohello(self):\n",
    "        super().hello()\n",
    "        print(f\"id：{self.id}\")\n",
    "\n",
    "s1=Student(name=\"bbb\",id=\"123\")\n",
    "s1.hellohello()"
   ]
  }
 ],
 "metadata": {
  "kernelspec": {
   "display_name": ".venv",
   "language": "python",
   "name": "python3"
  },
  "language_info": {
   "codemirror_mode": {
    "name": "ipython",
    "version": 3
   },
   "file_extension": ".py",
   "mimetype": "text/x-python",
   "name": "python",
   "nbconvert_exporter": "python",
   "pygments_lexer": "ipython3",
   "version": "3.10.8"
  },
  "orig_nbformat": 4
 },
 "nbformat": 4,
 "nbformat_minor": 2
}
