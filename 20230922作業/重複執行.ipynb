{
 "cells": [
  {
   "cell_type": "markdown",
   "metadata": {},
   "source": [
    "# 迴圈-Loop\n",
    "## 重複執行-range\n",
    "語法1：`range(stop)` 0~哪裡結束(輸入的是總共幾個數)"
   ]
  },
  {
   "cell_type": "code",
   "execution_count": 6,
   "metadata": {},
   "outputs": [
    {
     "name": "stdout",
     "output_type": "stream",
     "text": [
      "range(0, 10)\n",
      "0\n",
      "1\n",
      "2\n",
      "3\n",
      "4\n",
      "5\n",
      "6\n",
      "7\n",
      "8\n",
      "9\n"
     ]
    }
   ],
   "source": [
    "print(range(10))\n",
    "for i in range(10):\n",
    "    print(i)"
   ]
  },
  {
   "cell_type": "markdown",
   "metadata": {},
   "source": [
    "語法2：`range(start, stop, step=1)` \n",
    "\n",
    "start, stop 可以自己指定從哪裡開始~結束\n",
    "\n",
    "step=1 預設數字是+1加上去的，可以自己改+多少"
   ]
  },
  {
   "cell_type": "code",
   "execution_count": 34,
   "metadata": {},
   "outputs": [
    {
     "name": "stdout",
     "output_type": "stream",
     "text": [
      "8\n",
      "16\n",
      "24\n",
      "32\n",
      "40\n",
      "48\n"
     ]
    }
   ],
   "source": [
    "for i in range(8,50,2**3):\n",
    "    print(i)"
   ]
  },
  {
   "cell_type": "markdown",
   "metadata": {},
   "source": [
    "## for\n",
    "語法：`for 自訂變數 in 序列資料類型`"
   ]
  },
  {
   "cell_type": "code",
   "execution_count": 32,
   "metadata": {},
   "outputs": [
    {
     "name": "stdout",
     "output_type": "stream",
     "text": [
      "5050\n",
      "5050\n"
     ]
    }
   ],
   "source": [
    "# 計算1加到100\n",
    "j=0\n",
    "for i in range(1,101):\n",
    "    j += i\n",
    "print(j)\n",
    "\n",
    "# 或用sum\n",
    "print(sum(range(1,101)))"
   ]
  },
  {
   "cell_type": "code",
   "execution_count": 37,
   "metadata": {},
   "outputs": [
    {
     "name": "stdout",
     "output_type": "stream",
     "text": [
      "248\n",
      "248\n"
     ]
    }
   ],
   "source": [
    "# 延伸：可自己填入起始、結束值\n",
    "#for寫法\n",
    "j=0\n",
    "for i in range(int(input(\"請輸入起始值：\")),int(input(\"請輸入結束值：\"))+1):\n",
    "    j += i\n",
    "print(j)\n",
    "\n",
    "#sum寫法\n",
    "print(sum(range(int(input(\"請輸入起始值：\")),int(input(\"請輸入結束值：\"))+1)))"
   ]
  },
  {
   "cell_type": "markdown",
   "metadata": {},
   "source": [
    "### 巢狀迴圈"
   ]
  },
  {
   "cell_type": "code",
   "execution_count": 51,
   "metadata": {},
   "outputs": [
    {
     "name": "stdout",
     "output_type": "stream",
     "text": [
      "當a=1時：\n",
      "b=1,b=2,b=3,b=4,b=5,b=6,b=7,b=8,b=9,b=10.\n",
      "當a=2時：\n",
      "b=1,b=2,b=3,b=4,b=5,b=6,b=7,b=8,b=9,b=10.\n",
      "當a=3時：\n",
      "b=1,b=2,b=3,b=4,b=5,b=6,b=7,b=8,b=9,b=10.\n",
      "當a=4時：\n",
      "b=1,b=2,b=3,b=4,b=5,b=6,b=7,b=8,b=9,b=10.\n",
      "當a=5時：\n",
      "b=1,b=2,b=3,b=4,b=5,b=6,b=7,b=8,b=9,b=10.\n",
      "當a=6時：\n",
      "b=1,b=2,b=3,b=4,b=5,b=6,b=7,b=8,b=9,b=10.\n",
      "當a=7時：\n",
      "b=1,b=2,b=3,b=4,b=5,b=6,b=7,b=8,b=9,b=10.\n",
      "當a=8時：\n",
      "b=1,b=2,b=3,b=4,b=5,b=6,b=7,b=8,b=9,b=10.\n",
      "當a=9時：\n",
      "b=1,b=2,b=3,b=4,b=5,b=6,b=7,b=8,b=9,b=10.\n",
      "當a=10時：\n",
      "b=1,b=2,b=3,b=4,b=5,b=6,b=7,b=8,b=9,b=10.\n"
     ]
    }
   ],
   "source": [
    "for a in range(1,11):\n",
    "    print(f\"當a={a}時：\")\n",
    "    for b in range(1,11):\n",
    "        if b < 10:\n",
    "            print(f\"b={b}\",end=\",\")\n",
    "        else:\n",
    "            print(f\"b={b}\",end=\".\")\n",
    "    print()"
   ]
  },
  {
   "cell_type": "markdown",
   "metadata": {},
   "source": [
    "#### 用`.join`合併\n",
    "\n",
    "結構：分隔符號.join(可迭代對象)"
   ]
  },
  {
   "cell_type": "code",
   "execution_count": 47,
   "metadata": {},
   "outputs": [
    {
     "name": "stdout",
     "output_type": "stream",
     "text": [
      "當a=1時：\n",
      "b=1, b=2, b=3, b=4, b=5, b=6, b=7, b=8, b=9., b=10.\n",
      "當a=2時：\n",
      "b=1, b=2, b=3, b=4, b=5, b=6, b=7, b=8, b=9., b=10.\n",
      "當a=3時：\n",
      "b=1, b=2, b=3, b=4, b=5, b=6, b=7, b=8, b=9., b=10.\n",
      "當a=4時：\n",
      "b=1, b=2, b=3, b=4, b=5, b=6, b=7, b=8, b=9., b=10.\n",
      "當a=5時：\n",
      "b=1, b=2, b=3, b=4, b=5, b=6, b=7, b=8, b=9., b=10.\n",
      "當a=6時：\n",
      "b=1, b=2, b=3, b=4, b=5, b=6, b=7, b=8, b=9., b=10.\n",
      "當a=7時：\n",
      "b=1, b=2, b=3, b=4, b=5, b=6, b=7, b=8, b=9., b=10.\n",
      "當a=8時：\n",
      "b=1, b=2, b=3, b=4, b=5, b=6, b=7, b=8, b=9., b=10.\n",
      "當a=9時：\n",
      "b=1, b=2, b=3, b=4, b=5, b=6, b=7, b=8, b=9., b=10.\n",
      "當a=10時：\n",
      "b=1, b=2, b=3, b=4, b=5, b=6, b=7, b=8, b=9., b=10.\n"
     ]
    }
   ],
   "source": [
    "for a in range(1, 11):\n",
    "    print(f\"當a={a}時：\")\n",
    "    print(\", \".join(f\"b={b}\" if b < 9 else f\"b={b}.\" for b in range(1, 11)))"
   ]
  },
  {
   "cell_type": "markdown",
   "metadata": {},
   "source": [
    "結構：分隔符號.join(條件成立執行A程式 if 條件 else 執行B程式 for 變數 in range)"
   ]
  },
  {
   "cell_type": "code",
   "execution_count": 77,
   "metadata": {},
   "outputs": [
    {
     "name": "stdout",
     "output_type": "stream",
     "text": [
      "1 X 1 =  1, 1 X 2 =  2, 1 X 3 =  3, 1 X 4 =  4, 1 X 5 =  5, 1 X 6 =  6, 1 X 7 =  7, 1 X 8 =  8, 1 X 9 =  9.\n",
      "2 X 1 =  2, 2 X 2 =  4, 2 X 3 =  6, 2 X 4 =  8, 2 X 5 = 10, 2 X 6 = 12, 2 X 7 = 14, 2 X 8 = 16, 2 X 9 = 18.\n",
      "3 X 1 =  3, 3 X 2 =  6, 3 X 3 =  9, 3 X 4 = 12, 3 X 5 = 15, 3 X 6 = 18, 3 X 7 = 21, 3 X 8 = 24, 3 X 9 = 27.\n",
      "4 X 1 =  4, 4 X 2 =  8, 4 X 3 = 12, 4 X 4 = 16, 4 X 5 = 20, 4 X 6 = 24, 4 X 7 = 28, 4 X 8 = 32, 4 X 9 = 36.\n",
      "5 X 1 =  5, 5 X 2 = 10, 5 X 3 = 15, 5 X 4 = 20, 5 X 5 = 25, 5 X 6 = 30, 5 X 7 = 35, 5 X 8 = 40, 5 X 9 = 45.\n",
      "6 X 1 =  6, 6 X 2 = 12, 6 X 3 = 18, 6 X 4 = 24, 6 X 5 = 30, 6 X 6 = 36, 6 X 7 = 42, 6 X 8 = 48, 6 X 9 = 54.\n",
      "7 X 1 =  7, 7 X 2 = 14, 7 X 3 = 21, 7 X 4 = 28, 7 X 5 = 35, 7 X 6 = 42, 7 X 7 = 49, 7 X 8 = 56, 7 X 9 = 63.\n",
      "8 X 1 =  8, 8 X 2 = 16, 8 X 3 = 24, 8 X 4 = 32, 8 X 5 = 40, 8 X 6 = 48, 8 X 7 = 56, 8 X 8 = 64, 8 X 9 = 72.\n",
      "9 X 1 =  9, 9 X 2 = 18, 9 X 3 = 27, 9 X 4 = 36, 9 X 5 = 45, 9 X 6 = 54, 9 X 7 = 63, 9 X 8 = 72, 9 X 9 = 81.\n"
     ]
    }
   ],
   "source": [
    "# 99乘法表\n",
    "for a in range(1,10):\n",
    "    for b in range(1,9):\n",
    "        print(f\"{a:<2}X {b:<2}= {a*b:>2}\",end=\", \")\n",
    "    for b in range(9,10):\n",
    "        print(f\"{a:<2}X {b:<2}= {a*b:>2}\",end=\".\")\n",
    "    print()"
   ]
  },
  {
   "cell_type": "code",
   "execution_count": 79,
   "metadata": {},
   "outputs": [
    {
     "name": "stdout",
     "output_type": "stream",
     "text": [
      "1 X 1 =  1, 1 X 2 =  2, 1 X 3 =  3, 1 X 4 =  4, 1 X 5 =  5, 1 X 6 =  6, 1 X 7 =  7, 1 X 8 =  8, 1 X 9 =  9. \n",
      "2 X 1 =  2, 2 X 2 =  4, 2 X 3 =  6, 2 X 4 =  8, 2 X 5 = 10, 2 X 6 = 12, 2 X 7 = 14, 2 X 8 = 16, 2 X 9 = 18. \n",
      "3 X 1 =  3, 3 X 2 =  6, 3 X 3 =  9, 3 X 4 = 12, 3 X 5 = 15, 3 X 6 = 18, 3 X 7 = 21, 3 X 8 = 24, 3 X 9 = 27. \n",
      "4 X 1 =  4, 4 X 2 =  8, 4 X 3 = 12, 4 X 4 = 16, 4 X 5 = 20, 4 X 6 = 24, 4 X 7 = 28, 4 X 8 = 32, 4 X 9 = 36. \n",
      "5 X 1 =  5, 5 X 2 = 10, 5 X 3 = 15, 5 X 4 = 20, 5 X 5 = 25, 5 X 6 = 30, 5 X 7 = 35, 5 X 8 = 40, 5 X 9 = 45. \n",
      "6 X 1 =  6, 6 X 2 = 12, 6 X 3 = 18, 6 X 4 = 24, 6 X 5 = 30, 6 X 6 = 36, 6 X 7 = 42, 6 X 8 = 48, 6 X 9 = 54. \n",
      "7 X 1 =  7, 7 X 2 = 14, 7 X 3 = 21, 7 X 4 = 28, 7 X 5 = 35, 7 X 6 = 42, 7 X 7 = 49, 7 X 8 = 56, 7 X 9 = 63. \n",
      "8 X 1 =  8, 8 X 2 = 16, 8 X 3 = 24, 8 X 4 = 32, 8 X 5 = 40, 8 X 6 = 48, 8 X 7 = 56, 8 X 8 = 64, 8 X 9 = 72. \n",
      "9 X 1 =  9, 9 X 2 = 18, 9 X 3 = 27, 9 X 4 = 36, 9 X 5 = 45, 9 X 6 = 54, 9 X 7 = 63, 9 X 8 = 72, 9 X 9 = 81. \n"
     ]
    }
   ],
   "source": [
    "for a in range(1,10):\n",
    "    print(\", \".join(f\"{a:<2}X {b:<2}= {a*b:>2}\" if b<9 else f\"{a:<2}X {b:<2}= {a*b:>2}. \" for b in range(1,10)))"
   ]
  },
  {
   "cell_type": "markdown",
   "metadata": {},
   "source": [
    "## while\n",
    "語法：\n",
    "\n",
    "while 條件成立：\n",
    "\n",
    "        執行以下程式"
   ]
  },
  {
   "cell_type": "code",
   "execution_count": 69,
   "metadata": {},
   "outputs": [
    {
     "name": "stdout",
     "output_type": "stream",
     "text": [
      "1加到20=165\n"
     ]
    }
   ],
   "source": [
    "a=0\n",
    "b=int(input(\"請輸入起始值：\"))\n",
    "c=int(input(\"請輸入結束值：\"))\n",
    "while b <= c:\n",
    "    a += b\n",
    "    b += 1\n",
    "\n",
    "print(f\"{b}加到{c}={a}\")"
   ]
  },
  {
   "cell_type": "code",
   "execution_count": 9,
   "metadata": {},
   "outputs": [
    {
     "name": "stdout",
     "output_type": "stream",
     "text": [
      "9的因數：1,3,9\n"
     ]
    }
   ],
   "source": [
    "#求所有因數\n",
    "num =int(input(\"請輸入整數，求所有因數：\"))\n",
    "print(f\"{num}的因數：\",end=\"\")\n",
    "for i in range(1,num):\n",
    "    if num%i==0:\n",
    "        print(i,end=\",\")\n",
    "print(num)"
   ]
  },
  {
   "cell_type": "markdown",
   "metadata": {},
   "source": [
    "練習題：\n",
    "\n",
    "小明想買一台機車(39,800)，按月存款，請問多少個月後可以存到這筆錢？\n",
    "\n",
    "前提：\n",
    "\n",
    "1. 要標示月份，存款共存了多少個月、還剩多少錢要存。\n",
    "\n",
    "2. 讓人輸入存款金額\n",
    "\n",
    "3. 存到後要標示：恭喜！你已經存夠了，並不要表示金額\n"
   ]
  },
  {
   "cell_type": "code",
   "execution_count": 14,
   "metadata": {},
   "outputs": [],
   "source": [
    "import pyinputplus as pyip\n",
    "\n",
    "month=1\n",
    "money=0\n",
    "a=0\n",
    "while a < 39800:\n",
    "    money=pyip.int(input(f\"請輸入第{month}個月的存款\"))\n",
    "    if money < 39800:\n",
    "        print(f\"目前距離目標還差：{39800-money}\")\n",
    "    else:\n",
    "        print(\"恭喜！你已經存夠了\")\n",
    "        break\n",
    "    a+=money\n",
    "    month+=1"
   ]
  },
  {
   "cell_type": "code",
   "execution_count": 8,
   "metadata": {},
   "outputs": [],
   "source": [
    "while(True):\n",
    "    a=input(\"請輸入數字或按[q]離開\")\n",
    "    if a==\"q\" or \"Q\":\n",
    "        break\n",
    "    else:\n",
    "        try:\n",
    "            value = int(a)\n",
    "        except ValueError:\n",
    "            print(\"你輸入的不是整數\")\n",
    "        else:\n",
    "            if not value %2 ==0:\n",
    "                print(f\"{value}的平方是{value**2}\")\n",
    "            else:\n",
    "                print(f\"{value}為偶數，不做任何動作\")"
   ]
  },
  {
   "cell_type": "code",
   "execution_count": 6,
   "metadata": {},
   "outputs": [],
   "source": [
    "while(True):\n",
    "    a=input(\"請輸入數字或按[q]離開\")\n",
    "    if a==\"q\" or \"Q\":\n",
    "        break\n",
    "    value = int(a)\n",
    "    if value %2 ==0:\n",
    "        print(f\"{value}為偶數，不做任何動作\")\n",
    "        continue        \n",
    "    else:\n",
    "        print(f\"{value}的平方是{value**2}\")"
   ]
  }
 ],
 "metadata": {
  "kernelspec": {
   "display_name": ".venv",
   "language": "python",
   "name": "python3"
  },
  "language_info": {
   "codemirror_mode": {
    "name": "ipython",
    "version": 3
   },
   "file_extension": ".py",
   "mimetype": "text/x-python",
   "name": "python",
   "nbconvert_exporter": "python",
   "pygments_lexer": "ipython3",
   "version": "3.10.8"
  },
  "orig_nbformat": 4
 },
 "nbformat": 4,
 "nbformat_minor": 2
}
