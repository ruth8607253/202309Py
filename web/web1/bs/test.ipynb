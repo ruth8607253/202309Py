{
 "cells": [
  {
   "cell_type": "code",
   "execution_count": null,
   "metadata": {},
   "outputs": [],
   "source": [
    "import datasource\n",
    "import pandas as pd\n",
    "\n",
    "data:list[tuple] = datasource.lastest_datetime_data()\n",
    "#dataFrame = pd.DataFrame(data)\n",
    "for items in data:\n",
    "    for item in items:\n",
    "        print(item)\n",
    "    print(\"=========\")"
   ]
  }
 ],
 "metadata": {
  "language_info": {
   "name": "python"
  }
 },
 "nbformat": 4,
 "nbformat_minor": 2
}
